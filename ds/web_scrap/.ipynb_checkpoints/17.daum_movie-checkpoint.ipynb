{
 "cells": [
  {
   "cell_type": "code",
   "execution_count": 1,
   "id": "d2391997-aa0f-48f5-83d1-4250c8671f89",
   "metadata": {},
   "outputs": [],
   "source": [
    "import requests\n",
    "from bs4 import BeautifulSoup as bs"
   ]
  },
  {
   "cell_type": "code",
   "execution_count": 12,
   "id": "bca8ea86-15ce-4711-ab67-3b1cf899740a",
   "metadata": {},
   "outputs": [
    {
     "data": {
      "text/plain": [
       "<Response [200]>"
      ]
     },
     "execution_count": 12,
     "metadata": {},
     "output_type": "execute_result"
    }
   ],
   "source": [
    "url = \"https://movie.daum.net/ranking/reservation\"\n",
    "html = requests.get(url)\n",
    "html"
   ]
  },
  {
   "cell_type": "code",
   "execution_count": 13,
   "id": "88f055b0-b493-4299-89dc-77342b46f7c6",
   "metadata": {},
   "outputs": [],
   "source": [
    "soup = bs(html.text, 'lxml')"
   ]
  },
  {
   "cell_type": "code",
   "execution_count": 16,
   "id": "13384005-cb68-42ae-b7ee-156f6377979c",
   "metadata": {},
   "outputs": [],
   "source": [
    "movie_tag_list = soup.select('strong.tit_item>a')"
   ]
  },
  {
   "cell_type": "code",
   "execution_count": 19,
   "id": "40d14abb-3189-4cd1-bed4-cd3f4a014252",
   "metadata": {},
   "outputs": [
    {
     "name": "stdout",
     "output_type": "stream",
     "text": [
      "[<a class=\"link_txt\" data-tiara-layer=\"moviename\" href=\"/moviedb/main?movieId=160244\">범죄도시3</a>, <a class=\"link_txt\" data-tiara-layer=\"moviename\" href=\"/moviedb/main?movieId=43294\">플래시</a>, <a class=\"link_txt\" data-tiara-layer=\"moviename\" href=\"/moviedb/main?movieId=165969\">트랜스포머: 비스트의 서막</a>, <a class=\"link_txt\" data-tiara-layer=\"moviename\" href=\"/moviedb/main?movieId=163777\">엘리멘탈</a>, <a class=\"link_txt\" data-tiara-layer=\"moviename\" href=\"/moviedb/main?movieId=52733\">극장판 포켓몬스터DP : 아르세우스 초극의 시공으로</a>, <a class=\"link_txt\" data-tiara-layer=\"moviename\" href=\"/moviedb/main?movieId=129156\">가디언즈 오브 갤럭시: Volume 3</a>, <a class=\"link_txt\" data-tiara-layer=\"moviename\" href=\"/moviedb/main?movieId=155850\">귀공자</a>, <a class=\"link_txt\" data-tiara-layer=\"moviename\" href=\"/moviedb/main?movieId=169897\">그 여름</a>, <a class=\"link_txt\" data-tiara-layer=\"moviename\" href=\"/moviedb/main?movieId=133193\">인어공주</a>, <a class=\"link_txt\" data-tiara-layer=\"moviename\" href=\"/moviedb/main?movieId=169553\">자우림, 더 원더랜드</a>]\n"
     ]
    }
   ],
   "source": [
    "print(movie_tag_list[:10])"
   ]
  },
  {
   "cell_type": "code",
   "execution_count": 24,
   "id": "423a1573-4bb6-4497-8824-4898d03459a8",
   "metadata": {},
   "outputs": [
    {
     "name": "stdout",
     "output_type": "stream",
     "text": [
      "1: 범죄도시3\n",
      "2: 플래시\n",
      "3: 트랜스포머: 비스트의 서막\n",
      "4: 엘리멘탈\n",
      "5: 극장판 포켓몬스터DP : 아르세우스 초극의 시공으로\n",
      "6: 가디언즈 오브 갤럭시: Volume 3\n",
      "7: 귀공자\n",
      "8: 그 여름\n",
      "9: 인어공주\n",
      "10: 자우림, 더 원더랜드\n",
      "11: 분노의 질주: 라이드 오어 다이\n",
      "12: 남은 인생 10년\n",
      "13: 스즈메의 문단속\n",
      "14: 명탐정코난: 하이바라 아이 이야기 ~흑철의 미스터리 트레인\n",
      "15: 아기공룡 둘리-얼음별 대모험 리마스터링\n",
      "16: 부기맨\n",
      "17: 슈퍼 마리오 브라더스\n",
      "18: 하나님의 마음\n",
      "19: 슬픔의 삼각형\n",
      "20: 익스트림 페스티벌\n"
     ]
    }
   ],
   "source": [
    "movie_names = []\n",
    "for i, tag in enumerate(movie_tag_list):\n",
    "    print(str(i+1) + ':', tag.text)\n",
    "    movie_names.append(tag.text)"
   ]
  },
  {
   "cell_type": "code",
   "execution_count": 20,
   "id": "446127a3-6d9d-4235-8b44-a4c8def1f6fc",
   "metadata": {},
   "outputs": [
    {
     "name": "stdout",
     "output_type": "stream",
     "text": [
      "20\n"
     ]
    }
   ],
   "source": [
    "image_tags = soup.select('div.poster_movie>img')\n",
    "print(len(image_tags))"
   ]
  },
  {
   "cell_type": "code",
   "execution_count": 21,
   "id": "4fa0386f-bb22-4c13-8bd4-573b0a02d423",
   "metadata": {},
   "outputs": [
    {
     "name": "stdout",
     "output_type": "stream",
     "text": [
      "<img alt=\"범죄도시3\" class=\"img_thumb\" src=\"https://img1.daumcdn.net/thumb/C408x596/?fname=https%3A%2F%2Ft1.daumcdn.net%2Fmovie%2Fb05fec37909f3c46d8ada73ba1d2bc2f8868e869\"/>\n"
     ]
    }
   ],
   "source": [
    "print(image_tags[0])"
   ]
  },
  {
   "cell_type": "code",
   "execution_count": 22,
   "id": "0abaa817-bea8-4bb8-a48f-86d1e2e9f4ef",
   "metadata": {},
   "outputs": [
    {
     "data": {
      "text/plain": [
       "['https://img1.daumcdn.net/thumb/C408x596/?fname=https%3A%2F%2Ft1.daumcdn.net%2Fmovie%2Fb05fec37909f3c46d8ada73ba1d2bc2f8868e869',\n",
       " 'https://img1.daumcdn.net/thumb/C408x596/?fname=https%3A%2F%2Ft1.daumcdn.net%2Fmovie%2F947a0d62f2772aa0f5c73b86b631779ef1183879',\n",
       " 'https://img1.daumcdn.net/thumb/C408x596/?fname=https%3A%2F%2Ft1.daumcdn.net%2Fmovie%2F69b2d6ef76c2c5b37b0641b187d1efd7f0636e41',\n",
       " 'https://img1.daumcdn.net/thumb/C408x596/?fname=https%3A%2F%2Ft1.daumcdn.net%2Fmovie%2Fe4ce2c6ae33edb0ef32d5614b367f85c10a7316c',\n",
       " 'https://img1.daumcdn.net/thumb/C408x596/?fname=https%3A%2F%2Ft1.daumcdn.net%2Fmovie%2F1dd23ff0117caadf6e2fc7db6184eec157e8d8f5',\n",
       " 'https://img1.daumcdn.net/thumb/C408x596/?fname=https%3A%2F%2Ft1.daumcdn.net%2Fmovie%2F6b0eb68a4c944965ae78c83112bbb799c25b876b',\n",
       " 'https://img1.daumcdn.net/thumb/C408x596/?fname=https%3A%2F%2Ft1.daumcdn.net%2Fmovie%2Fa41e4f0459791741de8afed19cc1164027c1abc0',\n",
       " 'https://img1.daumcdn.net/thumb/C408x596/?fname=https%3A%2F%2Ft1.daumcdn.net%2Fmovie%2F4cac76629657c47ae3a2f512b06bf3b6a7cfd901',\n",
       " 'https://img1.daumcdn.net/thumb/C408x596/?fname=https%3A%2F%2Ft1.daumcdn.net%2Fmovie%2Fbba5ebdc0a4edab6b44ed2592227a39b179d52da',\n",
       " 'https://img1.daumcdn.net/thumb/C408x596/?fname=https%3A%2F%2Ft1.daumcdn.net%2Fmovie%2F816304398cc241d37ef83215fac3c5be82b4be6c',\n",
       " 'https://img1.daumcdn.net/thumb/C408x596/?fname=https%3A%2F%2Ft1.daumcdn.net%2Fmovie%2F6fed61e73b455aba36c3c4b434b6fafe2944e698',\n",
       " 'https://img1.daumcdn.net/thumb/C408x596/?fname=https%3A%2F%2Ft1.daumcdn.net%2Fmovie%2F0df0e75760a60ae1d17cee78a3294770b54f03c4',\n",
       " 'https://img1.daumcdn.net/thumb/C408x596/?fname=https%3A%2F%2Ft1.daumcdn.net%2Fmovie%2F3a684ccaeb7aeac8e3f060ffe7249f7fe039443a',\n",
       " 'https://img1.daumcdn.net/thumb/C408x596/?fname=https%3A%2F%2Ft1.daumcdn.net%2Fmovie%2F64e400b5accb1ba88ad13adad4c8b3b962812a1a',\n",
       " 'https://img1.daumcdn.net/thumb/C408x596/?fname=https%3A%2F%2Ft1.daumcdn.net%2Fmovie%2F353b6aea0624a60cfeb7a7d402e5e2409a22d28d',\n",
       " 'https://img1.daumcdn.net/thumb/C408x596/?fname=https%3A%2F%2Ft1.daumcdn.net%2Fmovie%2Faba4ad78b86bedd4014b738b68e88e915aa0a686',\n",
       " 'https://img1.daumcdn.net/thumb/C408x596/?fname=https%3A%2F%2Ft1.daumcdn.net%2Fmovie%2F8876ecefc861afc397a9943ab781bdf0316c4983',\n",
       " 'https://img1.daumcdn.net/thumb/C408x596/?fname=https%3A%2F%2Ft1.daumcdn.net%2Fmovie%2Ff3bb48813acf0cbc6bd9b988916455de3288f266',\n",
       " 'https://img1.daumcdn.net/thumb/C408x596/?fname=https%3A%2F%2Ft1.daumcdn.net%2Fmovie%2F4a969d22500d00bf312707c53dc5433bcf942c68',\n",
       " 'https://img1.daumcdn.net/thumb/C408x596/?fname=https%3A%2F%2Ft1.daumcdn.net%2Fmovie%2Fde6cc50d966aa3eb9f0f2d24a643157cb123e58f']"
      ]
     },
     "execution_count": 22,
     "metadata": {},
     "output_type": "execute_result"
    }
   ],
   "source": [
    "image_urls = []\n",
    "for image_tag in image_tags:\n",
    "    image_urls.append(image_tag.get('src')) #class, id 외의 attribute은 .get ()\n",
    "\n",
    "image_urls"
   ]
  },
  {
   "cell_type": "code",
   "execution_count": 23,
   "id": "f3decbee-d726-44a8-945e-7f51f98c7504",
   "metadata": {},
   "outputs": [
    {
     "name": "stdout",
     "output_type": "stream",
     "text": [
      "20\n"
     ]
    }
   ],
   "source": [
    "print(len(image_urls))"
   ]
  },
  {
   "cell_type": "code",
   "execution_count": 26,
   "id": "d0286bbc-8ac1-42af-ad21-83c106b08124",
   "metadata": {},
   "outputs": [],
   "source": [
    "import os\n",
    "def download_image(img_folder, url, image_name):\n",
    "    html_image = requests.get(url) #접근\n",
    "    image_file = open(os.path.join(img_folder, image_name+ '.jpg'),'wb')\n",
    "    chunk_size = 1000000 \n",
    "    for chunk in html_image.iter_content(chunk_size): #1gb씩 write 하고 memory 비움\n",
    "        image_file.write(chunk)\n",
    "        \n",
    "    image_file.close()"
   ]
  },
  {
   "cell_type": "code",
   "execution_count": 27,
   "id": "d4b7c22a-cb68-4bd0-9b66-8e74ddd5c899",
   "metadata": {},
   "outputs": [],
   "source": [
    "image_folder = 'data/image'\n",
    "for url, name in zip(image_urls, movie_names):\n",
    "    download_image(image_folder, url, name)"
   ]
  },
  {
   "cell_type": "code",
   "execution_count": null,
   "id": "45a3da83-33a1-450d-8bc8-1ea49666af2b",
   "metadata": {},
   "outputs": [],
   "source": []
  }
 ],
 "metadata": {
  "kernelspec": {
   "display_name": "Python 3 (ipykernel)",
   "language": "python",
   "name": "python3"
  },
  "language_info": {
   "codemirror_mode": {
    "name": "ipython",
    "version": 3
   },
   "file_extension": ".py",
   "mimetype": "text/x-python",
   "name": "python",
   "nbconvert_exporter": "python",
   "pygments_lexer": "ipython3",
   "version": "3.9.16"
  }
 },
 "nbformat": 4,
 "nbformat_minor": 5
}
