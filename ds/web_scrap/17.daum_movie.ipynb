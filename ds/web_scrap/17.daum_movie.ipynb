{
 "cells": [
  {
   "cell_type": "code",
   "execution_count": null,
   "id": "d2391997-aa0f-48f5-83d1-4250c8671f89",
   "metadata": {},
   "outputs": [],
   "source": [
    "import requests\n",
    "from bs4 import BeautifulSoup as bs"
   ]
  },
  {
   "cell_type": "code",
   "execution_count": null,
   "id": "bca8ea86-15ce-4711-ab67-3b1cf899740a",
   "metadata": {},
   "outputs": [],
   "source": [
    "url = \"https://movie.daum.net/ranking/reservation\"\n",
    "html = requests.get(url)\n",
    "html"
   ]
  },
  {
   "cell_type": "code",
   "execution_count": null,
   "id": "88f055b0-b493-4299-89dc-77342b46f7c6",
   "metadata": {},
   "outputs": [],
   "source": [
    "soup = bs(html.text, 'lxml')"
   ]
  },
  {
   "cell_type": "code",
   "execution_count": null,
   "id": "13384005-cb68-42ae-b7ee-156f6377979c",
   "metadata": {},
   "outputs": [],
   "source": [
    "movie_tag_list = soup.select('strong.tit_item>a')"
   ]
  },
  {
   "cell_type": "code",
   "execution_count": null,
   "id": "40d14abb-3189-4cd1-bed4-cd3f4a014252",
   "metadata": {},
   "outputs": [],
   "source": [
    "print(movie_tag_list[:10])"
   ]
  },
  {
   "cell_type": "code",
   "execution_count": null,
   "id": "423a1573-4bb6-4497-8824-4898d03459a8",
   "metadata": {},
   "outputs": [],
   "source": [
    "movie_names = []\n",
    "for i, tag in enumerate(movie_tag_list):\n",
    "    print(str(i+1) + ':', tag.text)\n",
    "    movie_names.append(tag.text)"
   ]
  },
  {
   "cell_type": "code",
   "execution_count": null,
   "id": "446127a3-6d9d-4235-8b44-a4c8def1f6fc",
   "metadata": {},
   "outputs": [],
   "source": [
    "image_tags = soup.select('div.poster_movie>img')\n",
    "print(len(image_tags))"
   ]
  },
  {
   "cell_type": "code",
   "execution_count": null,
   "id": "4fa0386f-bb22-4c13-8bd4-573b0a02d423",
   "metadata": {},
   "outputs": [],
   "source": [
    "print(image_tags[0])"
   ]
  },
  {
   "cell_type": "code",
   "execution_count": null,
   "id": "0abaa817-bea8-4bb8-a48f-86d1e2e9f4ef",
   "metadata": {},
   "outputs": [],
   "source": [
    "image_urls = []\n",
    "for image_tag in image_tags:\n",
    "    image_urls.append(image_tag.get('src')) #class, id 외의 attribute은 .get ()\n",
    "\n",
    "image_urls"
   ]
  },
  {
   "cell_type": "code",
   "execution_count": null,
   "id": "f3decbee-d726-44a8-945e-7f51f98c7504",
   "metadata": {},
   "outputs": [],
   "source": [
    "print(len(image_urls))"
   ]
  },
  {
   "cell_type": "code",
   "execution_count": null,
   "id": "d0286bbc-8ac1-42af-ad21-83c106b08124",
   "metadata": {},
   "outputs": [],
   "source": [
    "import os\n",
    "def download_image(img_folder, url, image_name):\n",
    "    html_image = requests.get(url) #접근\n",
    "    image_file = open(os.path.join(img_folder, image_name+ '.jpg'),'wb')\n",
    "    chunk_size = 1000000 \n",
    "    for chunk in html_image.iter_content(chunk_size): #1gb씩 write 하고 memory 비움\n",
    "        image_file.write(chunk)\n",
    "        \n",
    "    image_file.close()"
   ]
  },
  {
   "cell_type": "code",
   "execution_count": null,
   "id": "d4b7c22a-cb68-4bd0-9b66-8e74ddd5c899",
   "metadata": {},
   "outputs": [],
   "source": [
    "image_folder = 'data/image'\n",
    "for url, name in zip(image_urls, movie_names):\n",
    "    download_image(image_folder, url, name)"
   ]
  },
  {
   "cell_type": "code",
   "execution_count": null,
   "id": "45a3da83-33a1-450d-8bc8-1ea49666af2b",
   "metadata": {},
   "outputs": [],
   "source": []
  }
 ],
 "metadata": {
  "kernelspec": {
   "display_name": "Python 3 (ipykernel)",
   "language": "python",
   "name": "python3"
  },
  "language_info": {
   "codemirror_mode": {
    "name": "ipython",
    "version": 3
   },
   "file_extension": ".py",
   "mimetype": "text/x-python",
   "name": "python",
   "nbconvert_exporter": "python",
   "pygments_lexer": "ipython3",
   "version": "3.9.16"
  }
 },
 "nbformat": 4,
 "nbformat_minor": 5
}
