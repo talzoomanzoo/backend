{
 "cells": [
  {
   "cell_type": "code",
   "execution_count": 1,
   "id": "572f00b3-a5a3-43a5-9d93-737feb151764",
   "metadata": {},
   "outputs": [],
   "source": [
    "import numpy as np"
   ]
  },
  {
   "cell_type": "code",
   "execution_count": 5,
   "id": "fbd08514-6959-45e8-8034-4b2f91b773b0",
   "metadata": {},
   "outputs": [
    {
     "name": "stdout",
     "output_type": "stream",
     "text": [
      "9\n",
      "15\n",
      "64\n",
      "28\n",
      "89\n"
     ]
    }
   ],
   "source": [
    "np.random.seed(10) #random output을 특정값으로 고정 #seed의 파라미터가 약속되면 output 고정됨\n",
    "\n",
    "for i in range(5):\n",
    "    print(np.random.randint(100))"
   ]
  },
  {
   "cell_type": "code",
   "execution_count": null,
   "id": "8dcaf159-9782-4203-becb-fc07e979e913",
   "metadata": {},
   "outputs": [],
   "source": []
  }
 ],
 "metadata": {
  "kernelspec": {
   "display_name": "Python 3 (ipykernel)",
   "language": "python",
   "name": "python3"
  },
  "language_info": {
   "codemirror_mode": {
    "name": "ipython",
    "version": 3
   },
   "file_extension": ".py",
   "mimetype": "text/x-python",
   "name": "python",
   "nbconvert_exporter": "python",
   "pygments_lexer": "ipython3",
   "version": "3.9.16"
  }
 },
 "nbformat": 4,
 "nbformat_minor": 5
}
