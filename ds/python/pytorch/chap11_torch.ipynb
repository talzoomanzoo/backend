{
 "cells": [
  {
   "cell_type": "code",
   "execution_count": 1,
   "metadata": {},
   "outputs": [],
   "source": [
    "import torch\n",
    "import numpy as np\n",
    "import torch.nn as nn\n",
    "import torch.optim as optim\n",
    "from torch.utils.data import DataLoader, TensorDataset"
   ]
  },
  {
   "cell_type": "code",
   "execution_count": 2,
   "metadata": {},
   "outputs": [],
   "source": [
    "device=('cuda' if torch.cuda.is_available() else 'cpu')"
   ]
  },
  {
   "cell_type": "code",
   "execution_count": 3,
   "metadata": {},
   "outputs": [],
   "source": [
    "data_set=np.loadtxt('data/pima-indians-diabetes3.csv', delimiter=',', skiprows=1) #numpy에서 첫줄 들어오니까 한줄 skip 하고 가져오기"
   ]
  },
  {
   "cell_type": "code",
   "execution_count": 4,
   "metadata": {},
   "outputs": [],
   "source": [
    "class Pima(nn.Module):\n",
    "    def __init__(self):\n",
    "        super(Pima, self).__init__()\n",
    "        self.hidden_linear=nn.Linear(8, 12)\n",
    "        self.hidden_activation=nn.ReLU()\n",
    "        self.hidden_linear2=nn.Linear(12, 8)\n",
    "        self.hidden_activation2=nn.ReLU()\n",
    "        self.output_linear=nn.Linear(8,1)\n",
    "        self.output_activation=nn.Sigmoid()\n",
    "        \n",
    "    def forward(self, x):\n",
    "        x=self.hidden_linear(x)\n",
    "        x=self.hidden_activation(x)\n",
    "        x=self.hidden_linear2(x)\n",
    "        x=self.hidden_activation2(x)\n",
    "        x=self.output_linear(x)\n",
    "        x=self.output_activation(x)\n",
    "        \n",
    "        return x\n",
    "    \n",
    "    def predict(self, x):\n",
    "        pred=self.forward(x)\n",
    "        if pred >= 0.5:\n",
    "            return 1\n",
    "        else: \n",
    "            return 0"
   ]
  },
  {
   "cell_type": "code",
   "execution_count": 5,
   "metadata": {},
   "outputs": [
    {
     "data": {
      "text/plain": [
       "Pima(\n",
       "  (hidden_linear): Linear(in_features=8, out_features=12, bias=True)\n",
       "  (hidden_activation): ReLU()\n",
       "  (hidden_linear2): Linear(in_features=12, out_features=8, bias=True)\n",
       "  (hidden_activation2): ReLU()\n",
       "  (output_linear): Linear(in_features=8, out_features=1, bias=True)\n",
       "  (output_activation): Sigmoid()\n",
       ")"
      ]
     },
     "execution_count": 5,
     "metadata": {},
     "output_type": "execute_result"
    }
   ],
   "source": [
    "model=Pima().to(device) #bias=False (bias 안씀)\n",
    "model"
   ]
  },
  {
   "cell_type": "code",
   "execution_count": 6,
   "metadata": {},
   "outputs": [
    {
     "data": {
      "text/plain": [
       "<generator object Module.named_parameters at 0x000001C9A137D970>"
      ]
     },
     "execution_count": 6,
     "metadata": {},
     "output_type": "execute_result"
    }
   ],
   "source": [
    "param_gen=model.named_parameters()\n",
    "param_gen"
   ]
  },
  {
   "cell_type": "code",
   "execution_count": 7,
   "metadata": {},
   "outputs": [],
   "source": [
    "def count_parameters(model):\n",
    "    total_param = 0\n",
    "    for name, param in model.named_parameters():\n",
    "        if param.requires_grad:\n",
    "            num_param = np.prod(param.size())\n",
    "            if param.dim() > 1:\n",
    "                print(name, ':', ' x '.join(str(x) for x in list(param.size())[::-1]), '=', num_param)\n",
    "            else:\n",
    "                print(name, ':', num_param)\n",
    "                print('-' * 40)\n",
    "            total_param += num_param\n",
    "    print('total:', total_param)"
   ]
  },
  {
   "cell_type": "code",
   "execution_count": 8,
   "metadata": {},
   "outputs": [
    {
     "name": "stdout",
     "output_type": "stream",
     "text": [
      "hidden_linear.weight : 8 x 12 = 96\n",
      "hidden_linear.bias : 12\n",
      "----------------------------------------\n",
      "hidden_linear2.weight : 12 x 8 = 96\n",
      "hidden_linear2.bias : 8\n",
      "----------------------------------------\n",
      "output_linear.weight : 8 x 1 = 8\n",
      "output_linear.bias : 1\n",
      "----------------------------------------\n",
      "total: 221\n"
     ]
    }
   ],
   "source": [
    "count_parameters(model)"
   ]
  },
  {
   "cell_type": "code",
   "execution_count": 9,
   "metadata": {},
   "outputs": [
    {
     "name": "stdout",
     "output_type": "stream",
     "text": [
      "Epoch: 0, Loss: 0.4682\n",
      "Epoch: 1, Loss: 0.4561\n",
      "Epoch: 2, Loss: 0.4643\n",
      "Epoch: 3, Loss: 0.4693\n",
      "Epoch: 4, Loss: 0.4698\n",
      "Epoch: 5, Loss: 0.4672\n",
      "Epoch: 6, Loss: 0.4574\n",
      "Epoch: 7, Loss: 0.4621\n",
      "Epoch: 8, Loss: 0.4626\n",
      "Epoch: 9, Loss: 0.4619\n",
      "Epoch: 10, Loss: 0.4622\n",
      "Epoch: 11, Loss: 0.4637\n",
      "Epoch: 12, Loss: 0.4627\n",
      "Epoch: 13, Loss: 0.4579\n",
      "Epoch: 14, Loss: 0.4573\n",
      "Epoch: 15, Loss: 0.4495\n",
      "Epoch: 16, Loss: 0.4429\n",
      "Epoch: 17, Loss: 0.4408\n",
      "Epoch: 18, Loss: 0.4403\n",
      "Epoch: 19, Loss: 0.4425\n",
      "Epoch: 20, Loss: 0.4463\n",
      "Epoch: 21, Loss: 0.4342\n",
      "Epoch: 22, Loss: 0.4294\n",
      "Epoch: 23, Loss: 0.4315\n",
      "Epoch: 24, Loss: 0.4391\n",
      "Epoch: 25, Loss: 0.4119\n",
      "Epoch: 26, Loss: 0.4009\n",
      "Epoch: 27, Loss: 0.4065\n",
      "Epoch: 28, Loss: 0.3663\n",
      "Epoch: 29, Loss: 0.3604\n",
      "Epoch: 30, Loss: 0.3727\n",
      "Epoch: 31, Loss: 0.3508\n",
      "Epoch: 32, Loss: 0.3449\n",
      "Epoch: 33, Loss: 0.3534\n",
      "Epoch: 34, Loss: 0.3458\n",
      "Epoch: 35, Loss: 0.3471\n",
      "Epoch: 36, Loss: 0.3486\n",
      "Epoch: 37, Loss: 0.3525\n",
      "Epoch: 38, Loss: 0.3373\n",
      "Epoch: 39, Loss: 0.3254\n",
      "Epoch: 40, Loss: 0.3247\n",
      "Epoch: 41, Loss: 0.3373\n",
      "Epoch: 42, Loss: 0.3010\n",
      "Epoch: 43, Loss: 0.3189\n",
      "Epoch: 44, Loss: 0.3006\n",
      "Epoch: 45, Loss: 0.3080\n",
      "Epoch: 46, Loss: 0.2911\n",
      "Epoch: 47, Loss: 0.2888\n",
      "Epoch: 48, Loss: 0.2791\n",
      "Epoch: 49, Loss: 0.2799\n",
      "Epoch: 50, Loss: 0.2728\n",
      "Epoch: 51, Loss: 0.2726\n",
      "Epoch: 52, Loss: 0.2770\n",
      "Epoch: 53, Loss: 0.2742\n",
      "Epoch: 54, Loss: 0.2696\n",
      "Epoch: 55, Loss: 0.2776\n",
      "Epoch: 56, Loss: 0.2809\n",
      "Epoch: 57, Loss: 0.2806\n",
      "Epoch: 58, Loss: 0.2749\n",
      "Epoch: 59, Loss: 0.2654\n",
      "Epoch: 60, Loss: 0.2506\n",
      "Epoch: 61, Loss: 0.2548\n",
      "Epoch: 62, Loss: 0.2587\n",
      "Epoch: 63, Loss: 0.2673\n",
      "Epoch: 64, Loss: 0.2704\n",
      "Epoch: 65, Loss: 0.2684\n",
      "Epoch: 66, Loss: 0.2760\n",
      "Epoch: 67, Loss: 0.2854\n",
      "Epoch: 68, Loss: 0.2781\n",
      "Epoch: 69, Loss: 0.2839\n",
      "Epoch: 70, Loss: 0.2775\n",
      "Epoch: 71, Loss: 0.2746\n",
      "Epoch: 72, Loss: 0.2757\n",
      "Epoch: 73, Loss: 0.2668\n",
      "Epoch: 74, Loss: 0.2701\n",
      "Epoch: 75, Loss: 0.2732\n",
      "Epoch: 76, Loss: 0.2602\n",
      "Epoch: 77, Loss: 0.2579\n",
      "Epoch: 78, Loss: 0.2658\n",
      "Epoch: 79, Loss: 0.2657\n",
      "Epoch: 80, Loss: 0.2700\n",
      "Epoch: 81, Loss: 0.2627\n",
      "Epoch: 82, Loss: 0.2592\n",
      "Epoch: 83, Loss: 0.2602\n",
      "Epoch: 84, Loss: 0.2604\n",
      "Epoch: 85, Loss: 0.2548\n",
      "Epoch: 86, Loss: 0.2546\n",
      "Epoch: 87, Loss: 0.2496\n",
      "Epoch: 88, Loss: 0.2701\n",
      "Epoch: 89, Loss: 0.2494\n",
      "Epoch: 90, Loss: 0.2505\n",
      "Epoch: 91, Loss: 0.2535\n",
      "Epoch: 92, Loss: 0.2558\n",
      "Epoch: 93, Loss: 0.2592\n",
      "Epoch: 94, Loss: 0.2532\n",
      "Epoch: 95, Loss: 0.2659\n",
      "Epoch: 96, Loss: 0.2567\n",
      "Epoch: 97, Loss: 0.2547\n",
      "Epoch: 98, Loss: 0.2587\n",
      "Epoch: 99, Loss: 0.2644\n"
     ]
    }
   ],
   "source": [
    "data_set=torch.from_numpy(data_set)\n",
    "X=data_set[:, :-1]\n",
    "y=data_set[:, -1]\n",
    "\n",
    "ds=TensorDataset(X, y)\n",
    "dataloader= DataLoader(ds, batch_size=5)\n",
    "optimizer=optim.Adam(model.parameters())\n",
    "\n",
    "n_epochs=100\n",
    "loss_fn=nn.BCELoss()\n",
    "\n",
    "for epoch in range(n_epochs):\n",
    "    for data, label in dataloader:\n",
    "        out=model(data.type(torch.FloatTensor).to(device)) #forward propagation\n",
    "        loss=loss_fn(out, label.type(torch.FloatTensor).unsqueeze(1).to(device)) #unsqueeze(=expanddim 차원 늘리기) ; 현재는 0,1번째 차원 사이 차원 증가 #calculate loss (배치 내 손실 총합)\n",
    "        #torch.nn.BCELoss는 PyTorch 라이브러리에서 제공하는 클래스로, 이진 분류(Binary Classification) 문제에서 사용되는 이진 교차 엔트로피(Binary Cross Entropy) 손실 함수를 구현한 것입니다. \n",
    "        # BCELoss는 예측값과 타겟값 사이의 교차 엔트로피를 계산하여 손실 값을 얻는데 사용됩니다.\n",
    "        loss.backward() #개별 파라미터 기울기 계산\n",
    "        optimizer.step() #개별 파라미터 갱신\n",
    "        optimizer.zero_grad() #optimizer가 계산해서 저장해 놓은 기울기값 clear #\"Pytorch에서는 gradients값들을 추후에 backward를 해줄때 계속 더해주기 때문\"에 우리는 항상 backpropagation을 하기전에 gradients를 zero로 만들어주고 시작을 해야합니다.\n",
    "    print(\"Epoch: %d, Loss: %.4f\" %(epoch, float(loss)))"
   ]
  },
  {
   "cell_type": "code",
   "execution_count": 10,
   "metadata": {},
   "outputs": [
    {
     "name": "stdout",
     "output_type": "stream",
     "text": [
      "Accuracy: 0.7786\n"
     ]
    }
   ],
   "source": [
    "train_loader = DataLoader(ds)    # default batch는 1\n",
    "correct = 0\n",
    "total = 0\n",
    "with torch.no_grad():  # torch는 기울기 계산을 위해 순전파시 grad를 작성하는데 테스트시에 필요 없으므로 no_grad 해준다.\n",
    "    for data, label in train_loader:\n",
    "        data = data.type(torch.FloatTensor)\n",
    "        predicted = model.predict(data.to(device))\n",
    "        target = label[0].item()    # .item: tensor에서 제공하는 스칼라 값을 뽑아주는 함수\n",
    "        total += 1\n",
    "        correct += 1 if (predicted ==target) else 0\n",
    "print('Accuracy: %.4f' % (correct/ total))"
   ]
  },
  {
   "cell_type": "code",
   "execution_count": null,
   "metadata": {},
   "outputs": [],
   "source": []
  }
 ],
 "metadata": {
  "kernelspec": {
   "display_name": "p39-env",
   "language": "python",
   "name": "python3"
  },
  "language_info": {
   "codemirror_mode": {
    "name": "ipython",
    "version": 3
   },
   "file_extension": ".py",
   "mimetype": "text/x-python",
   "name": "python",
   "nbconvert_exporter": "python",
   "pygments_lexer": "ipython3",
   "version": "3.9.16"
  },
  "orig_nbformat": 4
 },
 "nbformat": 4,
 "nbformat_minor": 2
}
