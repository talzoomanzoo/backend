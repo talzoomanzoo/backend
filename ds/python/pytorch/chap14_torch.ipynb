{
 "cells": [
  {
   "cell_type": "code",
   "execution_count": 1,
   "metadata": {},
   "outputs": [],
   "source": [
    "import torch\n",
    "import numpy as np\n",
    "import torch.nn as nn\n",
    "import torch.optim as optim\n",
    "from torch.utils.data import DataLoader, TensorDataset\n",
    "from sklearn.model_selection import train_test_split\n",
    "import pandas as pd\n",
    "import matplotlib.pyplot as plt"
   ]
  },
  {
   "cell_type": "code",
   "execution_count": 2,
   "metadata": {},
   "outputs": [],
   "source": [
    "device=('cuda' if torch.cuda.is_available() else 'cpu')"
   ]
  },
  {
   "cell_type": "code",
   "execution_count": 3,
   "metadata": {},
   "outputs": [],
   "source": [
    "df=pd.read_csv('data/wine.csv', header=None)\n",
    "X=df.iloc[:, :-1]\n",
    "y=df.iloc[:, -1]\n",
    "X_train, X_test, y_train, y_test = train_test_split(X, y, test_size=0.2, shuffle=True)"
   ]
  },
  {
   "cell_type": "code",
   "execution_count": 4,
   "metadata": {},
   "outputs": [],
   "source": [
    "def df_to_tensor(df):\n",
    "    return torch.from_numpy(df.values).float().to(device)"
   ]
  },
  {
   "cell_type": "code",
   "execution_count": 5,
   "metadata": {},
   "outputs": [],
   "source": [
    "X_train=df_to_tensor(X_train)\n",
    "X_test=df_to_tensor(X_test)\n",
    "y_train=df_to_tensor(y_train)\n",
    "y_test=df_to_tensor(y_test)"
   ]
  },
  {
   "cell_type": "code",
   "execution_count": 6,
   "metadata": {},
   "outputs": [],
   "source": [
    "class Wine(nn.Module):\n",
    "    def __init__(self):\n",
    "        super(Wine, self).__init__()\n",
    "        \n",
    "        self.hidden_linear1=nn.Linear(12, 30)\n",
    "        self.hidden_linear2=nn.Linear(30, 12)\n",
    "        self.hidden_linear3=nn.Linear(12, 8)\n",
    "        self.output_linear=nn.Linear(8, 1)\n",
    "    \n",
    "    def forward(self, input):\n",
    "        out = torch.relu(self.hidden_linear1(input))\n",
    "        out = torch.relu(self.hidden_linear2(out))\n",
    "        out = torch.relu(self.hidden_linear3(out))\n",
    "        out = torch.sigmoid(self.output_linear(out))\n",
    "        \n",
    "        return out"
   ]
  },
  {
   "cell_type": "code",
   "execution_count": 7,
   "metadata": {},
   "outputs": [
    {
     "data": {
      "text/plain": [
       "Wine(\n",
       "  (hidden_linear1): Linear(in_features=12, out_features=30, bias=True)\n",
       "  (hidden_linear2): Linear(in_features=30, out_features=12, bias=True)\n",
       "  (hidden_linear3): Linear(in_features=12, out_features=8, bias=True)\n",
       "  (output_linear): Linear(in_features=8, out_features=1, bias=True)\n",
       ")"
      ]
     },
     "execution_count": 7,
     "metadata": {},
     "output_type": "execute_result"
    }
   ],
   "source": [
    "model=Wine().to(device)\n",
    "model"
   ]
  },
  {
   "cell_type": "code",
   "execution_count": 8,
   "metadata": {},
   "outputs": [],
   "source": [
    "class EarlyStopping:\n",
    "    def __init__(self, patience=3, delta=0.0, mode='min', verbose=True):\n",
    "        \"\"\"\n",
    "        patience (int): loss or score가 개선된 후 기다리는 기간. default: 3\n",
    "        delta  (float): 개선시 인정되는 최소 변화 수치. default: 0.0\n",
    "        mode     (str): 개선시 최소/최대값 기준 선정('min' or 'max'). default: 'min'.-- loss 가 min\n",
    "        verbose (bool): 메시지 출력. default: True\n",
    "        \"\"\"\n",
    "        self.early_stop = False\n",
    "        self.patience = patience\n",
    "        self.verbose = verbose\n",
    "        self.counter = 0\n",
    "        \n",
    "        self.best_score = np.Inf if mode == 'min' else 0\n",
    "        self.mode = mode\n",
    "        self.delta = delta\n",
    "        \n",
    "\n",
    "    def __call__(self, score):\n",
    "        \n",
    "        #__init__ 메서드는 클래스의 인스턴스를 초기화하기 위해 사용됩니다. 이는 새로운 객체, 즉 인스턴스를 생성할 때 호출되는 메서드입니다. 반면에,\n",
    "        #__call__ 메서드는 인스턴스를 함수처럼 호출 가능하게 만듭니다.\n",
    "        #기억해야 할 것은 __init__은 객체가 생성될 때 한 번 호출된다는 것입니다. 그러나 __call__은 인스턴스가 호출될 때마다 여러 번 호출될 수 있습니다.\n",
    "\n",
    "        if self.best_score is None: # X 왜냐면 infinity or 0\n",
    "            self.best_score = score\n",
    "            self.counter = 0 #patience counting \n",
    "        elif self.mode == 'min':\n",
    "            if score < (self.best_score - self.delta): #loss < infinity - 0\n",
    "                self.counter = 0\n",
    "                self.best_score = score\n",
    "                if self.verbose: #verbose= True\n",
    "                    print(f'[EarlyStopping] (Update) Best Score: {self.best_score:.5f}')\n",
    "            else: #loss 값이 작아지지 않을 경우\n",
    "                self.counter += 1 #patience 증가\n",
    "                # if self.verbose:\n",
    "                #     print(f'[EarlyStopping] (Patience) {self.counter}/{self.patience}, ' \\\n",
    "                #           f'Best: {self.best_score:.5f}' \\\n",
    "                #           f', Current: {score:.5f}, Delta: {np.abs(self.best_score - score):.5f}')\n",
    "                \n",
    "        elif self.mode == 'max': #accuracy 셀 때 max\n",
    "            if score > (self.best_score + self.delta): #loss < 0+ 0\n",
    "                self.counter = 0\n",
    "                self.best_score = score\n",
    "                if self.verbose:\n",
    "                    print(f'[EarlyStopping] (Update) Best Score: {self.best_score:.5f}')\n",
    "            else:\n",
    "                self.counter += 1\n",
    "                # if self.verbose:\n",
    "                #     print(f'[EarlyStopping] (Patience) {self.counter}/{self.patience}, ' \\\n",
    "                #           f'Best: {self.best_score:.5f}' \\\n",
    "                #           f', Current: {score:.5f}, Delta: {np.abs(self.best_score - score):.5f}')\n",
    "                \n",
    "            \n",
    "        if self.counter >= self.patience:\n",
    "            if self.verbose:\n",
    "                print(f'[EarlyStop Triggered] Best Score: {self.best_score:.5f}')\n",
    "            # Early Stop\n",
    "            self.early_stop = True\n",
    "        else:\n",
    "            # Continue\n",
    "            self.early_stop = False"
   ]
  },
  {
   "cell_type": "code",
   "execution_count": 9,
   "metadata": {},
   "outputs": [],
   "source": [
    "def model_validation(model, dataloader):\n",
    "    correct = 0\n",
    "    with torch.no_grad():\n",
    "        for data, label in dataloader:\n",
    "            pred = model(data.to(device))\n",
    "            result = pred.squeeze(1).ge(torch.tensor(0.5).to(device))\n",
    "            correct += result.long().eq(label.to(device)).sum().item()\n",
    "    return (correct / len(dataloader.dataset))"
   ]
  },
  {
   "cell_type": "code",
   "execution_count": 10,
   "metadata": {},
   "outputs": [],
   "source": [
    "#model 전체 저장\n",
    "torch.save(model.state_dict(), 'model/wine.pth')"
   ]
  },
  {
   "cell_type": "code",
   "execution_count": 11,
   "metadata": {},
   "outputs": [],
   "source": [
    "#하다가 중지 시켜놓고 다시 불러오려면 가중치와 bias parameter만 저장해서는 안됨, epoch와 optimizer의 상태와 그 순간의 loss 값도 저장 필요\n",
    "def model_check_point(epoch, loss, model_path, boundary):\n",
    "    if loss.item() < boundary:\n",
    "        torch.save({\n",
    "            'epoch': epoch,\n",
    "            'model_state_dict': model.state_dict(),\n",
    "            'optimizer_state_dict': optimizer.state_dict(),\n",
    "            'loss': loss,\n",
    "            }, model_path)\n",
    "        return loss.item()\n",
    "    else:\n",
    "        return boundary"
   ]
  },
  {
   "cell_type": "code",
   "execution_count": 12,
   "metadata": {},
   "outputs": [
    {
     "ename": "FileNotFoundError",
     "evalue": "[Errno 2] No such file or directory: 'load/from/path/model.pth'",
     "output_type": "error",
     "traceback": [
      "\u001b[1;31m---------------------------------------------------------------------------\u001b[0m",
      "\u001b[1;31mFileNotFoundError\u001b[0m                         Traceback (most recent call last)",
      "Cell \u001b[1;32mIn[12], line 2\u001b[0m\n\u001b[0;32m      1\u001b[0m \u001b[39m#위와 같이 했을 때\u001b[39;00m\n\u001b[1;32m----> 2\u001b[0m checkpoint \u001b[39m=\u001b[39m torch\u001b[39m.\u001b[39;49mload(\u001b[39m'\u001b[39;49m\u001b[39mload/from/path/model.pth\u001b[39;49m\u001b[39m'\u001b[39;49m)\n\u001b[0;32m      3\u001b[0m model\u001b[39m.\u001b[39mload_state_dict(checkpoint[\u001b[39m'\u001b[39m\u001b[39mmodel_state_dict\u001b[39m\u001b[39m'\u001b[39m])\n\u001b[0;32m      4\u001b[0m optimizer\u001b[39m.\u001b[39mload_state_dict(checkpoint[\u001b[39m'\u001b[39m\u001b[39moptimizer_state_dict\u001b[39m\u001b[39m'\u001b[39m])\n",
      "File \u001b[1;32mc:\\Users\\BIT\\miniconda3\\envs\\p39-env\\lib\\site-packages\\torch\\serialization.py:791\u001b[0m, in \u001b[0;36mload\u001b[1;34m(f, map_location, pickle_module, weights_only, **pickle_load_args)\u001b[0m\n\u001b[0;32m    788\u001b[0m \u001b[39mif\u001b[39;00m \u001b[39m'\u001b[39m\u001b[39mencoding\u001b[39m\u001b[39m'\u001b[39m \u001b[39mnot\u001b[39;00m \u001b[39min\u001b[39;00m pickle_load_args\u001b[39m.\u001b[39mkeys():\n\u001b[0;32m    789\u001b[0m     pickle_load_args[\u001b[39m'\u001b[39m\u001b[39mencoding\u001b[39m\u001b[39m'\u001b[39m] \u001b[39m=\u001b[39m \u001b[39m'\u001b[39m\u001b[39mutf-8\u001b[39m\u001b[39m'\u001b[39m\n\u001b[1;32m--> 791\u001b[0m \u001b[39mwith\u001b[39;00m _open_file_like(f, \u001b[39m'\u001b[39;49m\u001b[39mrb\u001b[39;49m\u001b[39m'\u001b[39;49m) \u001b[39mas\u001b[39;00m opened_file:\n\u001b[0;32m    792\u001b[0m     \u001b[39mif\u001b[39;00m _is_zipfile(opened_file):\n\u001b[0;32m    793\u001b[0m         \u001b[39m# The zipfile reader is going to advance the current file position.\u001b[39;00m\n\u001b[0;32m    794\u001b[0m         \u001b[39m# If we want to actually tail call to torch.jit.load, we need to\u001b[39;00m\n\u001b[0;32m    795\u001b[0m         \u001b[39m# reset back to the original position.\u001b[39;00m\n\u001b[0;32m    796\u001b[0m         orig_position \u001b[39m=\u001b[39m opened_file\u001b[39m.\u001b[39mtell()\n",
      "File \u001b[1;32mc:\\Users\\BIT\\miniconda3\\envs\\p39-env\\lib\\site-packages\\torch\\serialization.py:271\u001b[0m, in \u001b[0;36m_open_file_like\u001b[1;34m(name_or_buffer, mode)\u001b[0m\n\u001b[0;32m    269\u001b[0m \u001b[39mdef\u001b[39;00m \u001b[39m_open_file_like\u001b[39m(name_or_buffer, mode):\n\u001b[0;32m    270\u001b[0m     \u001b[39mif\u001b[39;00m _is_path(name_or_buffer):\n\u001b[1;32m--> 271\u001b[0m         \u001b[39mreturn\u001b[39;00m _open_file(name_or_buffer, mode)\n\u001b[0;32m    272\u001b[0m     \u001b[39melse\u001b[39;00m:\n\u001b[0;32m    273\u001b[0m         \u001b[39mif\u001b[39;00m \u001b[39m'\u001b[39m\u001b[39mw\u001b[39m\u001b[39m'\u001b[39m \u001b[39min\u001b[39;00m mode:\n",
      "File \u001b[1;32mc:\\Users\\BIT\\miniconda3\\envs\\p39-env\\lib\\site-packages\\torch\\serialization.py:252\u001b[0m, in \u001b[0;36m_open_file.__init__\u001b[1;34m(self, name, mode)\u001b[0m\n\u001b[0;32m    251\u001b[0m \u001b[39mdef\u001b[39;00m \u001b[39m__init__\u001b[39m(\u001b[39mself\u001b[39m, name, mode):\n\u001b[1;32m--> 252\u001b[0m     \u001b[39msuper\u001b[39m()\u001b[39m.\u001b[39m\u001b[39m__init__\u001b[39m(\u001b[39mopen\u001b[39;49m(name, mode))\n",
      "\u001b[1;31mFileNotFoundError\u001b[0m: [Errno 2] No such file or directory: 'load/from/path/model.pth'"
     ]
    }
   ],
   "source": [
    "#위와 같이 했을 때\n",
    "checkpoint = torch.load('load/from/path/model.pth')\n",
    "model.load_state_dict(checkpoint['model_state_dict'])\n",
    "optimizer.load_state_dict(checkpoint['optimizer_state_dict'])\n",
    "epoch = checkpoint['epoch']\n",
    "loss = checkpoint['loss']"
   ]
  },
  {
   "cell_type": "code",
   "execution_count": 13,
   "metadata": {},
   "outputs": [],
   "source": [
    "def model_check_point(loss, model_path, boundary):\n",
    "    if loss.item() < boundary: #boundary: 이전 loss 값\n",
    "        torch.save( model.state_dict(), model_path) #state_dict 는 간단히 말해 각 계층을 매개변수 텐서로 매핑되는 Python 사전(dict) 객체 -- 가중치와 bias parameter\n",
    "        return loss.item()\n",
    "    else:\n",
    "        return boundary"
   ]
  },
  {
   "cell_type": "code",
   "execution_count": 14,
   "metadata": {},
   "outputs": [],
   "source": [
    "early_stopping=EarlyStopping(patience=3, delta=0, mode='min', verbose=True) #default 값이니까 굳이 parameter 넣어주지 않아도 됨"
   ]
  },
  {
   "cell_type": "code",
   "execution_count": 15,
   "metadata": {},
   "outputs": [
    {
     "name": "stdout",
     "output_type": "stream",
     "text": [
      "Epoch 0, Training loss 0.3775,\n",
      "Validation Accuracy: 0.761538\n",
      "[EarlyStopping] (Update) Best Score: 0.37753\n",
      "[EarlyStopping] (Update) Best Score: 0.32274\n",
      "[EarlyStopping] (Update) Best Score: 0.28003\n",
      "[EarlyStopping] (Update) Best Score: 0.24683\n",
      "[EarlyStopping] (Update) Best Score: 0.21821\n",
      "[EarlyStopping] (Update) Best Score: 0.19917\n",
      "[EarlyStopping] (Update) Best Score: 0.18700\n",
      "[EarlyStopping] (Update) Best Score: 0.17921\n",
      "[EarlyStopping] (Update) Best Score: 0.17453\n",
      "[EarlyStopping] (Update) Best Score: 0.17106\n",
      "[EarlyStopping] (Update) Best Score: 0.16778\n",
      "[EarlyStopping] (Update) Best Score: 0.16395\n",
      "[EarlyStopping] (Update) Best Score: 0.16107\n",
      "[EarlyStopping] (Update) Best Score: 0.15662\n",
      "[EarlyStopping] (Update) Best Score: 0.15377\n",
      "[EarlyStopping] (Update) Best Score: 0.15149\n",
      "[EarlyStopping] (Update) Best Score: 0.14792\n",
      "[EarlyStopping] (Update) Best Score: 0.14415\n",
      "[EarlyStopping] (Update) Best Score: 0.14113\n",
      "[EarlyStopping] (Update) Best Score: 0.13814\n",
      "Epoch 20, Training loss 0.1343,\n",
      "Validation Accuracy: 0.941538\n",
      "[EarlyStopping] (Update) Best Score: 0.13427\n",
      "[EarlyStopping] (Update) Best Score: 0.13102\n",
      "[EarlyStopping] (Update) Best Score: 0.12711\n",
      "[EarlyStopping] (Update) Best Score: 0.12259\n",
      "[EarlyStopping] (Update) Best Score: 0.11882\n",
      "[EarlyStopping] (Update) Best Score: 0.11564\n",
      "[EarlyStopping] (Update) Best Score: 0.11305\n",
      "[EarlyStopping] (Update) Best Score: 0.10953\n",
      "[EarlyStopping] (Update) Best Score: 0.10680\n",
      "[EarlyStopping] (Update) Best Score: 0.10269\n",
      "[EarlyStopping] (Update) Best Score: 0.10101\n",
      "[EarlyStopping] (Update) Best Score: 0.09907\n",
      "[EarlyStopping] (Update) Best Score: 0.09648\n",
      "[EarlyStopping] (Update) Best Score: 0.09380\n",
      "[EarlyStopping] (Update) Best Score: 0.09079\n",
      "[EarlyStopping] (Update) Best Score: 0.08871\n",
      "[EarlyStopping] (Update) Best Score: 0.08638\n",
      "[EarlyStopping] (Update) Best Score: 0.08332\n",
      "[EarlyStopping] (Update) Best Score: 0.08085\n",
      "[EarlyStopping] (Update) Best Score: 0.07764\n",
      "Epoch 40, Training loss 0.0757,\n",
      "Validation Accuracy: 0.968462\n",
      "[EarlyStopping] (Update) Best Score: 0.07570\n",
      "[EarlyStopping] (Update) Best Score: 0.07219\n",
      "[EarlyStopping] (Update) Best Score: 0.06949\n",
      "[EarlyStopping] (Update) Best Score: 0.06695\n",
      "[EarlyStopping] (Update) Best Score: 0.06524\n",
      "[EarlyStopping] (Update) Best Score: 0.06340\n",
      "[EarlyStopping] (Update) Best Score: 0.06001\n",
      "[EarlyStopping] (Update) Best Score: 0.05927\n",
      "[EarlyStopping] (Update) Best Score: 0.05773\n",
      "[EarlyStopping] (Update) Best Score: 0.05553\n",
      "[EarlyStopping] (Update) Best Score: 0.05272\n",
      "[EarlyStopping] (Update) Best Score: 0.05211\n",
      "[EarlyStopping] (Update) Best Score: 0.05019\n",
      "[EarlyStopping] (Update) Best Score: 0.04878\n",
      "[EarlyStopping] (Update) Best Score: 0.04758\n",
      "[EarlyStopping] (Update) Best Score: 0.04683\n",
      "[EarlyStopping] (Update) Best Score: 0.04558\n",
      "[EarlyStopping] (Update) Best Score: 0.04483\n",
      "[EarlyStopping] (Update) Best Score: 0.04379\n",
      "Epoch 60, Training loss 0.0431,\n",
      "Validation Accuracy: 0.976923\n",
      "[EarlyStopping] (Update) Best Score: 0.04306\n",
      "[EarlyStopping] (Update) Best Score: 0.04245\n",
      "[EarlyStopping] (Update) Best Score: 0.04160\n",
      "[EarlyStopping] (Update) Best Score: 0.04117\n",
      "[EarlyStopping] (Update) Best Score: 0.04052\n",
      "[EarlyStopping] (Update) Best Score: 0.04010\n",
      "[EarlyStopping] (Update) Best Score: 0.03970\n",
      "[EarlyStopping] (Update) Best Score: 0.03908\n",
      "[EarlyStopping] (Update) Best Score: 0.03853\n",
      "[EarlyStopping] (Update) Best Score: 0.03816\n",
      "[EarlyStopping] (Update) Best Score: 0.03782\n",
      "[EarlyStopping] (Update) Best Score: 0.03753\n",
      "[EarlyStopping] (Update) Best Score: 0.03708\n",
      "[EarlyStopping] (Update) Best Score: 0.03669\n",
      "[EarlyStopping] (Update) Best Score: 0.03638\n",
      "[EarlyStopping] (Update) Best Score: 0.03589\n",
      "[EarlyStopping] (Update) Best Score: 0.03583\n",
      "[EarlyStopping] (Update) Best Score: 0.03547\n",
      "[EarlyStopping] (Update) Best Score: 0.03500\n",
      "[EarlyStopping] (Update) Best Score: 0.03464\n",
      "Epoch 80, Training loss 0.0346,\n",
      "Validation Accuracy: 0.983077\n",
      "[EarlyStopping] (Update) Best Score: 0.03464\n",
      "[EarlyStopping] (Update) Best Score: 0.03446\n",
      "[EarlyStopping] (Update) Best Score: 0.03382\n",
      "[EarlyStopping] (Update) Best Score: 0.03356\n",
      "[EarlyStopping] (Update) Best Score: 0.03308\n",
      "[EarlyStopping] (Update) Best Score: 0.03286\n",
      "[EarlyStopping] (Update) Best Score: 0.03239\n",
      "[EarlyStopping] (Update) Best Score: 0.03235\n",
      "[EarlyStopping] (Update) Best Score: 0.03199\n",
      "[EarlyStopping] (Update) Best Score: 0.03185\n",
      "[EarlyStopping] (Update) Best Score: 0.03158\n",
      "[EarlyStopping] (Update) Best Score: 0.03139\n",
      "[EarlyStopping] (Update) Best Score: 0.03123\n",
      "[EarlyStop Triggered] Best Score: 0.03123\n"
     ]
    }
   ],
   "source": [
    "ds=TensorDataset(X_train, y_train)\n",
    "dataloader=DataLoader(ds, batch_size=200)\n",
    "\n",
    "val_ds=TensorDataset(X_test, y_test)\n",
    "val_loader=DataLoader(val_ds)\n",
    "\n",
    "optimizer=optim.Adam(model.parameters())\n",
    "\n",
    "loss_fn=nn.BCELoss()\n",
    "\n",
    "n_epochs=1000\n",
    "loss=0.0\n",
    "\n",
    "save_loss=1.0\n",
    "\n",
    "list_accuracy=[]\n",
    "list_loss=[]\n",
    "\n",
    "for epoch in range(n_epochs+1):\n",
    "    model.train()\n",
    "    for data, label in dataloader:\n",
    "        #data = data.type(torch.FloatTensor)\n",
    "        out = model(data.to(device))\n",
    "        loss = loss_fn(out, label.unsqueeze(1).float().to(device))\n",
    "                \n",
    "        optimizer.zero_grad()\n",
    "        loss.backward()\n",
    "        optimizer.step()\n",
    "\n",
    "    accuracy = model_validation(model, val_loader)\n",
    "    \n",
    "    model_path = \"model/wine-best.pth\"\n",
    "    \n",
    "    save_loss = model_check_point(loss, model_path, save_loss) #저장된 손실 return\n",
    "    \n",
    "    list_loss.append(loss.detach().cpu()) #loss가 gpu에 있을 때 cpu로 옮김 (.detach()) 역전파 사슬을 끊겠다 -- 끊은 상태에서만 옮겨짐 \n",
    "    list_accuracy.append(accuracy)\n",
    "    \n",
    "    if epoch % 20 == 0:\n",
    "            print(f\"Epoch {epoch}, Training loss {loss:.4f},\")\n",
    "            print(\"Validation Accuracy: %f\" % accuracy)\n",
    "            \n",
    "    early_stopping(loss.item()) #__call__\n",
    "    if early_stopping.early_stop:\n",
    "        break"
   ]
  },
  {
   "cell_type": "code",
   "execution_count": 16,
   "metadata": {},
   "outputs": [
    {
     "data": {
      "image/png": "[encoded data removed]",
      "text/plain": [
       "<Figure size 640x480 with 1 Axes>"
      ]
     },
     "metadata": {},
     "output_type": "display_data"
    }
   ],
   "source": [
    "x_len = np.arange(len(list_loss))\n",
    "plt.plot(x_len, list_loss, \"o\", c=\"red\", markersize=3, label='loss')\n",
    "plt.plot(x_len, list_accuracy, \"o\", c=\"blue\", markersize=3, label='accuracy')\n",
    "plt.xlabel('epoch')\n",
    "plt.ylabel('loss/accuracy')\n",
    "plt.legend()\n",
    "plt.show()"
   ]
  },
  {
   "cell_type": "code",
   "execution_count": null,
   "metadata": {},
   "outputs": [],
   "source": []
  }
 ],
 "metadata": {
  "kernelspec": {
   "display_name": "p39-env",
   "language": "python",
   "name": "python3"
  },
  "language_info": {
   "codemirror_mode": {
    "name": "ipython",
    "version": 3
   },
   "file_extension": ".py",
   "mimetype": "text/x-python",
   "name": "python",
   "nbconvert_exporter": "python",
   "pygments_lexer": "ipython3",
   "version": "3.9.16"
  },
  "orig_nbformat": 4
 },
 "nbformat": 4,
 "nbformat_minor": 2
}
