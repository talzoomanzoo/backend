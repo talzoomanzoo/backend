{
 "cells": [
  {
   "cell_type": "code",
   "execution_count": 1,
   "metadata": {},
   "outputs": [],
   "source": [
    "import torch\n",
    "import numpy as np\n",
    "import torch.nn as nn\n",
    "import torch.optim as optim\n",
    "from torch.utils.data import DataLoader, TensorDataset"
   ]
  },
  {
   "cell_type": "code",
   "execution_count": 2,
   "metadata": {},
   "outputs": [],
   "source": [
    "device=('cuda' if torch.cuda.is_available() else 'cpu')"
   ]
  },
  {
   "cell_type": "code",
   "execution_count": 3,
   "metadata": {},
   "outputs": [],
   "source": [
    "import pandas as pd\n",
    "df=pd.read_csv('data/iris3.csv', delimiter=',') #numpy에서 첫줄 들어오니까 한줄 skip 하고 가져오기 #get_dummies 사용"
   ]
  },
  {
   "cell_type": "code",
   "execution_count": 4,
   "metadata": {},
   "outputs": [],
   "source": [
    "X=df.iloc[:, :-1]\n",
    "y=df.iloc[:, -1]"
   ]
  },
  {
   "cell_type": "code",
   "execution_count": 5,
   "metadata": {},
   "outputs": [
    {
     "name": "stdout",
     "output_type": "stream",
     "text": [
      "<class 'pandas.core.frame.DataFrame'>\n",
      "RangeIndex: 150 entries, 0 to 149\n",
      "Data columns (total 4 columns):\n",
      " #   Column        Non-Null Count  Dtype  \n",
      "---  ------        --------------  -----  \n",
      " 0   sepal_length  150 non-null    float64\n",
      " 1   sepal_width   150 non-null    float64\n",
      " 2   petal_length  150 non-null    float64\n",
      " 3   petal_width   150 non-null    float64\n",
      "dtypes: float64(4)\n",
      "memory usage: 4.8 KB\n"
     ]
    }
   ],
   "source": [
    "X.info()"
   ]
  },
  {
   "cell_type": "code",
   "execution_count": 6,
   "metadata": {},
   "outputs": [],
   "source": [
    "X=torch.from_numpy(X.values) #df -> torch #.values 또는 to_numpy()를 활용하면 ndarray형태로 변환할 수 있다."
   ]
  },
  {
   "cell_type": "code",
   "execution_count": 7,
   "metadata": {},
   "outputs": [
    {
     "name": "stdout",
     "output_type": "stream",
     "text": [
      "<class 'torch.Tensor'>\n"
     ]
    }
   ],
   "source": [
    "print(type(X))"
   ]
  },
  {
   "cell_type": "code",
   "execution_count": 8,
   "metadata": {},
   "outputs": [],
   "source": [
    "y=pd.get_dummies(y)\n",
    "y=torch.from_numpy(y.values)"
   ]
  },
  {
   "cell_type": "code",
   "execution_count": 9,
   "metadata": {},
   "outputs": [
    {
     "name": "stdout",
     "output_type": "stream",
     "text": [
      "<class 'torch.Tensor'>\n"
     ]
    }
   ],
   "source": [
    "print(type(y)) #df -> torch"
   ]
  },
  {
   "cell_type": "code",
   "execution_count": 10,
   "metadata": {},
   "outputs": [
    {
     "name": "stdout",
     "output_type": "stream",
     "text": [
      "tensor([[1, 0, 0],\n",
      "        [1, 0, 0],\n",
      "        [1, 0, 0],\n",
      "        [1, 0, 0],\n",
      "        [1, 0, 0]], dtype=torch.uint8)\n"
     ]
    }
   ],
   "source": [
    "print(y[:5])"
   ]
  },
  {
   "cell_type": "code",
   "execution_count": 11,
   "metadata": {},
   "outputs": [],
   "source": [
    "class Iris(nn.Module):\n",
    "    def __init__(self):\n",
    "        super(Iris, self).__init__()\n",
    "        self.hidden_linear=nn.Linear(4, 12)\n",
    "        self.hidden_activation=nn.ReLU()\n",
    "        self.hidden_linear2=nn.Linear(12, 8)\n",
    "        self.hidden_activation2=nn.ReLU()\n",
    "        self.output_linear=nn.Linear(8,3)\n",
    "        \n",
    "    def forward(self, x):\n",
    "        x=self.hidden_linear(x)\n",
    "        x=self.hidden_activation(x)\n",
    "        x=self.hidden_linear2(x)\n",
    "        x=self.hidden_activation2(x)\n",
    "        x=self.output_linear(x)\n",
    "        \n",
    "        return x"
   ]
  },
  {
   "cell_type": "code",
   "execution_count": 12,
   "metadata": {},
   "outputs": [
    {
     "data": {
      "text/plain": [
       "Iris(\n",
       "  (hidden_linear): Linear(in_features=4, out_features=12, bias=True)\n",
       "  (hidden_activation): ReLU()\n",
       "  (hidden_linear2): Linear(in_features=12, out_features=8, bias=True)\n",
       "  (hidden_activation2): ReLU()\n",
       "  (output_linear): Linear(in_features=8, out_features=3, bias=True)\n",
       ")"
      ]
     },
     "execution_count": 12,
     "metadata": {},
     "output_type": "execute_result"
    }
   ],
   "source": [
    "model=Iris().to(device)\n",
    "model"
   ]
  },
  {
   "cell_type": "code",
   "execution_count": 13,
   "metadata": {},
   "outputs": [],
   "source": [
    "def count_parameters(model):\n",
    "    total_param = 0\n",
    "    for name, param in model.named_parameters():\n",
    "        if param.requires_grad:\n",
    "            num_param = np.prod(param.size())\n",
    "            if param.dim() > 1:\n",
    "                print(name, ':', ' x '.join(str(x) for x in list(param.size())[::-1]), '=', num_param)\n",
    "            else:\n",
    "                print(name, ':', num_param)\n",
    "                print('-' * 40)\n",
    "            total_param += num_param\n",
    "    print('total:', total_param)"
   ]
  },
  {
   "cell_type": "code",
   "execution_count": 14,
   "metadata": {},
   "outputs": [
    {
     "name": "stdout",
     "output_type": "stream",
     "text": [
      "hidden_linear.weight : 4 x 12 = 48\n",
      "hidden_linear.bias : 12\n",
      "----------------------------------------\n",
      "hidden_linear2.weight : 12 x 8 = 96\n",
      "hidden_linear2.bias : 8\n",
      "----------------------------------------\n",
      "output_linear.weight : 8 x 3 = 24\n",
      "output_linear.bias : 3\n",
      "----------------------------------------\n",
      "total: 191\n"
     ]
    }
   ],
   "source": [
    "count_parameters(model)"
   ]
  },
  {
   "cell_type": "code",
   "execution_count": 15,
   "metadata": {},
   "outputs": [
    {
     "name": "stdout",
     "output_type": "stream",
     "text": [
      "Epoch: 0, Loss: 1.5171\n"
     ]
    },
    {
     "name": "stdout",
     "output_type": "stream",
     "text": [
      "Epoch: 1, Loss: 1.4353\n",
      "Epoch: 2, Loss: 1.3937\n",
      "Epoch: 3, Loss: 1.3647\n",
      "Epoch: 4, Loss: 1.3312\n",
      "Epoch: 5, Loss: 1.2863\n",
      "Epoch: 6, Loss: 1.2301\n",
      "Epoch: 7, Loss: 1.1560\n",
      "Epoch: 8, Loss: 1.0691\n",
      "Epoch: 9, Loss: 0.9891\n",
      "Epoch: 10, Loss: 0.8893\n",
      "Epoch: 11, Loss: 0.8143\n",
      "Epoch: 12, Loss: 0.7389\n",
      "Epoch: 13, Loss: 0.6807\n",
      "Epoch: 14, Loss: 0.6339\n",
      "Epoch: 15, Loss: 0.5992\n",
      "Epoch: 16, Loss: 0.5739\n",
      "Epoch: 17, Loss: 0.5577\n",
      "Epoch: 18, Loss: 0.5486\n",
      "Epoch: 19, Loss: 0.5423\n",
      "Epoch: 20, Loss: 0.5364\n",
      "Epoch: 21, Loss: 0.5312\n",
      "Epoch: 22, Loss: 0.5277\n",
      "Epoch: 23, Loss: 0.5270\n",
      "Epoch: 24, Loss: 0.5229\n",
      "Epoch: 25, Loss: 0.5206\n",
      "Epoch: 26, Loss: 0.5151\n",
      "Epoch: 27, Loss: 0.5170\n",
      "Epoch: 28, Loss: 0.5103\n",
      "Epoch: 29, Loss: 0.5082\n",
      "Epoch: 30, Loss: 0.5012\n",
      "Epoch: 31, Loss: 0.5005\n",
      "Epoch: 32, Loss: 0.4898\n",
      "Epoch: 33, Loss: 0.4894\n",
      "Epoch: 34, Loss: 0.4797\n",
      "Epoch: 35, Loss: 0.4786\n",
      "Epoch: 36, Loss: 0.4683\n",
      "Epoch: 37, Loss: 0.4669\n",
      "Epoch: 38, Loss: 0.4559\n",
      "Epoch: 39, Loss: 0.4574\n",
      "Epoch: 40, Loss: 0.4432\n",
      "Epoch: 41, Loss: 0.4438\n",
      "Epoch: 42, Loss: 0.4323\n",
      "Epoch: 43, Loss: 0.4305\n",
      "Epoch: 44, Loss: 0.4178\n",
      "Epoch: 45, Loss: 0.4162\n",
      "Epoch: 46, Loss: 0.4056\n",
      "Epoch: 47, Loss: 0.3996\n",
      "Epoch: 48, Loss: 0.3935\n",
      "Epoch: 49, Loss: 0.3859\n",
      "Epoch: 50, Loss: 0.3787\n",
      "Epoch: 51, Loss: 0.3714\n",
      "Epoch: 52, Loss: 0.3643\n",
      "Epoch: 53, Loss: 0.3572\n",
      "Epoch: 54, Loss: 0.3526\n",
      "Epoch: 55, Loss: 0.3435\n",
      "Epoch: 56, Loss: 0.3385\n",
      "Epoch: 57, Loss: 0.3321\n",
      "Epoch: 58, Loss: 0.3252\n",
      "Epoch: 59, Loss: 0.3186\n",
      "Epoch: 60, Loss: 0.3121\n",
      "Epoch: 61, Loss: 0.3057\n",
      "Epoch: 62, Loss: 0.2995\n",
      "Epoch: 63, Loss: 0.2949\n",
      "Epoch: 64, Loss: 0.2889\n",
      "Epoch: 65, Loss: 0.2829\n",
      "Epoch: 66, Loss: 0.2771\n",
      "Epoch: 67, Loss: 0.2714\n",
      "Epoch: 68, Loss: 0.2659\n",
      "Epoch: 69, Loss: 0.2605\n",
      "Epoch: 70, Loss: 0.2552\n",
      "Epoch: 71, Loss: 0.2503\n",
      "Epoch: 72, Loss: 0.2456\n",
      "Epoch: 73, Loss: 0.2406\n",
      "Epoch: 74, Loss: 0.2359\n",
      "Epoch: 75, Loss: 0.2321\n",
      "Epoch: 76, Loss: 0.2277\n",
      "Epoch: 77, Loss: 0.2232\n",
      "Epoch: 78, Loss: 0.2189\n",
      "Epoch: 79, Loss: 0.2148\n",
      "Epoch: 80, Loss: 0.2107\n",
      "Epoch: 81, Loss: 0.2069\n",
      "Epoch: 82, Loss: 0.2032\n",
      "Epoch: 83, Loss: 0.1994\n",
      "Epoch: 84, Loss: 0.1957\n",
      "Epoch: 85, Loss: 0.1921\n",
      "Epoch: 86, Loss: 0.1887\n",
      "Epoch: 87, Loss: 0.1853\n",
      "Epoch: 88, Loss: 0.1820\n",
      "Epoch: 89, Loss: 0.1788\n",
      "Epoch: 90, Loss: 0.1756\n",
      "Epoch: 91, Loss: 0.1726\n",
      "Epoch: 92, Loss: 0.1696\n",
      "Epoch: 93, Loss: 0.1667\n",
      "Epoch: 94, Loss: 0.1639\n",
      "Epoch: 95, Loss: 0.1612\n",
      "Epoch: 96, Loss: 0.1585\n",
      "Epoch: 97, Loss: 0.1559\n",
      "Epoch: 98, Loss: 0.1533\n",
      "Epoch: 99, Loss: 0.1508\n"
     ]
    }
   ],
   "source": [
    "ds=TensorDataset(X, y)\n",
    "dataloader= DataLoader(ds, batch_size=5)\n",
    "optimizer=optim.Adam(model.parameters())\n",
    "\n",
    "n_epochs=100\n",
    "loss_fn=nn.CrossEntropyLoss() #이 함수는 알아서 값이 들어오면 softmax로 펼쳐줌. 따라서 softmax하기 직전 값을 넣어줘야함\n",
    "\n",
    "for epoch in range(n_epochs):\n",
    "    for data, label in dataloader:\n",
    "        out=model(data.type(torch.FloatTensor).to(device)) #forward propagation\n",
    "        loss=loss_fn(out, label.type(torch.FloatTensor).to(device)) #이미 2차원 배열로 만들어져 있어서 unsqueeze 필요 없음\n",
    "        loss.backward() #개별 파라미터 기울기 계산\n",
    "        optimizer.step() #개별 파라미터 갱신\n",
    "        optimizer.zero_grad() \n",
    "    print(\"Epoch: %d, Loss: %.4f\" %(epoch, float(loss)))"
   ]
  },
  {
   "cell_type": "code",
   "execution_count": 21,
   "metadata": {},
   "outputs": [
    {
     "name": "stdout",
     "output_type": "stream",
     "text": [
      "output tensor([[  7.9645,   2.0204, -13.2779],\n",
      "        [  7.1925,   1.8526, -12.0034],\n",
      "        [  7.3750,   1.8940, -12.3093],\n",
      "        [  7.0927,   1.8341, -11.8471],\n",
      "        [  8.0330,   2.0364, -13.3939]])\n",
      "output.max(0) torch.return_types.max(\n",
      "values=tensor([  8.0330,   2.0364, -11.8471]),\n",
      "indices=tensor([4, 4, 3]))\n",
      "output.max(1) torch.return_types.max(\n",
      "values=tensor([7.9645, 7.1925, 7.3750, 7.0927, 8.0330]),\n",
      "indices=tensor([0, 0, 0, 0, 0]))\n",
      "------------------------------\n",
      "label tensor([[1, 0, 0],\n",
      "        [1, 0, 0],\n",
      "        [1, 0, 0],\n",
      "        [1, 0, 0],\n",
      "        [1, 0, 0]], dtype=torch.uint8)\n",
      "label.max(0) torch.return_types.max(\n",
      "values=tensor([1, 0, 0], dtype=torch.uint8),\n",
      "indices=tensor([0, 0, 0]))\n",
      "label.max(1) torch.return_types.max(\n",
      "values=tensor([1, 1, 1, 1, 1], dtype=torch.uint8),\n",
      "indices=tensor([0, 0, 0, 0, 0]))\n",
      "\n",
      "Test set: Accuracy: 146/150 (0.973333)\n",
      "\n",
      "Accuracy: 0.973333\n"
     ]
    }
   ],
   "source": [
    "test_loader = DataLoader(ds, batch_size=5)\n",
    "correct = 0\n",
    "flag = True\n",
    "\n",
    "with torch.no_grad():\n",
    "    for data, label in test_loader:\n",
    "        output = model(data.type(torch.FloatTensor).to(device))\n",
    "        pred = output.max(1)[1] #output을 1번째 차원으로 max하여 그 index를 추출\n",
    "        target = label.max(1)[1]  #label을 1번째 차원으로 max하여 그 index를 추출\n",
    "        if flag:\n",
    "            print(\"output\",output)\n",
    "            print(\"output.max(0)\", output.max(0)) #row 중에 max\n",
    "            print(\"output.max(1)\", output.max(1)) #col 중에 max\n",
    "            print('-'* 30)\n",
    "            print(\"label\", label)\n",
    "            print(\"label.max(0)\", label.max(0))\n",
    "            print(\"label.max(1)\", label.max(1))\n",
    "            flag = False\n",
    "        correct += pred.eq(target.to(device)).sum().item() #5라는 tensor의 값을 .item()으로 꺼냄\n",
    "        \n",
    "print('\\nTest set: Accuracy: {}/{} ({:f})\\n'.format(correct, len(test_loader.dataset), correct / len(test_loader.dataset)))\n",
    "        \n",
    "print(\"Accuracy: %f\" % (correct / len(test_loader.dataset)))"
   ]
  },
  {
   "cell_type": "code",
   "execution_count": null,
   "metadata": {},
   "outputs": [],
   "source": []
  }
 ],
 "metadata": {
  "kernelspec": {
   "display_name": "p39-env",
   "language": "python",
   "name": "python3"
  },
  "language_info": {
   "codemirror_mode": {
    "name": "ipython",
    "version": 3
   },
   "file_extension": ".py",
   "mimetype": "text/x-python",
   "name": "python",
   "nbconvert_exporter": "python",
   "pygments_lexer": "ipython3",
   "version": "3.9.16"
  },
  "orig_nbformat": 4
 },
 "nbformat": 4,
 "nbformat_minor": 2
}
