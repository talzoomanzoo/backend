{
 "cells": [
  {
   "cell_type": "markdown",
   "id": "3fd5be66-0195-4282-b795-86d1163447de",
   "metadata": {},
   "source": [
    "# Tuple"
   ]
  },
  {
   "cell_type": "code",
   "execution_count": 1,
   "id": "97dbc6e3-4b97-446e-88ee-f7f7ee76bcf6",
   "metadata": {},
   "outputs": [
    {
     "name": "stdout",
     "output_type": "stream",
     "text": [
      "<class 'tuple'>\n"
     ]
    }
   ],
   "source": [
    "t = (1,2,3)\n",
    "print(type(t))"
   ]
  },
  {
   "cell_type": "code",
   "execution_count": 2,
   "id": "aa2f281f-c3cf-43d4-a772-8301a51b865e",
   "metadata": {},
   "outputs": [
    {
     "name": "stdout",
     "output_type": "stream",
     "text": [
      "1\n"
     ]
    }
   ],
   "source": [
    "print(t[0]) #tuple도 인덱싱은 가능"
   ]
  },
  {
   "cell_type": "code",
   "execution_count": 3,
   "id": "d748fcd1-ad14-47a4-b59f-35b7f4fa1378",
   "metadata": {},
   "outputs": [
    {
     "ename": "TypeError",
     "evalue": "'tuple' object does not support item assignment",
     "output_type": "error",
     "traceback": [
      "\u001b[1;31m---------------------------------------------------------------------------\u001b[0m",
      "\u001b[1;31mTypeError\u001b[0m                                 Traceback (most recent call last)",
      "Cell \u001b[1;32mIn[3], line 1\u001b[0m\n\u001b[1;32m----> 1\u001b[0m t[\u001b[38;5;241m0\u001b[39m] \u001b[38;5;241m=\u001b[39m \u001b[38;5;241m10\u001b[39m\n",
      "\u001b[1;31mTypeError\u001b[0m: 'tuple' object does not support item assignment"
     ]
    }
   ],
   "source": [
    "t[0] = 10 #tuple은 한 번 값을 할당 하면 값을 변경할 수 없다 = immutable"
   ]
  },
  {
   "cell_type": "code",
   "execution_count": 4,
   "id": "8ffba0b8-a32a-4eee-9fa9-a8e8f5568fdb",
   "metadata": {},
   "outputs": [
    {
     "name": "stdout",
     "output_type": "stream",
     "text": [
      "<class 'int'>\n"
     ]
    }
   ],
   "source": [
    "t = (1)\n",
    "print(type(t))"
   ]
  },
  {
   "cell_type": "code",
   "execution_count": 5,
   "id": "03a01d9b-4385-4843-9cfb-cdf66f992419",
   "metadata": {},
   "outputs": [
    {
     "name": "stdout",
     "output_type": "stream",
     "text": [
      "<class 'tuple'>\n"
     ]
    }
   ],
   "source": [
    "t = (1,)\n",
    "print(type(t)) #항목이 하나짜리인 tuple 만들기"
   ]
  },
  {
   "cell_type": "markdown",
   "id": "680e67de-7c33-4dbf-94f7-412a10aea655",
   "metadata": {},
   "source": [
    "# Set"
   ]
  },
  {
   "cell_type": "code",
   "execution_count": 6,
   "id": "725094f6-568c-4cc7-898b-8d9231c3a2c1",
   "metadata": {},
   "outputs": [
    {
     "name": "stdout",
     "output_type": "stream",
     "text": [
      "{1, 2, 3}\n"
     ]
    }
   ],
   "source": [
    "s = set([1,2,3,1,2,3]) #중복 처리하는 데이터 이용 시 용이\n",
    "print(s)"
   ]
  },
  {
   "cell_type": "code",
   "execution_count": 7,
   "id": "ab6129de-631f-4dc0-909c-25f2ba8f063c",
   "metadata": {},
   "outputs": [
    {
     "name": "stdout",
     "output_type": "stream",
     "text": [
      "<class 'set'>\n"
     ]
    }
   ],
   "source": [
    "print(type(s))"
   ]
  },
  {
   "cell_type": "code",
   "execution_count": 8,
   "id": "e34f6805-939d-4189-8f19-844ea5ffdeba",
   "metadata": {},
   "outputs": [
    {
     "name": "stdout",
     "output_type": "stream",
     "text": [
      "{1, 2, 3, 4, 5, 6, 7}\n",
      "{1, 2, 3, 4, 5, 6, 7}\n",
      "{3, 4, 5}\n",
      "{3, 4, 5}\n",
      "{1, 2}\n",
      "{1, 2}\n"
     ]
    }
   ],
   "source": [
    "s1 = set([1, 2, 3, 4, 5])\n",
    "s2 = set([3, 4, 5, 6, 7])\n",
    "\n",
    "print(s1.union(s2)) #합\n",
    "print(s1 | s2)\n",
    "print(s1.intersection(s2)) #교\n",
    "print(s1 & s2)\n",
    "print(s1.difference(s2)) #차\n",
    "print(s1-s2)"
   ]
  },
  {
   "cell_type": "markdown",
   "id": "1bb2ed66-99de-4f4c-a06e-c4566338941d",
   "metadata": {},
   "source": [
    "# Dictionary"
   ]
  },
  {
   "cell_type": "code",
   "execution_count": 2,
   "id": "59bf6cd6-f9bc-4bab-b442-70941f433121",
   "metadata": {},
   "outputs": [],
   "source": [
    "students = {'2019001': 'Tom', '20190002': 'Jane', '2019003': 'Mike', '2019004':'Jessica'} \n",
    "# key : value; key값으로 value 저장하기 때문에 해당 key로 값을 저장, 고로 key값은 중복이 있어서는 안된다\n",
    "# key값은 문자형, 숫자형 모두 가능"
   ]
  },
  {
   "cell_type": "code",
   "execution_count": 3,
   "id": "c3b3d7d7-39e5-4fdb-9ecb-0cb5bd4da744",
   "metadata": {},
   "outputs": [
    {
     "name": "stdout",
     "output_type": "stream",
     "text": [
      "Tom\n"
     ]
    }
   ],
   "source": [
    "print(students['2019001']) #retrieving value by key"
   ]
  },
  {
   "cell_type": "code",
   "execution_count": 4,
   "id": "5e6bb85d-20da-47f1-bdbb-faa0ae212c41",
   "metadata": {},
   "outputs": [
    {
     "name": "stdout",
     "output_type": "stream",
     "text": [
      "Kate\n"
     ]
    }
   ],
   "source": [
    "students['2019001'] = 'Kate' #replacing value by key\n",
    "print(students['2019001'])"
   ]
  },
  {
   "cell_type": "code",
   "execution_count": 5,
   "id": "6021d478-0bf0-4b68-9262-a6b2a672bf92",
   "metadata": {},
   "outputs": [],
   "source": [
    "students['2019005'] = 'Kate' #adding value by key"
   ]
  },
  {
   "cell_type": "code",
   "execution_count": 6,
   "id": "a4cf38d1-a6a3-468c-8e3c-568cc1207563",
   "metadata": {},
   "outputs": [
    {
     "data": {
      "text/plain": [
       "{'2019001': 'Kate',\n",
       " '20190002': 'Jane',\n",
       " '2019003': 'Mike',\n",
       " '2019004': 'Jessica',\n",
       " '2019005': 'Kate'}"
      ]
     },
     "execution_count": 6,
     "metadata": {},
     "output_type": "execute_result"
    }
   ],
   "source": [
    "students #딕셔너리 내부의 순서가 넣은 순서를 보장하지 않는다. 착각 ㄴㄴ"
   ]
  },
  {
   "cell_type": "code",
   "execution_count": 7,
   "id": "2c24e6e5-1e20-4403-ba39-9bc4ed7a3cd0",
   "metadata": {},
   "outputs": [
    {
     "name": "stdout",
     "output_type": "stream",
     "text": [
      "{'USA': 1, 'Korea': 82, 'China': 86, 'Malaysia': 60}\n"
     ]
    }
   ],
   "source": [
    "country_code = {'USA' : 1, 'Korea' : 82 , 'China' : 86, 'Malaysia' : 60}\n",
    "print(country_code)"
   ]
  },
  {
   "cell_type": "code",
   "execution_count": 8,
   "id": "fc94947e-f215-4aa8-9b7b-30431784e603",
   "metadata": {},
   "outputs": [
    {
     "name": "stdout",
     "output_type": "stream",
     "text": [
      "dict_keys(['USA', 'Korea', 'China', 'Malaysia'])\n"
     ]
    }
   ],
   "source": [
    "print(country_code.keys()) #해당 딕셔너리의 key를 list 형태로 반환"
   ]
  },
  {
   "cell_type": "code",
   "execution_count": 10,
   "id": "445550c8-5b1d-4350-ba61-f11783bca34d",
   "metadata": {},
   "outputs": [
    {
     "name": "stdout",
     "output_type": "stream",
     "text": [
      "dict_values([1, 82, 86, 60])\n"
     ]
    }
   ],
   "source": [
    "print(country_code.values()) #해당 딕셔너리의 value를 list 형태로 반환"
   ]
  },
  {
   "cell_type": "code",
   "execution_count": 12,
   "id": "a0b6a572-8285-462c-be4b-5320e08ab9bd",
   "metadata": {},
   "outputs": [
    {
     "name": "stdout",
     "output_type": "stream",
     "text": [
      "USA:1\n",
      "Korea:82\n",
      "China:86\n",
      "Malaysia:60\n"
     ]
    }
   ],
   "source": [
    "for key in country_code.keys():\n",
    "    print(key + ':' + str(country_code[key]))"
   ]
  },
  {
   "cell_type": "code",
   "execution_count": 34,
   "id": "19290cd0-c6ea-4d06-909c-b9415238fec6",
   "metadata": {},
   "outputs": [
    {
     "name": "stdout",
     "output_type": "stream",
     "text": [
      "dict_items([('USA', 1), ('Korea', 82), ('China', 86), ('Malaysia', 60)])\n"
     ]
    }
   ],
   "source": [
    "print(country_code.items()) #key-value set in list of tuples"
   ]
  },
  {
   "cell_type": "code",
   "execution_count": 35,
   "id": "8be12218-8712-421e-a226-d600cefbd99f",
   "metadata": {},
   "outputs": [
    {
     "data": {
      "text/plain": [
       "dict_items"
      ]
     },
     "execution_count": 35,
     "metadata": {},
     "output_type": "execute_result"
    }
   ],
   "source": [
    "cc_items = country_code.items()\n",
    "type(cc_items)"
   ]
  },
  {
   "cell_type": "code",
   "execution_count": 14,
   "id": "69cbae9a-5966-4be7-a73a-d9fa90d60474",
   "metadata": {},
   "outputs": [
    {
     "name": "stdout",
     "output_type": "stream",
     "text": [
      "('USA', 1)\n",
      "('Korea', 82)\n",
      "('China', 86)\n",
      "('Malaysia', 60)\n"
     ]
    }
   ],
   "source": [
    "for item in country_code.items():\n",
    "    print(item)"
   ]
  },
  {
   "cell_type": "code",
   "execution_count": 15,
   "id": "20d61dd8-7801-4cb8-8e2c-dd26552270ba",
   "metadata": {},
   "outputs": [
    {
     "name": "stdout",
     "output_type": "stream",
     "text": [
      "USA\n",
      "1\n",
      "Korea\n",
      "82\n",
      "China\n",
      "86\n",
      "Malaysia\n",
      "60\n"
     ]
    }
   ],
   "source": [
    "#unpacking right away\n",
    "for k, v in country_code.items():\n",
    "    print(k)\n",
    "    print(v)"
   ]
  },
  {
   "cell_type": "markdown",
   "id": "6db66862-9d6e-4ab6-8edf-38e8c7a6680b",
   "metadata": {},
   "source": [
    "## collections module for dictionary"
   ]
  },
  {
   "cell_type": "code",
   "execution_count": null,
   "id": "b5ae7804-9a4b-48c5-bfe9-67cb46d3e0eb",
   "metadata": {},
   "outputs": [],
   "source": [
    "#module: 일단은 library python code다라고 생각"
   ]
  },
  {
   "cell_type": "code",
   "execution_count": 16,
   "id": "25f8389c-dc64-4006-9380-fcdfcc154884",
   "metadata": {},
   "outputs": [],
   "source": [
    "from collections import OrderedDict #collections module의 OrderedDict class 사용"
   ]
  },
  {
   "cell_type": "code",
   "execution_count": 17,
   "id": "0155849f-b08f-4c1f-9c69-1221be519c15",
   "metadata": {},
   "outputs": [],
   "source": [
    "#순서가 보장된 dictionary: 순서 정하면 내부에서 순서가 고정되는 dictionary\n",
    "d = dict() #비어있는 dictionary"
   ]
  },
  {
   "cell_type": "code",
   "execution_count": 18,
   "id": "eb6797de-05f8-47a7-906e-58406fe8dfb3",
   "metadata": {},
   "outputs": [
    {
     "name": "stdout",
     "output_type": "stream",
     "text": [
      "{'x': 100, 'y': 200, 'z': 300, 'a': 400}\n"
     ]
    }
   ],
   "source": [
    "d['x'] = 100\n",
    "d['y'] = 200\n",
    "d['z'] = 300\n",
    "d['a'] = 400\n",
    "print(d)"
   ]
  },
  {
   "cell_type": "code",
   "execution_count": null,
   "id": "a71ba424-6513-410b-83cb-0665e85c34f9",
   "metadata": {},
   "outputs": [],
   "source": [
    "# sorted function \n",
    "## syntax: sorted(iterable, key=key, reverse=reverse)\n",
    "## parameter values\n",
    "### 1. iterable: Required. The sequence to sort, list, dictionary, tuple etc.\n",
    "### 2. key: Optional. A Function to execute to decide the order. Default is None\n",
    "### 3. reverse: Optional. A Boolean. False will sort ascending, True will sort descending. Default is False"
   ]
  },
  {
   "cell_type": "code",
   "execution_count": 26,
   "id": "0ef58808-54fc-4022-b85c-eddd28ad25bf",
   "metadata": {},
   "outputs": [
    {
     "name": "stdout",
     "output_type": "stream",
     "text": [
      "OrderedDict([('a', 400), ('x', 100), ('y', 200), ('z', 300)])\n"
     ]
    }
   ],
   "source": [
    "od = OrderedDict(sorted(d.items(), key = lambda x:x[0])) #key를 기준으로 sorted: 분류할 key값을 알려주는 함수를 받는 파라미터\n",
    "print(od)"
   ]
  },
  {
   "cell_type": "code",
   "execution_count": 24,
   "id": "074162a9-6700-47df-b60f-45fed75f526d",
   "metadata": {},
   "outputs": [],
   "source": [
    "def f(x):\n",
    "    return x[0]"
   ]
  },
  {
   "cell_type": "code",
   "execution_count": 25,
   "id": "6d25eb88-c474-44d8-a0e0-61e6c2a74207",
   "metadata": {},
   "outputs": [
    {
     "name": "stdout",
     "output_type": "stream",
     "text": [
      "OrderedDict([('a', 400), ('x', 100), ('y', 200), ('z', 300)])\n"
     ]
    }
   ],
   "source": [
    "od = OrderedDict(sorted(d.items(), key = f))\n",
    "print(od)"
   ]
  },
  {
   "cell_type": "code",
   "execution_count": 30,
   "id": "8243c098-8389-463a-a305-37830c4d0ee5",
   "metadata": {},
   "outputs": [
    {
     "name": "stdout",
     "output_type": "stream",
     "text": [
      "OrderedDict([('a', 400), ('z', 300), ('y', 200), ('x', 100)])\n"
     ]
    }
   ],
   "source": [
    "od = OrderedDict(sorted(d.items(), key = lambda x:x[1], reverse=True))\n",
    "print(od)"
   ]
  },
  {
   "cell_type": "code",
   "execution_count": 31,
   "id": "6146aba8-427e-4faa-808d-faf8dfd3d8a0",
   "metadata": {},
   "outputs": [
    {
     "data": {
      "text/plain": [
       "collections.OrderedDict"
      ]
     },
     "execution_count": 31,
     "metadata": {},
     "output_type": "execute_result"
    }
   ],
   "source": [
    "type(od)"
   ]
  },
  {
   "cell_type": "code",
   "execution_count": 32,
   "id": "d6e3cc4f-e3ef-4505-8327-66ee188433ac",
   "metadata": {},
   "outputs": [
    {
     "name": "stdout",
     "output_type": "stream",
     "text": [
      "a\n",
      "z\n",
      "y\n",
      "x\n"
     ]
    }
   ],
   "source": [
    "for k in od.keys():\n",
    "    print(k)"
   ]
  },
  {
   "cell_type": "code",
   "execution_count": 36,
   "id": "5df775c4-04ac-429c-b64f-aa57121e9ee1",
   "metadata": {},
   "outputs": [],
   "source": [
    "s = [('yellow', 1), ('blue', 2), ('yellow', 3), ('blue', 4), ('red', 5)]\n",
    "#output {'yellow' : [1,3], 'blue':[2,4], 'red':[5]}"
   ]
  },
  {
   "cell_type": "code",
   "execution_count": 43,
   "id": "3d620263-e56b-421d-afc8-44183d9a74ae",
   "metadata": {},
   "outputs": [],
   "source": [
    "d = dict()\n",
    "for k, v in s:\n",
    "    try:\n",
    "        d[k].append(v) #value list에 append\n",
    "    except KeyError:\n",
    "        d[k] = list() #최초 리스트 생성\n",
    "        d[k].append(v)"
   ]
  },
  {
   "cell_type": "code",
   "execution_count": 44,
   "id": "926395e6-39ab-495c-9e0c-8e099b2e030c",
   "metadata": {},
   "outputs": [
    {
     "name": "stdout",
     "output_type": "stream",
     "text": [
      "{'yellow': [1, 3], 'blue': [2, 4], 'red': [5]}\n"
     ]
    }
   ],
   "source": [
    "print(d)"
   ]
  },
  {
   "cell_type": "code",
   "execution_count": 45,
   "id": "50bda7f0-9cf4-4258-ac5d-0809f464dedf",
   "metadata": {},
   "outputs": [],
   "source": [
    "from collections import defaultdict"
   ]
  },
  {
   "cell_type": "code",
   "execution_count": 46,
   "id": "2eb40fa3-169e-452e-9b07-e6a2823c9dd2",
   "metadata": {},
   "outputs": [],
   "source": [
    "d_dict = defaultdict(list) \n",
    "#default value 값은 빈 list \n",
    "#defaultdist()의 파라미터에는 reference만 (callable 한 것) 인자로 와야 함\n",
    "#callable object: any object that can be called like a function 함수라고 보면 됨!"
   ]
  },
  {
   "cell_type": "code",
   "execution_count": 47,
   "id": "213a891f-219f-4339-9bf2-173959c35ace",
   "metadata": {},
   "outputs": [],
   "source": [
    "for k, v in s:\n",
    "    d_dict[k].append(v)"
   ]
  },
  {
   "cell_type": "code",
   "execution_count": 48,
   "id": "d7948d95-7474-4524-8491-27b824accbd1",
   "metadata": {},
   "outputs": [
    {
     "data": {
      "text/plain": [
       "defaultdict(list, {'yellow': [1, 3], 'blue': [2, 4], 'red': [5]})"
      ]
     },
     "execution_count": 48,
     "metadata": {},
     "output_type": "execute_result"
    }
   ],
   "source": [
    "d_dict #d_dict는 두가지의 자료를 가지고 있다: , 앞뒤로: default 값 (새로운 data가 들어올 때 어떤 자료형으로 만들어줄지 정해줌), 실제값"
   ]
  },
  {
   "cell_type": "code",
   "execution_count": 56,
   "id": "fafbce02-9f1e-4225-9ba1-1bb556c5096a",
   "metadata": {},
   "outputs": [
    {
     "ename": "TypeError",
     "evalue": "first argument must be callable or None",
     "output_type": "error",
     "traceback": [
      "\u001b[1;31m---------------------------------------------------------------------------\u001b[0m",
      "\u001b[1;31mTypeError\u001b[0m                                 Traceback (most recent call last)",
      "Cell \u001b[1;32mIn[56], line 1\u001b[0m\n\u001b[1;32m----> 1\u001b[0m d \u001b[38;5;241m=\u001b[39m \u001b[43mdefaultdict\u001b[49m\u001b[43m(\u001b[49m\u001b[38;5;241;43m100\u001b[39;49m\u001b[43m)\u001b[49m\n",
      "\u001b[1;31mTypeError\u001b[0m: first argument must be callable or None"
     ]
    }
   ],
   "source": [
    "d = defaultdict(100)"
   ]
  },
  {
   "cell_type": "code",
   "execution_count": 57,
   "id": "d051549c-f5a5-4df9-bf57-7ab2570c3edd",
   "metadata": {},
   "outputs": [],
   "source": [
    "d = defaultdict(lambda: 100)"
   ]
  },
  {
   "cell_type": "code",
   "execution_count": 58,
   "id": "62db7202-8ead-4204-a4b9-ed2a55ce8827",
   "metadata": {},
   "outputs": [
    {
     "name": "stdout",
     "output_type": "stream",
     "text": [
      "100\n"
     ]
    }
   ],
   "source": [
    "print(d['A'])"
   ]
  },
  {
   "cell_type": "code",
   "execution_count": 61,
   "id": "2f63141d-9b80-456b-8019-d565171132bc",
   "metadata": {},
   "outputs": [
    {
     "name": "stdout",
     "output_type": "stream",
     "text": [
      "100\n"
     ]
    }
   ],
   "source": [
    "print(d['kkk'])"
   ]
  },
  {
   "cell_type": "code",
   "execution_count": 63,
   "id": "c9adb7fc-f5ae-4bc0-b7dc-1f6448dd1b0d",
   "metadata": {},
   "outputs": [
    {
     "name": "stdout",
     "output_type": "stream",
     "text": [
      "100\n"
     ]
    }
   ],
   "source": [
    "print(d['kkk']) #key 값이 이미 존재하니까 접근 X"
   ]
  },
  {
   "cell_type": "code",
   "execution_count": 62,
   "id": "bc408003-f33f-43dd-b6dc-e004ad911ee6",
   "metadata": {},
   "outputs": [
    {
     "name": "stdout",
     "output_type": "stream",
     "text": [
      "defaultdict(<function <lambda> at 0x000001483A5F30D0>, {'A': 100, 'kkk': 100})\n"
     ]
    }
   ],
   "source": [
    "print(d)"
   ]
  },
  {
   "cell_type": "code",
   "execution_count": 64,
   "id": "212b3b47-be86-4a80-98e5-0c398ef9dab6",
   "metadata": {},
   "outputs": [],
   "source": [
    "from collections import Counter #무언가 counting 한 것을 dictionary 형태로 정리해줌"
   ]
  },
  {
   "cell_type": "code",
   "execution_count": 65,
   "id": "3283b27b-a18d-448b-bf59-f57781ce167e",
   "metadata": {},
   "outputs": [],
   "source": [
    "c = Counter('scientist')"
   ]
  },
  {
   "cell_type": "code",
   "execution_count": 66,
   "id": "c4530b95-8e11-4b60-b0bb-e0b890f458d9",
   "metadata": {},
   "outputs": [
    {
     "name": "stdout",
     "output_type": "stream",
     "text": [
      "Counter({'s': 2, 'i': 2, 't': 2, 'c': 1, 'e': 1, 'n': 1})\n"
     ]
    }
   ],
   "source": [
    "print(c) #같은 문자 몇번 나왔는지 딕셔너리로 저장"
   ]
  },
  {
   "cell_type": "code",
   "execution_count": 67,
   "id": "3323c14e-2fce-43c8-b564-bf0efaf8a77d",
   "metadata": {},
   "outputs": [
    {
     "name": "stdout",
     "output_type": "stream",
     "text": [
      "Counter({'red': 4, 'blue': 2})\n",
      "['red', 'red', 'red', 'red', 'blue', 'blue']\n"
     ]
    }
   ],
   "source": [
    "c = Counter({'red':4, 'blue':2})\n",
    "print(c)\n",
    "\t\n",
    "print(list(c.elements()))"
   ]
  },
  {
   "cell_type": "code",
   "execution_count": 68,
   "id": "f998ce43-0a4d-4232-ba9f-ef35140c8f55",
   "metadata": {},
   "outputs": [
    {
     "name": "stdout",
     "output_type": "stream",
     "text": [
      "Counter({'dogs': 6, 'cats': 4})\n",
      "['cats', 'cats', 'cats', 'cats', 'dogs', 'dogs', 'dogs', 'dogs', 'dogs', 'dogs']\n"
     ]
    }
   ],
   "source": [
    "c = Counter(cats=4, dogs=6)\n",
    "print(c)\n",
    "\t\n",
    "print(list(c.elements()))"
   ]
  },
  {
   "cell_type": "code",
   "execution_count": 71,
   "id": "fedf2a16-3823-499d-8f65-c31267b44bc8",
   "metadata": {},
   "outputs": [],
   "source": [
    "from collections import defaultdict\n",
    "from collections import OrderedDict"
   ]
  },
  {
   "cell_type": "code",
   "execution_count": 72,
   "id": "4e1e43fe-3404-4821-9baa-60a4070a62a9",
   "metadata": {},
   "outputs": [],
   "source": [
    "text = \"\"\"A press release is the quickest and easiest way to get free publicity. If\n",
    "well written, a press release can result in multiple published articles about your \n",
    "firm and its products. And that can mean new prospects contacting you \n",
    "asking you to sell to them. ….\"\"\""
   ]
  },
  {
   "cell_type": "code",
   "execution_count": 73,
   "id": "0719f61b-9700-4358-9768-33a09a5c16d7",
   "metadata": {},
   "outputs": [],
   "source": [
    "text = text.lower().split() #공백 기준 분류 후 리스트 생성"
   ]
  },
  {
   "cell_type": "code",
   "execution_count": 74,
   "id": "5b13f403-5538-4332-a198-ae19434a5911",
   "metadata": {},
   "outputs": [
    {
     "data": {
      "text/plain": [
       "['a',\n",
       " 'press',\n",
       " 'release',\n",
       " 'is',\n",
       " 'the',\n",
       " 'quickest',\n",
       " 'and',\n",
       " 'easiest',\n",
       " 'way',\n",
       " 'to',\n",
       " 'get',\n",
       " 'free',\n",
       " 'publicity.',\n",
       " 'if',\n",
       " 'well',\n",
       " 'written,',\n",
       " 'a',\n",
       " 'press',\n",
       " 'release',\n",
       " 'can',\n",
       " 'result',\n",
       " 'in',\n",
       " 'multiple',\n",
       " 'published',\n",
       " 'articles',\n",
       " 'about',\n",
       " 'your',\n",
       " 'firm',\n",
       " 'and',\n",
       " 'its',\n",
       " 'products.',\n",
       " 'and',\n",
       " 'that',\n",
       " 'can',\n",
       " 'mean',\n",
       " 'new',\n",
       " 'prospects',\n",
       " 'contacting',\n",
       " 'you',\n",
       " 'asking',\n",
       " 'you',\n",
       " 'to',\n",
       " 'sell',\n",
       " 'to',\n",
       " 'them.',\n",
       " '….']"
      ]
     },
     "execution_count": 74,
     "metadata": {},
     "output_type": "execute_result"
    }
   ],
   "source": [
    "text"
   ]
  },
  {
   "cell_type": "code",
   "execution_count": 75,
   "id": "74b23cad-22e5-437d-92fb-28582dfe729c",
   "metadata": {},
   "outputs": [],
   "source": [
    "word_count = defaultdict(lambda : 0)\n",
    "for word in text:\n",
    "    word_count[word] += 1"
   ]
  },
  {
   "cell_type": "code",
   "execution_count": 76,
   "id": "ccd4ca51-1171-4c30-8aea-0f4cccfef09e",
   "metadata": {},
   "outputs": [
    {
     "name": "stdout",
     "output_type": "stream",
     "text": [
      "defaultdict(<function <lambda> at 0x00000148389ABDC0>, {'a': 2, 'press': 2, 'release': 2, 'is': 1, 'the': 1, 'quickest': 1, 'and': 3, 'easiest': 1, 'way': 1, 'to': 3, 'get': 1, 'free': 1, 'publicity.': 1, 'if': 1, 'well': 1, 'written,': 1, 'can': 2, 'result': 1, 'in': 1, 'multiple': 1, 'published': 1, 'articles': 1, 'about': 1, 'your': 1, 'firm': 1, 'its': 1, 'products.': 1, 'that': 1, 'mean': 1, 'new': 1, 'prospects': 1, 'contacting': 1, 'you': 2, 'asking': 1, 'sell': 1, 'them.': 1, '….': 1})\n"
     ]
    }
   ],
   "source": [
    "print(word_count)"
   ]
  },
  {
   "cell_type": "code",
   "execution_count": 77,
   "id": "3e1229bd-a00c-4857-aab1-1bf03eb84a96",
   "metadata": {},
   "outputs": [
    {
     "name": "stdout",
     "output_type": "stream",
     "text": [
      "and 3\n",
      "to 3\n",
      "a 2\n",
      "press 2\n",
      "release 2\n",
      "can 2\n",
      "you 2\n",
      "is 1\n",
      "the 1\n",
      "quickest 1\n",
      "easiest 1\n",
      "way 1\n",
      "get 1\n",
      "free 1\n",
      "publicity. 1\n",
      "if 1\n",
      "well 1\n",
      "written, 1\n",
      "result 1\n",
      "in 1\n",
      "multiple 1\n",
      "published 1\n",
      "articles 1\n",
      "about 1\n",
      "your 1\n",
      "firm 1\n",
      "its 1\n",
      "products. 1\n",
      "that 1\n",
      "mean 1\n",
      "new 1\n",
      "prospects 1\n",
      "contacting 1\n",
      "asking 1\n",
      "sell 1\n",
      "them. 1\n",
      "…. 1\n"
     ]
    }
   ],
   "source": [
    "word_count_ordered = OrderedDict(sorted(word_count.items(), key = lambda x:x[1], reverse=True))\n",
    "for k, v in word_count_ordered.items():\n",
    "    print(k,v)"
   ]
  },
  {
   "cell_type": "code",
   "execution_count": null,
   "id": "e273ad20-b952-4971-a37c-59daa2fa5b46",
   "metadata": {},
   "outputs": [],
   "source": []
  }
 ],
 "metadata": {
  "kernelspec": {
   "display_name": "Python 3 (ipykernel)",
   "language": "python",
   "name": "python3"
  },
  "language_info": {
   "codemirror_mode": {
    "name": "ipython",
    "version": 3
   },
   "file_extension": ".py",
   "mimetype": "text/x-python",
   "name": "python",
   "nbconvert_exporter": "python",
   "pygments_lexer": "ipython3",
   "version": "3.9.16"
  }
 },
 "nbformat": 4,
 "nbformat_minor": 5
}
