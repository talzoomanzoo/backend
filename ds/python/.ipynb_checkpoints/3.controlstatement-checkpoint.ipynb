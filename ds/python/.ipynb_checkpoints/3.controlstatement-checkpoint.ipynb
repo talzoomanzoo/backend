{
 "cells": [
  {
   "cell_type": "markdown",
   "id": "e7642421-8aa2-438a-80cb-16ffc2c3e400",
   "metadata": {},
   "source": [
    "# Conditional Statement"
   ]
  },
  {
   "cell_type": "code",
   "execution_count": 3,
   "id": "022465b6-7641-48a9-af96-07d7656ec3ef",
   "metadata": {},
   "outputs": [
    {
     "name": "stdin",
     "output_type": "stream",
     "text": [
      "input your age! 26\n"
     ]
    },
    {
     "name": "stdout",
     "output_type": "stream",
     "text": [
      "Welcome to the King Club!\n"
     ]
    }
   ],
   "source": [
    "my_age = int(input('input your age!'))\n",
    "if my_age < 30: #참 거짓 판단 가능하다면 어느 조건이든 가능\n",
    "    print('Welcome to the King Club!') #python space 4칸 권고사항\n",
    "else:\n",
    "    print('Oh! No. You are not accepted!')"
   ]
  },
  {
   "cell_type": "code",
   "execution_count": 4,
   "id": "9befa10d-e721-4153-8ef3-7278d357b381",
   "metadata": {},
   "outputs": [
    {
     "name": "stdin",
     "output_type": "stream",
     "text": [
      "Enter your score:  85\n"
     ]
    },
    {
     "name": "stdout",
     "output_type": "stream",
     "text": [
      "B\n"
     ]
    }
   ],
   "source": [
    "score = int(input('Enter your score: '))\n",
    "\n",
    "if score >= 90:\n",
    "    grade = 'A'\n",
    "elif score >= 80:\n",
    "    grade = 'B'\n",
    "elif score >= 70:\n",
    "    grade = 'C'\n",
    "elif score >= 60:\n",
    "    grade = 'D'\n",
    "else:\n",
    "    grade = 'F'\n",
    "\n",
    "print(grade)"
   ]
  },
  {
   "cell_type": "code",
   "execution_count": 5,
   "id": "66a86a7e-dc8f-44d0-8141-cd0006b8b056",
   "metadata": {},
   "outputs": [
    {
     "name": "stdout",
     "output_type": "stream",
     "text": [
      "100\n"
     ]
    }
   ],
   "source": [
    "a = 10\n",
    "b = a * 10 if a % 2 == 0 else a + 10\n",
    "print(b) #조건이 True"
   ]
  },
  {
   "cell_type": "markdown",
   "id": "c53eee1d-5569-4a08-b074-a8821dec37c5",
   "metadata": {},
   "source": [
    "# Loops"
   ]
  },
  {
   "cell_type": "code",
   "execution_count": 6,
   "id": "a8c92c2d-82a5-4a14-af11-9528e98559e2",
   "metadata": {},
   "outputs": [
    {
     "name": "stdout",
     "output_type": "stream",
     "text": [
      "No. 1\n",
      "No. 2\n",
      "No. 3\n",
      "No. 4\n",
      "No. 5\n"
     ]
    }
   ],
   "source": [
    "for n in [1, 2, 3, 4, 5]: #in 뒤에는 collection type data\n",
    "    print('No.', n)"
   ]
  },
  {
   "cell_type": "code",
   "execution_count": 8,
   "id": "5252ea5a-5ad4-4f07-aa78-460be6f0cf8e",
   "metadata": {},
   "outputs": [
    {
     "name": "stdout",
     "output_type": "stream",
     "text": [
      "No. 0\n",
      "No. 1\n",
      "No. 2\n",
      "No. 3\n",
      "No. 4\n"
     ]
    }
   ],
   "source": [
    "for n in range(5): #0부터 5직전까지\n",
    "    print('No.', n)"
   ]
  },
  {
   "cell_type": "code",
   "execution_count": 9,
   "id": "5967a233-1ade-4550-8838-345bd143ea76",
   "metadata": {},
   "outputs": [
    {
     "name": "stdout",
     "output_type": "stream",
     "text": [
      "No. 1\n",
      "No. 2\n",
      "No. 3\n",
      "No. 4\n",
      "No. 5\n"
     ]
    }
   ],
   "source": [
    "for n in range(1,6):\n",
    "    print('No.',n)"
   ]
  },
  {
   "cell_type": "code",
   "execution_count": 10,
   "id": "831d599a-eb6b-4bff-a6f2-964c178cd938",
   "metadata": {},
   "outputs": [
    {
     "name": "stdout",
     "output_type": "stream",
     "text": [
      "No. 1\n",
      "No. 3\n",
      "No. 5\n"
     ]
    }
   ],
   "source": [
    "for n in range(1,6,2):\n",
    "    print('No.',n)"
   ]
  },
  {
   "cell_type": "code",
   "execution_count": 11,
   "id": "7927e73b-9cc3-42cb-8de9-7016a84b0aa9",
   "metadata": {},
   "outputs": [
    {
     "name": "stdout",
     "output_type": "stream",
     "text": [
      "a\n",
      "b\n",
      "c\n",
      "d\n",
      "e\n",
      "f\n"
     ]
    }
   ],
   "source": [
    "for n in 'abcdef':\n",
    "    print(n)"
   ]
  },
  {
   "cell_type": "code",
   "execution_count": 12,
   "id": "c74ed321-5e63-4504-b2a7-2d1c4f59a194",
   "metadata": {},
   "outputs": [
    {
     "name": "stdout",
     "output_type": "stream",
     "text": [
      "banana\n",
      "pineapple\n",
      "mango\n"
     ]
    }
   ],
   "source": [
    "for n in ['banana', 'pineapple', 'mango']:\n",
    "    print(n)"
   ]
  },
  {
   "cell_type": "code",
   "execution_count": 16,
   "id": "34acba36-99ef-4331-859e-e0424420a8fd",
   "metadata": {},
   "outputs": [
    {
     "name": "stdout",
     "output_type": "stream",
     "text": [
      "b\n",
      "a\n",
      "n\n",
      "a\n",
      "n\n",
      "a\n",
      "\n",
      "p\n",
      "i\n",
      "n\n",
      "e\n",
      "a\n",
      "p\n",
      "p\n",
      "l\n",
      "e\n",
      "\n",
      "m\n",
      "a\n",
      "n\n",
      "g\n",
      "o\n",
      "\n"
     ]
    }
   ],
   "source": [
    "for n in ['banana', 'pineapple', 'mango']:\n",
    "    for k in n:\n",
    "        print(k)\n",
    "    print() #공백"
   ]
  },
  {
   "cell_type": "code",
   "execution_count": 18,
   "id": "f9f07679-2e28-41e2-8a99-3b9b9e68dfa3",
   "metadata": {},
   "outputs": [
    {
     "name": "stdout",
     "output_type": "stream",
     "text": [
      "b\n",
      "a\n",
      "n\n",
      "a\n",
      "n\n",
      "a\n",
      "----------\n",
      "p\n",
      "i\n",
      "n\n",
      "e\n",
      "a\n",
      "p\n",
      "p\n",
      "l\n",
      "e\n",
      "----------\n",
      "m\n",
      "a\n",
      "n\n",
      "g\n",
      "o\n",
      "----------\n"
     ]
    }
   ],
   "source": [
    "for n in ['banana', 'pineapple', 'mango']:\n",
    "    for k in n:\n",
    "        print(k)\n",
    "    print('-' * 10)"
   ]
  },
  {
   "cell_type": "code",
   "execution_count": null,
   "id": "d3a45f22-37d8-4b92-b998-7d87572a3eb4",
   "metadata": {},
   "outputs": [],
   "source": []
  }
 ],
 "metadata": {
  "kernelspec": {
   "display_name": "Python 3 (ipykernel)",
   "language": "python",
   "name": "python3"
  },
  "language_info": {
   "codemirror_mode": {
    "name": "ipython",
    "version": 3
   },
   "file_extension": ".py",
   "mimetype": "text/x-python",
   "name": "python",
   "nbconvert_exporter": "python",
   "pygments_lexer": "ipython3",
   "version": "3.9.16"
  }
 },
 "nbformat": 4,
 "nbformat_minor": 5
}
