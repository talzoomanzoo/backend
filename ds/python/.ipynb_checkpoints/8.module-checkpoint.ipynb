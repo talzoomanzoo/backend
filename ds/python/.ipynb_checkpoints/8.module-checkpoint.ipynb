{
 "cells": [
  {
   "cell_type": "markdown",
   "id": "63714449-72a4-45be-bd0d-e4873a842144",
   "metadata": {},
   "source": [
    "# Module\n",
    "● 파이썬 프로그램 코드\n",
    "● 상수, 변수, 함수, 클래스 등을 포함"
   ]
  },
  {
   "cell_type": "code",
   "execution_count": 1,
   "id": "65f09a97-3759-4b65-a870-d32020894545",
   "metadata": {},
   "outputs": [],
   "source": [
    "import fah_converter #.py 앞에 모듈이름 불러오기"
   ]
  },
  {
   "cell_type": "code",
   "execution_count": 5,
   "id": "dd5dacce-d930-460a-8b24-116410ea76f6",
   "metadata": {},
   "outputs": [
    {
     "name": "stdin",
     "output_type": "stream",
     "text": [
      "Enter celsius value: 31\n"
     ]
    },
    {
     "name": "stdout",
     "output_type": "stream",
     "text": [
      "It's 87.8 degrees Fahrenheit.\n"
     ]
    }
   ],
   "source": [
    "celsius = float(input('Enter celsius value:'))\n",
    "fahrenheit = fah_converter.convert_to_f(celsius) #모듈 안의 함수의 파라미터에 인자를 줌\n",
    "print(\"It's\", fahrenheit, \"degrees Fahrenheit.\")"
   ]
  },
  {
   "cell_type": "code",
   "execution_count": 6,
   "id": "8c4d9fa8-0cc2-463e-9919-bf8418c5b3ca",
   "metadata": {},
   "outputs": [
    {
     "name": "stdout",
     "output_type": "stream",
     "text": [
      "64.4\n"
     ]
    }
   ],
   "source": [
    "import fah_converter as fah #alias\n",
    "print(fah.convert_to_f(18))"
   ]
  },
  {
   "cell_type": "code",
   "execution_count": 8,
   "id": "1d13b4de-78a2-4a42-8e93-3ad7e71f58e8",
   "metadata": {},
   "outputs": [
    {
     "name": "stdout",
     "output_type": "stream",
     "text": [
      "64.4\n"
     ]
    }
   ],
   "source": [
    "from fah_converter import convert_to_f # , , ,로 나열 가능 #해당 함수 (모듈 내의 특정 클래스)만 직접 access\n",
    "print(convert_to_f(18))"
   ]
  },
  {
   "cell_type": "code",
   "execution_count": 9,
   "id": "e2c858af-b45c-46b9-a00f-74d83a57843d",
   "metadata": {},
   "outputs": [
    {
     "name": "stdout",
     "output_type": "stream",
     "text": [
      "64.4\n"
     ]
    }
   ],
   "source": [
    "from fah_converter import * #여러개 가능 but 비추 왜냐면 이름의 충돌이 있을 수\n",
    "print(convert_to_f(18))"
   ]
  },
  {
   "cell_type": "code",
   "execution_count": 10,
   "id": "36ba71a6-46dd-4359-8df9-a428570c2b06",
   "metadata": {},
   "outputs": [
    {
     "name": "stdout",
     "output_type": "stream",
     "text": [
      "50.0\n"
     ]
    }
   ],
   "source": [
    "def convert_to_f(celsius_value):\n",
    "\treturn celsius_value * 9.0 / 5 + 32\n",
    "\n",
    "\n",
    "\n",
    "print(convert_to_f(10))"
   ]
  },
  {
   "cell_type": "code",
   "execution_count": 13,
   "id": "d9cf9625-cfea-48cb-93be-87a51b0398a8",
   "metadata": {},
   "outputs": [
    {
     "name": "stdout",
     "output_type": "stream",
     "text": [
      "64.4\n"
     ]
    }
   ],
   "source": [
    "from fah_converter import convert_to_f\n",
    "print(convert_to_f(18)) #https://dojang.io/mod/page/view.php?id=2448"
   ]
  },
  {
   "cell_type": "markdown",
   "id": "02281483-9421-49fa-bdf2-da44cf36b37e",
   "metadata": {},
   "source": [
    "# Package\n",
    "\n",
    "● 모듈의 묶음\n",
    "● 모듈 파일이 포함될 폴더까지 포함"
   ]
  },
  {
   "cell_type": "code",
   "execution_count": null,
   "id": "59301f3e-1902-4155-987c-70681e517bf9",
   "metadata": {},
   "outputs": [],
   "source": []
  }
 ],
 "metadata": {
  "kernelspec": {
   "display_name": "Python 3 (ipykernel)",
   "language": "python",
   "name": "python3"
  },
  "language_info": {
   "codemirror_mode": {
    "name": "ipython",
    "version": 3
   },
   "file_extension": ".py",
   "mimetype": "text/x-python",
   "name": "python",
   "nbconvert_exporter": "python",
   "pygments_lexer": "ipython3",
   "version": "3.9.16"
  }
 },
 "nbformat": 4,
 "nbformat_minor": 5
}
