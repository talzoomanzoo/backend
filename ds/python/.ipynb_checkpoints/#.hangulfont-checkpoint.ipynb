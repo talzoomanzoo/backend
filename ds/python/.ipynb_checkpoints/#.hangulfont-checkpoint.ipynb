{
 "cells": [
  {
   "cell_type": "code",
   "execution_count": null,
   "id": "efea4eab-ce35-462c-b282-3b3ac8954a94",
   "metadata": {},
   "outputs": [],
   "source": [
    "#한글 처리 코드\n",
    "import platform\n",
    "from matplotlib import font_manager, rc # Runtime Configuration\n",
    "\n",
    "path = \"c:/Windows/Fonts/malgun.ttf\"\n",
    "if platform.system() == 'Darwin': #macos\n",
    "    rc('font', family='AppleGothic')\n",
    "elif platform.system() == 'Windows': #windows os\n",
    "    font_name = font_manager.FontProperties(fname=path).get_name()\n",
    "    rc('font', family=font_name)\n",
    "else:\n",
    "    print('Unknown system... sorry~~~~')"
   ]
  }
 ],
 "metadata": {
  "kernelspec": {
   "display_name": "Python 3 (ipykernel)",
   "language": "python",
   "name": "python3"
  },
  "language_info": {
   "codemirror_mode": {
    "name": "ipython",
    "version": 3
   },
   "file_extension": ".py",
   "mimetype": "text/x-python",
   "name": "python",
   "nbconvert_exporter": "python",
   "pygments_lexer": "ipython3",
   "version": "3.9.16"
  }
 },
 "nbformat": 4,
 "nbformat_minor": 5
}
