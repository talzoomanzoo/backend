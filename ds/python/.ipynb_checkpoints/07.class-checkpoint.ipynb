{
 "cells": [
  {
   "cell_type": "markdown",
   "id": "041ef5cd-f3f5-4ff2-a481-44c2e6e9aa7b",
   "metadata": {},
   "source": [
    "# Creating an Object"
   ]
  },
  {
   "cell_type": "code",
   "execution_count": 2,
   "id": "6486a71a-fe06-4132-bb3c-2e98d3f60379",
   "metadata": {},
   "outputs": [],
   "source": [
    "class SoccerPlayer: #관례적으로 class의 첫글자는 대문자로 하는 것이 관례이다. (카멜 표기법 따름)\n",
    "    #객체를 만들 때 호출하는 함수 (생성자, 또는 constructor)가 있어야 한다.\n",
    "    def __init__(self, name, position, back_number): #python에서 __로 시작하는 함수는 python에서 내장하는 함수 (시스템 변수) #self 뒤부터 우리가 줄 수 있는 파라미터\n",
    "        # 클래스 내에서 특별한 이름(__init__)을 갖기만 하면 객체가 생성될 때 자동으로 호출되는 함수가 있는 이를 생성자\n",
    "        # field 만들기\n",
    "        self.name =  name #field1\n",
    "        self.position = position #field2\n",
    "        self.back_number = back_number #field3\n",
    "    \n",
    "    def change_back_number(self, new_number):\n",
    "        #method 만들기\n",
    "        print('선수 등번호 변경: Fromd %d, to %d' % (self.back_number, new_number))\n",
    "        self.back_number = new_number\n",
    "    \n",
    "    def __str__(self): #self만 받고 따로 주는 파라미터는 없음\n",
    "        # 객체자체를 찍을 때 출력해주고 싶은 내용이 있을 때\n",
    "        return \"Hello, My name is %s. I play in %s in center.\" % (self.name, self.position)\n",
    "        # %\\ \n",
    "        # (self.name, self.position) 과 같음\n",
    "\n",
    "        #self라는 객체를 만들기 위해서는 def로 선언되면 파라미터 넣어야 함. java로 치면 this"
   ]
  },
  {
   "cell_type": "code",
   "execution_count": 3,
   "id": "855bb171-0a11-4a55-80d9-412e211e2210",
   "metadata": {},
   "outputs": [],
   "source": [
    "chaboom = SoccerPlayer('Chaboom', 'CF', 11) #chaboom은 python 기준 global 변수, 객체레퍼런스를 가지고 있는 글로벌 변수\n",
    "\n",
    "#메모리에 인스턴스를 만들고, 인스턴스를 가지고 있는 변수가 chaboom (객체레퍼런스를 가지고 있음)"
   ]
  },
  {
   "cell_type": "code",
   "execution_count": 4,
   "id": "16055ed4-bab7-49f5-b6b3-b0f0ba4eeeb8",
   "metadata": {},
   "outputs": [
    {
     "name": "stdout",
     "output_type": "stream",
     "text": [
      "11\n"
     ]
    }
   ],
   "source": [
    "print(chaboom.back_number)"
   ]
  },
  {
   "cell_type": "code",
   "execution_count": 5,
   "id": "a36088a9-c4ca-46de-886c-8ccbd356fc56",
   "metadata": {},
   "outputs": [
    {
     "name": "stdout",
     "output_type": "stream",
     "text": [
      "선수 등번호 변경: Fromd 11, to 9\n"
     ]
    }
   ],
   "source": [
    "chaboom.change_back_number(9)"
   ]
  },
  {
   "cell_type": "code",
   "execution_count": 6,
   "id": "343686e0-4265-42e0-9832-a6c2839cee7f",
   "metadata": {},
   "outputs": [
    {
     "name": "stdout",
     "output_type": "stream",
     "text": [
      "9\n"
     ]
    }
   ],
   "source": [
    "print(chaboom.back_number)"
   ]
  },
  {
   "cell_type": "code",
   "execution_count": 9,
   "id": "7e5811c5-a5e0-480b-bcde-0d60af0a2275",
   "metadata": {},
   "outputs": [
    {
     "name": "stdout",
     "output_type": "stream",
     "text": [
      "Hello, My name is Chaboom. I play in CF in center.\n"
     ]
    }
   ],
   "source": [
    "print(chaboom)"
   ]
  },
  {
   "cell_type": "code",
   "execution_count": 10,
   "id": "74759b59-5904-4dca-b223-ccd0abc18908",
   "metadata": {},
   "outputs": [],
   "source": [
    "Jisung = SoccerPlayer('Park', 'RW', 13)"
   ]
  },
  {
   "cell_type": "code",
   "execution_count": 11,
   "id": "c147d9d1-7834-4ba1-84c8-5efd97c6ca0c",
   "metadata": {},
   "outputs": [
    {
     "name": "stdout",
     "output_type": "stream",
     "text": [
      "Hello, My name is Park. I play in RW in center.\n"
     ]
    }
   ],
   "source": [
    "print(Jisung)"
   ]
  },
  {
   "cell_type": "markdown",
   "id": "055b39dd-d4d1-419c-b65d-0cf5e3006c2f",
   "metadata": {},
   "source": [
    "# Class Inheritance"
   ]
  },
  {
   "cell_type": "code",
   "execution_count": 13,
   "id": "f3952b76-2018-4a64-be6c-0f1f887d2e70",
   "metadata": {},
   "outputs": [],
   "source": [
    "class Bicycle:\n",
    "    def __init__(self, wheel_size, color):\n",
    "        self.wheel_size = wheel_size\n",
    "        self.color = color\n",
    "        \n",
    "    def move(self, speed):\n",
    "        print(f'자전거 시속 {speed}km로 전진')\n",
    "        \n",
    "    def turn(self, direction):\n",
    "        print(f'자전거: {direction}회전')\n",
    "    \n",
    "    def stop(self):\n",
    "        print(f'자전거 ({self.wheel_size}, {self.color}): 정지')"
   ]
  },
  {
   "cell_type": "code",
   "execution_count": 40,
   "id": "8b2865dd-1982-4640-93fb-a6463d16f8f1",
   "metadata": {},
   "outputs": [],
   "source": [
    "class FoldingBicycle(Bicycle): #(상속받을 부모 class)\n",
    "    def __init__(self, wheel_size, color, state):\n",
    "        super(FoldingBicycle, self).__init__(wheel_size, color) #자식 클래스의 생성자에서 부모의 생성자를 호출 #super(안의 내용 생략가능)\n",
    "        self.state = state\n",
    "        \n",
    "    def fold(self):\n",
    "        self.state = 'folding'\n",
    "        print(f\"자전거: 접기, state = {self.state}\")\n",
    "    \n",
    "    def unfold(self):\n",
    "        self.state = 'unfolding'\n",
    "        print(f\"자전거: 펴기, state = {self.state}\")\n",
    "        \n",
    "    def seestate(self):\n",
    "        print(f'자전거가 {self.state} 상태입니다.')"
   ]
  },
  {
   "cell_type": "code",
   "execution_count": 41,
   "id": "79ef87ce-df66-49ed-947a-09bd4cac553a",
   "metadata": {},
   "outputs": [],
   "source": [
    "folding_bicycle = FoldingBicycle(27, 'white', 'unfolding')"
   ]
  },
  {
   "cell_type": "code",
   "execution_count": 42,
   "id": "43e239a3-9db6-4b88-83ce-41afca5089c5",
   "metadata": {},
   "outputs": [
    {
     "name": "stdout",
     "output_type": "stream",
     "text": [
      "자전거가 unfolding 상태입니다.\n"
     ]
    }
   ],
   "source": [
    "folding_bicycle.seestate()"
   ]
  },
  {
   "cell_type": "code",
   "execution_count": 43,
   "id": "783553db-6f8c-422a-9599-0cd9ec7e6b08",
   "metadata": {},
   "outputs": [
    {
     "name": "stdout",
     "output_type": "stream",
     "text": [
      "자전거 시속 20km로 전진\n"
     ]
    }
   ],
   "source": [
    "folding_bicycle.move(20)"
   ]
  },
  {
   "cell_type": "code",
   "execution_count": 44,
   "id": "25450180-5611-436e-9648-01bd8220c786",
   "metadata": {},
   "outputs": [
    {
     "name": "stdout",
     "output_type": "stream",
     "text": [
      "자전거: right회전\n"
     ]
    }
   ],
   "source": [
    "folding_bicycle.turn('right')"
   ]
  },
  {
   "cell_type": "code",
   "execution_count": 45,
   "id": "bdbd4725-7b13-4e6c-883d-6bd3127ce434",
   "metadata": {},
   "outputs": [
    {
     "name": "stdout",
     "output_type": "stream",
     "text": [
      "자전거: 접기, state = folding\n"
     ]
    }
   ],
   "source": [
    "folding_bicycle.fold()"
   ]
  },
  {
   "cell_type": "code",
   "execution_count": 46,
   "id": "1a7a3563-7601-4146-b57c-79a05aba1644",
   "metadata": {},
   "outputs": [
    {
     "name": "stdout",
     "output_type": "stream",
     "text": [
      "자전거가 folding 상태입니다.\n"
     ]
    }
   ],
   "source": [
    "folding_bicycle.seestate()"
   ]
  },
  {
   "cell_type": "code",
   "execution_count": 47,
   "id": "2bffd76f-148a-4490-8950-2949a6a8a3c1",
   "metadata": {},
   "outputs": [
    {
     "name": "stdout",
     "output_type": "stream",
     "text": [
      "자전거: 펴기, state = unfolding\n"
     ]
    }
   ],
   "source": [
    "folding_bicycle.unfold()"
   ]
  },
  {
   "cell_type": "code",
   "execution_count": 48,
   "id": "e1f46a88-ba22-4e07-8178-793c018abab4",
   "metadata": {},
   "outputs": [
    {
     "name": "stdout",
     "output_type": "stream",
     "text": [
      "자전거가 unfolding 상태입니다.\n"
     ]
    }
   ],
   "source": [
    "folding_bicycle.seestate()"
   ]
  },
  {
   "cell_type": "code",
   "execution_count": null,
   "id": "b0adb128-af6a-49e3-9864-f883d08adfb6",
   "metadata": {},
   "outputs": [],
   "source": []
  }
 ],
 "metadata": {
  "kernelspec": {
   "display_name": "Python 3 (ipykernel)",
   "language": "python",
   "name": "python3"
  },
  "language_info": {
   "codemirror_mode": {
    "name": "ipython",
    "version": 3
   },
   "file_extension": ".py",
   "mimetype": "text/x-python",
   "name": "python",
   "nbconvert_exporter": "python",
   "pygments_lexer": "ipython3",
   "version": "3.9.16"
  }
 },
 "nbformat": 4,
 "nbformat_minor": 5
}
