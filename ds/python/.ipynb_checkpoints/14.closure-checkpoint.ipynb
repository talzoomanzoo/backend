{
 "cells": [
  {
   "cell_type": "code",
   "execution_count": null,
   "id": "03f21c3f-909b-4eec-8662-0dd178b4c58f",
   "metadata": {},
   "outputs": [],
   "source": [
    "# First class citizen\n",
    "# First class function: 함수 자체를 일반값처럼"
   ]
  },
  {
   "cell_type": "code",
   "execution_count": 1,
   "id": "098d767b-3a67-4e2d-ae67-09e07dc403ff",
   "metadata": {},
   "outputs": [],
   "source": [
    "def double_func(x):\n",
    "    return x*2"
   ]
  },
  {
   "cell_type": "code",
   "execution_count": 2,
   "id": "b3a67a4a-263a-474b-b023-c66f0aec9d3c",
   "metadata": {},
   "outputs": [
    {
     "name": "stdout",
     "output_type": "stream",
     "text": [
      "6\n"
     ]
    }
   ],
   "source": [
    "print(double_func(3))"
   ]
  },
  {
   "cell_type": "code",
   "execution_count": 3,
   "id": "cf081b6b-55b1-4dd8-a8b6-b98ef5b9a6c6",
   "metadata": {},
   "outputs": [
    {
     "name": "stdout",
     "output_type": "stream",
     "text": [
      "<function double_func at 0x000001BAEBE9BC10> <function double_func at 0x000001BAEBE9BC10>\n"
     ]
    }
   ],
   "source": [
    "a = double_func\n",
    "print(double_func, a)"
   ]
  },
  {
   "cell_type": "code",
   "execution_count": 4,
   "id": "9b9449e1-c9d4-457b-954d-0d6396f9fb36",
   "metadata": {},
   "outputs": [
    {
     "name": "stdout",
     "output_type": "stream",
     "text": [
      "8\n"
     ]
    }
   ],
   "source": [
    "print(a(4))"
   ]
  },
  {
   "cell_type": "code",
   "execution_count": 5,
   "id": "b19189d3-8f1c-4750-b184-0a525b3295f7",
   "metadata": {},
   "outputs": [],
   "source": [
    "def make_double_list(func, args):\n",
    "    result = []\n",
    "    for i in args:\n",
    "        result.append(func(i))\n",
    "    return result"
   ]
  },
  {
   "cell_type": "code",
   "execution_count": 7,
   "id": "8858d0ec-91a1-4e67-90fd-0b9d5ccc3ee7",
   "metadata": {},
   "outputs": [
    {
     "name": "stdout",
     "output_type": "stream",
     "text": [
      "[2, 4, 6, 8, 10]\n"
     ]
    }
   ],
   "source": [
    "input_list = [1,2,3,4,5]\n",
    "doubles = make_double_list(double_func, input_list) #함수를 일반값처럼 다른 함수의 파라미터로 넘겨줌\n",
    "print(doubles)"
   ]
  },
  {
   "cell_type": "code",
   "execution_count": 1,
   "id": "df7ee953-0bfa-42a7-8a63-5ea6c6b6b55a",
   "metadata": {},
   "outputs": [],
   "source": [
    "import time"
   ]
  },
  {
   "cell_type": "code",
   "execution_count": 4,
   "id": "38fd222b-977b-48e6-92ca-e35a0619bf21",
   "metadata": {},
   "outputs": [
    {
     "name": "stdout",
     "output_type": "stream",
     "text": [
      "time.struct_time(tm_year=2023, tm_mon=6, tm_mday=9, tm_hour=8, tm_min=37, tm_sec=57, tm_wday=4, tm_yday=160, tm_isdst=0)\n"
     ]
    }
   ],
   "source": [
    "print(time.localtime(time.time()))"
   ]
  },
  {
   "cell_type": "code",
   "execution_count": 5,
   "id": "f6be1f28-b281-4c52-97f8-02665ef7994c",
   "metadata": {},
   "outputs": [
    {
     "name": "stdout",
     "output_type": "stream",
     "text": [
      "time.struct_time(tm_year=2023, tm_mon=6, tm_mday=9, tm_hour=8, tm_min=38, tm_sec=46, tm_wday=4, tm_yday=160, tm_isdst=0)\n"
     ]
    }
   ],
   "source": [
    "print(time.localtime())"
   ]
  },
  {
   "cell_type": "code",
   "execution_count": 7,
   "id": "b3840435-b0a6-4ea7-8070-dad0bb7dcc24",
   "metadata": {},
   "outputs": [],
   "source": [
    "def log_formatter(msg):\n",
    "    def log_message():\n",
    "        time_str = time.strftime('%c', time.localtime())\n",
    "        print(time_str, end = '')\n",
    "        print('--->', end = '')\n",
    "        print(msg)\n",
    "    \n",
    "    return log_message #함수도 일반값처럼 넘겨줄 수 있음"
   ]
  },
  {
   "cell_type": "code",
   "execution_count": 8,
   "id": "455054d8-e5f4-4389-967f-0a8c125122fc",
   "metadata": {},
   "outputs": [
    {
     "name": "stdout",
     "output_type": "stream",
     "text": [
      "<function log_formatter.<locals>.log_message at 0x0000017A7B25B790>\n"
     ]
    }
   ],
   "source": [
    "log_msg = log_formatter('test log')\n",
    "print(log_msg)"
   ]
  },
  {
   "cell_type": "code",
   "execution_count": 9,
   "id": "6c3043bb-7056-40fe-8ce6-4b457e93ca26",
   "metadata": {},
   "outputs": [
    {
     "name": "stdout",
     "output_type": "stream",
     "text": [
      "Fri Jun  9 08:39:09 2023--->test log\n"
     ]
    }
   ],
   "source": [
    "log_msg()"
   ]
  },
  {
   "cell_type": "raw",
   "id": "bffab345-b97b-4c4d-ae2b-5c6d9a1c558c",
   "metadata": {},
   "source": [
    "● log_formatter 함수의 로컬변수 msg는 함수실행이 종료된 후 사라지는 변수\n",
    "● 종료된 이후에도 참조가 가능? log_message 를 클로저(closure) 라 함\n",
    "● 클로저는 다른 함수의 지역변수값을 그 함수가 종료된 후에도 기억\n",
    "\n",
    "● first class function을 지원하는 언어의 네임 바인딩 기술\n",
    "● 어떤 함수를 함수 자신이 가지고 있는 환경과 함께 저장한 레코드\n",
    "● 함수가 가진 프리변수(free variable)를 클로저가 만들어지는 당시의 값과 레퍼런스에 매핑하는 역할\n",
    "● 자신의 영역 밖에서 호출된 함수의 변수값과 레퍼런스를 복사하고 저장\n",
    "\n",
    "** free variable\n",
    "\t코드블럭 안에서 사용은 되지만 그 코드블럭안에서 정의되지 않은 변수 #log_message 입장에서 msg"
   ]
  },
  {
   "cell_type": "code",
   "execution_count": 15,
   "id": "0f98bd6c-da99-43f5-8a12-1774d3f518f2",
   "metadata": {},
   "outputs": [],
   "source": [
    "def outer_func():\n",
    "    msg = 'Good Morning!'\n",
    "    \n",
    "    def inner_func(): #inner_func 입장에서 msg free variable\n",
    "        print(msg)\n",
    "    inner_func()"
   ]
  },
  {
   "cell_type": "code",
   "execution_count": 17,
   "id": "0fd5c357-d1ef-4ad1-9a81-e0386036ff43",
   "metadata": {},
   "outputs": [
    {
     "name": "stdout",
     "output_type": "stream",
     "text": [
      "Good Morning!\n"
     ]
    }
   ],
   "source": [
    "outer_func()"
   ]
  },
  {
   "cell_type": "code",
   "execution_count": 22,
   "id": "d3ff346f-137c-4c1f-971e-f41d3e0d6bbd",
   "metadata": {},
   "outputs": [],
   "source": [
    "def outer_func():\n",
    "    msg = 'Good Morning!'\n",
    "    \n",
    "    def inner_func():\n",
    "        print(msg)\n",
    "    return inner_func"
   ]
  },
  {
   "cell_type": "code",
   "execution_count": 23,
   "id": "301968aa-035c-40bd-a02f-d621eda9e419",
   "metadata": {},
   "outputs": [
    {
     "name": "stdout",
     "output_type": "stream",
     "text": [
      "Good Morning!\n"
     ]
    }
   ],
   "source": [
    "func = outer_func()\n",
    "func()"
   ]
  },
  {
   "cell_type": "code",
   "execution_count": 24,
   "id": "17a143dd-bcce-4cce-8bc2-8350613c6189",
   "metadata": {},
   "outputs": [
    {
     "data": {
      "text/plain": [
       "['__annotations__',\n",
       " '__call__',\n",
       " '__class__',\n",
       " '__closure__',\n",
       " '__code__',\n",
       " '__defaults__',\n",
       " '__delattr__',\n",
       " '__dict__',\n",
       " '__dir__',\n",
       " '__doc__',\n",
       " '__eq__',\n",
       " '__format__',\n",
       " '__ge__',\n",
       " '__get__',\n",
       " '__getattribute__',\n",
       " '__globals__',\n",
       " '__gt__',\n",
       " '__hash__',\n",
       " '__init__',\n",
       " '__init_subclass__',\n",
       " '__kwdefaults__',\n",
       " '__le__',\n",
       " '__lt__',\n",
       " '__module__',\n",
       " '__name__',\n",
       " '__ne__',\n",
       " '__new__',\n",
       " '__qualname__',\n",
       " '__reduce__',\n",
       " '__reduce_ex__',\n",
       " '__repr__',\n",
       " '__setattr__',\n",
       " '__sizeof__',\n",
       " '__str__',\n",
       " '__subclasshook__']"
      ]
     },
     "execution_count": 24,
     "metadata": {},
     "output_type": "execute_result"
    }
   ],
   "source": [
    "dir(func)"
   ]
  },
  {
   "cell_type": "code",
   "execution_count": 25,
   "id": "9ab444e9-53fa-43f7-9683-6945f26ca1cc",
   "metadata": {},
   "outputs": [
    {
     "name": "stdout",
     "output_type": "stream",
     "text": [
      "<class 'tuple'>\n"
     ]
    }
   ],
   "source": [
    "print(type(func.__closure__))"
   ]
  },
  {
   "cell_type": "code",
   "execution_count": 26,
   "id": "c2c6170a-18af-4d9b-9b8e-30c79c1b776f",
   "metadata": {},
   "outputs": [
    {
     "name": "stdout",
     "output_type": "stream",
     "text": [
      "(<cell at 0x000001BAEBE86DF0: str object at 0x000001BAEDAE7AB0>,)\n"
     ]
    }
   ],
   "source": [
    "print((func.__closure__))"
   ]
  },
  {
   "cell_type": "code",
   "execution_count": 27,
   "id": "360d86b8-6056-4ee8-866d-bf28b78a6425",
   "metadata": {},
   "outputs": [
    {
     "name": "stdout",
     "output_type": "stream",
     "text": [
      "<cell at 0x000001BAEBE86DF0: str object at 0x000001BAEDAE7AB0>\n"
     ]
    }
   ],
   "source": [
    "print(func.__closure__[0])"
   ]
  },
  {
   "cell_type": "code",
   "execution_count": 28,
   "id": "de100068-8ad4-477e-a033-f67924eaeb4f",
   "metadata": {},
   "outputs": [
    {
     "name": "stdout",
     "output_type": "stream",
     "text": [
      "['__class__', '__delattr__', '__dir__', '__doc__', '__eq__', '__format__', '__ge__', '__getattribute__', '__gt__', '__hash__', '__init__', '__init_subclass__', '__le__', '__lt__', '__ne__', '__new__', '__reduce__', '__reduce_ex__', '__repr__', '__setattr__', '__sizeof__', '__str__', '__subclasshook__', 'cell_contents']\n"
     ]
    }
   ],
   "source": [
    "print(dir(func.__closure__[0]))"
   ]
  },
  {
   "cell_type": "code",
   "execution_count": 29,
   "id": "fc8466cb-98fe-4601-8011-cc5e8b9a33e1",
   "metadata": {},
   "outputs": [
    {
     "name": "stdout",
     "output_type": "stream",
     "text": [
      "Good Morning!\n"
     ]
    }
   ],
   "source": [
    "print(func.__closure__[0].cell_contents)"
   ]
  },
  {
   "cell_type": "code",
   "execution_count": 30,
   "id": "7c792a81-097c-43b2-9b8b-92d53bc5ef60",
   "metadata": {},
   "outputs": [],
   "source": [
    "def log_formatter(msg):\n",
    "    def log_message():\n",
    "        time_str = time.strftime('%c', time.localtime(time.time()))\n",
    "        print(time_str, end = '')\n",
    "        print('--->', end = '')\n",
    "        print(msg) #자기 밖의 함수의 지역변수를 사용하는 순간 closure가 됨\n",
    "    \n",
    "    return log_message "
   ]
  },
  {
   "cell_type": "code",
   "execution_count": 31,
   "id": "478e8c6f-e818-48fa-a330-dbf2b023afda",
   "metadata": {},
   "outputs": [],
   "source": [
    "test_log_msg = log_formatter('test log')\n",
    "runtime_log_msg = log_formatter('runtime log')"
   ]
  },
  {
   "cell_type": "code",
   "execution_count": 32,
   "id": "8b57493d-bf84-452a-9d61-bad32836bf00",
   "metadata": {},
   "outputs": [
    {
     "name": "stdout",
     "output_type": "stream",
     "text": [
      "Thu Jun  8 09:46:45 2023--->runtime log\n"
     ]
    }
   ],
   "source": [
    "runtime_log_msg()"
   ]
  },
  {
   "cell_type": "code",
   "execution_count": 33,
   "id": "43766d7c-f591-4d19-b293-8de7fa7e4ba5",
   "metadata": {},
   "outputs": [],
   "source": [
    "def log_decorator(param_func):\n",
    "    def log_message():\n",
    "        time_str = time.strftime('%c', time.localtime(time.time()))\n",
    "        print(time_str, end = '')\n",
    "        print('--->', end = '')\n",
    "        return param_func() \n",
    "    return log_message"
   ]
  },
  {
   "cell_type": "code",
   "execution_count": 34,
   "id": "ba2e2fdc-588f-4cb9-b553-0039318762ce",
   "metadata": {},
   "outputs": [],
   "source": [
    "def test_log_msg():\n",
    "    print('This is test log message')\n",
    "    \n",
    "def runtime_log_msg():\n",
    "    print('This is runtime log message')"
   ]
  },
  {
   "cell_type": "code",
   "execution_count": 35,
   "id": "a77c308b-28f1-4dca-970e-07c2988fa147",
   "metadata": {},
   "outputs": [],
   "source": [
    "test_log = log_decorator(test_log_msg)\n",
    "runtime_log = log_decorator(runtime_log_msg)"
   ]
  },
  {
   "cell_type": "code",
   "execution_count": 36,
   "id": "401ec2ed-9d56-48c1-a7af-40cfc7f8cf8c",
   "metadata": {},
   "outputs": [
    {
     "name": "stdout",
     "output_type": "stream",
     "text": [
      "Thu Jun  8 10:10:32 2023--->This is test log message\n"
     ]
    }
   ],
   "source": [
    "test_log()"
   ]
  },
  {
   "cell_type": "code",
   "execution_count": 37,
   "id": "07d26b21-4b17-49ee-8de7-b2f2c5fadcc2",
   "metadata": {},
   "outputs": [
    {
     "name": "stdout",
     "output_type": "stream",
     "text": [
      "Thu Jun  8 10:10:40 2023--->This is runtime log message\n"
     ]
    }
   ],
   "source": [
    "runtime_log()"
   ]
  },
  {
   "cell_type": "code",
   "execution_count": 38,
   "id": "c598a54f-bfa9-4df4-99e2-2fc2cb72f750",
   "metadata": {},
   "outputs": [],
   "source": [
    "@log_decorator\n",
    "def test_log_msg():\n",
    "    print('This is test log message')\n",
    "\n",
    "@log_decorator\n",
    "def runtime_log_msg():\n",
    "    print('This is runtime log message')"
   ]
  },
  {
   "cell_type": "code",
   "execution_count": 39,
   "id": "64fe6269-d256-4130-b351-5f01767df4df",
   "metadata": {},
   "outputs": [
    {
     "name": "stdout",
     "output_type": "stream",
     "text": [
      "Thu Jun  8 10:15:42 2023--->This is test log message\n"
     ]
    }
   ],
   "source": [
    "test_log_msg()"
   ]
  },
  {
   "cell_type": "code",
   "execution_count": 40,
   "id": "25c45687-ac89-4660-bdbc-78e1019cd85f",
   "metadata": {},
   "outputs": [
    {
     "name": "stdout",
     "output_type": "stream",
     "text": [
      "Thu Jun  8 10:15:51 2023--->This is runtime log message\n"
     ]
    }
   ],
   "source": [
    "runtime_log_msg()"
   ]
  },
  {
   "cell_type": "code",
   "execution_count": 41,
   "id": "850dca7b-f4b5-4e99-a6c7-c6be66a7f29d",
   "metadata": {},
   "outputs": [],
   "source": [
    "@log_decorator\n",
    "def runtime_log_msg(host, ip):\n",
    "    print(f'This is runtime log message from {host} : {ip}')"
   ]
  },
  {
   "cell_type": "code",
   "execution_count": 42,
   "id": "eb42d606-2745-4ced-934d-527b725dd433",
   "metadata": {},
   "outputs": [
    {
     "ename": "TypeError",
     "evalue": "log_message() takes 0 positional arguments but 2 were given",
     "output_type": "error",
     "traceback": [
      "\u001b[1;31m---------------------------------------------------------------------------\u001b[0m",
      "\u001b[1;31mTypeError\u001b[0m                                 Traceback (most recent call last)",
      "Cell \u001b[1;32mIn[42], line 1\u001b[0m\n\u001b[1;32m----> 1\u001b[0m \u001b[43mruntime_log_msg\u001b[49m\u001b[43m(\u001b[49m\u001b[38;5;124;43m'\u001b[39;49m\u001b[38;5;124;43mlocalhost\u001b[39;49m\u001b[38;5;124;43m'\u001b[39;49m\u001b[43m,\u001b[49m\u001b[43m \u001b[49m\u001b[38;5;124;43m'\u001b[39;49m\u001b[38;5;124;43m192.168.23.4\u001b[39;49m\u001b[38;5;124;43m'\u001b[39;49m\u001b[43m)\u001b[49m\n",
      "\u001b[1;31mTypeError\u001b[0m: log_message() takes 0 positional arguments but 2 were given"
     ]
    }
   ],
   "source": [
    "runtime_log_msg('localhost', '192.168.23.4')"
   ]
  },
  {
   "cell_type": "code",
   "execution_count": 43,
   "id": "66ef540f-6c46-470a-a8b5-4f9b4be6fd9a",
   "metadata": {},
   "outputs": [],
   "source": [
    "def log_decorator(param_func):\n",
    "    def log_message(*args, **kargs):\n",
    "        time_str = time.strftime('%c', time.localtime(time.time()))\n",
    "        print(time_str, end = '')\n",
    "        print('--->', end = '')\n",
    "        return param_func(*args, **kargs) #무언가를 return 하는 함수인지 아닌지\n",
    "    return log_message"
   ]
  },
  {
   "cell_type": "code",
   "execution_count": 44,
   "id": "a95805d8-4ea2-462a-8e0d-1c1d7aa8ff93",
   "metadata": {},
   "outputs": [],
   "source": [
    "@log_decorator\n",
    "def test_log_msg():\n",
    "    print('This is test log message')"
   ]
  },
  {
   "cell_type": "code",
   "execution_count": 45,
   "id": "6d32a453-21b5-4efb-8b77-4ebcbb557201",
   "metadata": {},
   "outputs": [],
   "source": [
    "@log_decorator\n",
    "def runtime_log_msg(host, ip):\n",
    "    print(f'This is runtime log message from {host} : {ip}')"
   ]
  },
  {
   "cell_type": "code",
   "execution_count": 46,
   "id": "4bcbd2f7-3b29-43cc-a90a-e6af26982cb0",
   "metadata": {},
   "outputs": [
    {
     "name": "stdout",
     "output_type": "stream",
     "text": [
      "Thu Jun  8 10:25:26 2023--->This is test log message\n"
     ]
    }
   ],
   "source": [
    "test_log_msg()"
   ]
  },
  {
   "cell_type": "code",
   "execution_count": 47,
   "id": "c2e8d0a0-32e0-4c99-80de-db07c3f54969",
   "metadata": {},
   "outputs": [
    {
     "name": "stdout",
     "output_type": "stream",
     "text": [
      "Thu Jun  8 10:25:31 2023--->This is runtime log message from localhost : 192.168.23.4\n"
     ]
    }
   ],
   "source": [
    "runtime_log_msg('localhost', '192.168.23.4')"
   ]
  },
  {
   "cell_type": "code",
   "execution_count": 49,
   "id": "e79ab75c-1124-43fa-8687-a2f82234a140",
   "metadata": {},
   "outputs": [
    {
     "name": "stdout",
     "output_type": "stream",
     "text": [
      "Thu Jun  8 10:32:49 2023--->This is runtime log message from localhost : 192.168.23.4\n"
     ]
    }
   ],
   "source": [
    "@log_decorator\n",
    "def runtime_log_msg(arg_dict):\n",
    "    print(f'This is runtime log message from {arg_dict[\"host\"]} : {arg_dict[\"ip\"]}')\n",
    "\n",
    "param_dict = {'host':'localhost', 'ip':'192.168.23.4'}\n",
    "\n",
    "runtime_log_msg(param_dict)"
   ]
  },
  {
   "cell_type": "code",
   "execution_count": null,
   "id": "00e401de-e4f4-4765-b783-8aa7ac197b7e",
   "metadata": {},
   "outputs": [],
   "source": []
  }
 ],
 "metadata": {
  "kernelspec": {
   "display_name": "Python 3 (ipykernel)",
   "language": "python",
   "name": "python3"
  },
  "language_info": {
   "codemirror_mode": {
    "name": "ipython",
    "version": 3
   },
   "file_extension": ".py",
   "mimetype": "text/x-python",
   "name": "python",
   "nbconvert_exporter": "python",
   "pygments_lexer": "ipython3",
   "version": "3.9.16"
  }
 },
 "nbformat": 4,
 "nbformat_minor": 5
}
