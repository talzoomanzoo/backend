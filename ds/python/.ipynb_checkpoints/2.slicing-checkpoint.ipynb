{
 "cells": [
  {
   "cell_type": "markdown",
   "id": "fa518403-d77d-4b19-9fdd-e23fbb6fa7ae",
   "metadata": {},
   "source": [
    "# Slicing Basics"
   ]
  },
  {
   "cell_type": "code",
   "execution_count": 2,
   "id": "a64fbeea-4656-4d38-9933-33d364d7c8f6",
   "metadata": {},
   "outputs": [],
   "source": [
    "cities = ['서울', '부산', '인천', '대구', '대전', '광주', '울산', '수원']"
   ]
  },
  {
   "cell_type": "code",
   "execution_count": 3,
   "id": "95f92829-ef63-456e-a12f-269ff4b07f05",
   "metadata": {},
   "outputs": [
    {
     "name": "stdout",
     "output_type": "stream",
     "text": [
      "['서울', '부산', '인천', '대구', '대전', '광주']\n"
     ]
    }
   ],
   "source": [
    "print(cities[0:6]) #end index 바로 직전까지 range"
   ]
  },
  {
   "cell_type": "code",
   "execution_count": 4,
   "id": "d6eb0d34-b8bb-4421-837a-0195307b2f73",
   "metadata": {},
   "outputs": [
    {
     "name": "stdout",
     "output_type": "stream",
     "text": [
      "['서울', '부산', '인천', '대구', '대전', '광주']\n"
     ]
    }
   ],
   "source": [
    "print(cities[:6]) #처음 생략"
   ]
  },
  {
   "cell_type": "code",
   "execution_count": 5,
   "id": "8575fff8-b1f1-4366-9acf-1954fa19c9f3",
   "metadata": {},
   "outputs": [
    {
     "name": "stdout",
     "output_type": "stream",
     "text": [
      "['인천', '대구', '대전', '광주', '울산', '수원']\n"
     ]
    }
   ],
   "source": [
    "print(cities[2:]) #끝 생략"
   ]
  },
  {
   "cell_type": "code",
   "execution_count": 6,
   "id": "9da10001-7a0b-41d7-9263-dae4f37b4c5c",
   "metadata": {},
   "outputs": [
    {
     "name": "stdout",
     "output_type": "stream",
     "text": [
      "['부산', '인천', '대구', '대전', '광주', '울산', '수원']\n"
     ]
    }
   ],
   "source": [
    "print(cities[-7:]) #음수는 뒤에서부터 거꾸로"
   ]
  },
  {
   "cell_type": "code",
   "execution_count": 8,
   "id": "6542e0cc-0ad2-4021-8adc-d1a2dee3e417",
   "metadata": {},
   "outputs": [
    {
     "name": "stdout",
     "output_type": "stream",
     "text": [
      "['서울', '부산', '인천', '대구', '대전', '광주']\n"
     ]
    }
   ],
   "source": [
    "print(cities[:-2])"
   ]
  },
  {
   "cell_type": "code",
   "execution_count": 9,
   "id": "939d11ad-b709-4e0d-8766-f948e518dc62",
   "metadata": {},
   "outputs": [
    {
     "name": "stdout",
     "output_type": "stream",
     "text": [
      "['서울', '부산', '인천', '대구', '대전', '광주', '울산', '수원']\n"
     ]
    }
   ],
   "source": [
    "print(cities[:])"
   ]
  },
  {
   "cell_type": "code",
   "execution_count": 11,
   "id": "3e28fbcb-efe4-46d5-b578-af453f7716e1",
   "metadata": {},
   "outputs": [
    {
     "name": "stdout",
     "output_type": "stream",
     "text": [
      "['부산', '대구', '광주']\n"
     ]
    }
   ],
   "source": [
    "print(cities[1:7:2]) #마지막은 step"
   ]
  },
  {
   "cell_type": "code",
   "execution_count": 12,
   "id": "fdc44f78-2c11-4c96-aac8-d00d0fc7e59d",
   "metadata": {},
   "outputs": [
    {
     "name": "stdout",
     "output_type": "stream",
     "text": [
      "['수원', '울산', '광주', '대전', '대구', '인천', '부산', '서울']\n"
     ]
    }
   ],
   "source": [
    "print(cities[::-1]) #전체 데이터 거꾸로 출력"
   ]
  },
  {
   "cell_type": "markdown",
   "id": "bb4f920e-f41d-4a54-8dac-a1aab6fc7746",
   "metadata": {},
   "source": [
    "# Concatenation of Lists"
   ]
  },
  {
   "cell_type": "code",
   "execution_count": 13,
   "id": "e48679b0-db21-4ca0-92a8-4f9d83bf8aa1",
   "metadata": {},
   "outputs": [],
   "source": [
    "color1 = ['red', 'blue', 'green']\n",
    "color2 = ['orange', 'black', 'white']"
   ]
  },
  {
   "cell_type": "code",
   "execution_count": 14,
   "id": "dd90695a-0627-4908-98f0-53136566774b",
   "metadata": {},
   "outputs": [
    {
     "name": "stdout",
     "output_type": "stream",
     "text": [
      "['red', 'blue', 'green', 'orange', 'black', 'white']\n"
     ]
    }
   ],
   "source": [
    "add_color = color1 + color2\n",
    "print(add_color)"
   ]
  },
  {
   "cell_type": "code",
   "execution_count": 15,
   "id": "b25110e7-9f54-4e79-8998-13045ffe5f6d",
   "metadata": {},
   "outputs": [
    {
     "name": "stdout",
     "output_type": "stream",
     "text": [
      "['red', 'blue', 'green', 'red', 'blue', 'green']\n"
     ]
    }
   ],
   "source": [
    "mul_list = color1 * 2\n",
    "print(mul_list)"
   ]
  },
  {
   "cell_type": "markdown",
   "id": "16f99a2e-c03e-4848-ba3f-f7cf70a340d7",
   "metadata": {},
   "source": [
    "# Existence in Lists"
   ]
  },
  {
   "cell_type": "code",
   "execution_count": 16,
   "id": "f2387a75-7b9d-493f-9c0b-6498afec771b",
   "metadata": {},
   "outputs": [
    {
     "name": "stdout",
     "output_type": "stream",
     "text": [
      "False\n"
     ]
    }
   ],
   "source": [
    "print('blue' in color2)"
   ]
  },
  {
   "cell_type": "code",
   "execution_count": 17,
   "id": "0207d749-91dc-4133-8bfc-4ae0ee4afe87",
   "metadata": {},
   "outputs": [
    {
     "name": "stdout",
     "output_type": "stream",
     "text": [
      "True\n"
     ]
    }
   ],
   "source": [
    "print('blue' in color1)"
   ]
  },
  {
   "cell_type": "markdown",
   "id": "35bded96-f93c-464b-8021-ab486c7bb4e5",
   "metadata": {},
   "source": [
    "# Adding Elements in Lists"
   ]
  },
  {
   "cell_type": "code",
   "execution_count": 19,
   "id": "3247b26f-ba33-4257-b526-3d189359cf4e",
   "metadata": {},
   "outputs": [
    {
     "name": "stdout",
     "output_type": "stream",
     "text": [
      "['red', 'blue', 'green']\n"
     ]
    }
   ],
   "source": [
    "print(color1)"
   ]
  },
  {
   "cell_type": "code",
   "execution_count": 21,
   "id": "b239dd8f-a3ff-4aa5-9429-d746eebc60c7",
   "metadata": {},
   "outputs": [
    {
     "name": "stdout",
     "output_type": "stream",
     "text": [
      "['red', 'blue', 'green', 'white']\n"
     ]
    }
   ],
   "source": [
    "color1.append('white')\n",
    "print(color1)"
   ]
  },
  {
   "cell_type": "code",
   "execution_count": 22,
   "id": "eaf8386f-48f8-4688-98df-9129c5ec566c",
   "metadata": {},
   "outputs": [
    {
     "name": "stdout",
     "output_type": "stream",
     "text": [
      "['red', 'blue', 'green', 'white', 'black', 'purple']\n"
     ]
    }
   ],
   "source": [
    "color1.extend(['black', 'purple']) #multiple appending\n",
    "print(color1)"
   ]
  },
  {
   "cell_type": "code",
   "execution_count": 26,
   "id": "835fbf2d-b063-413c-a819-7471ad2a7c87",
   "metadata": {},
   "outputs": [
    {
     "name": "stdout",
     "output_type": "stream",
     "text": [
      "['red', 'black', 'purple', 'blue', 'green']\n"
     ]
    }
   ],
   "source": [
    "colors = ['red', 'blue', 'green']\n",
    "colors.insert(1, 'black')\n",
    "colors.insert(2, 'purple')\n",
    "print(colors)"
   ]
  },
  {
   "cell_type": "markdown",
   "id": "3b1d1d50-4209-44fb-a7dd-3bfa9010910c",
   "metadata": {},
   "source": [
    "# Removing Elements in Lists"
   ]
  },
  {
   "cell_type": "code",
   "execution_count": 27,
   "id": "4c8a5598-6227-4e8f-b9b1-1fa592de3e88",
   "metadata": {},
   "outputs": [
    {
     "name": "stdout",
     "output_type": "stream",
     "text": [
      "['red', 'black', 'blue', 'green']\n"
     ]
    }
   ],
   "source": [
    "colors.remove('purple')\n",
    "print(colors)"
   ]
  },
  {
   "cell_type": "code",
   "execution_count": 28,
   "id": "23414289-4eeb-4fc4-b620-df7f9231e8b7",
   "metadata": {},
   "outputs": [
    {
     "name": "stdout",
     "output_type": "stream",
     "text": [
      "['red', 'blue', 'green']\n"
     ]
    }
   ],
   "source": [
    "del colors[1] #인덱스로 삭제하고 싶을 때\n",
    "print(colors)"
   ]
  },
  {
   "cell_type": "code",
   "execution_count": 29,
   "id": "0cb34081-4025-460b-a049-e88dc56c6c6a",
   "metadata": {},
   "outputs": [
    {
     "name": "stdout",
     "output_type": "stream",
     "text": [
      "['red', 'yellow', 'green']\n"
     ]
    }
   ],
   "source": [
    "colors[1] = 'yellow'\n",
    "print(colors)"
   ]
  },
  {
   "cell_type": "markdown",
   "id": "6e4121d2-dac6-4b05-b1d6-944ab6e0932c",
   "metadata": {},
   "source": [
    "# Packing and Unpacking"
   ]
  },
  {
   "cell_type": "code",
   "execution_count": 30,
   "id": "e72f27ae-192c-4992-adb8-8d94b1fe51d0",
   "metadata": {},
   "outputs": [
    {
     "name": "stdout",
     "output_type": "stream",
     "text": [
      "['red', 'blue', 'green']\n"
     ]
    }
   ],
   "source": [
    "colors = ['red', 'blue', 'green'] #packed in colors\n",
    "print(colors)"
   ]
  },
  {
   "cell_type": "code",
   "execution_count": 31,
   "id": "7a77fb9f-1c72-4880-b1be-db2684115cf2",
   "metadata": {},
   "outputs": [
    {
     "name": "stdout",
     "output_type": "stream",
     "text": [
      "red blue green\n"
     ]
    }
   ],
   "source": [
    "a, b, c = colors\n",
    "print(a, b, c) #unpacked (자바에서는 불가능 하지만 파이썬에서는 기본으로 언패킹 가능)"
   ]
  },
  {
   "cell_type": "code",
   "execution_count": 33,
   "id": "a7c0f842-95e7-485b-9f6d-9d853dba8edd",
   "metadata": {},
   "outputs": [
    {
     "name": "stdout",
     "output_type": "stream",
     "text": [
      "['red', 'blue', 'green']\n"
     ]
    }
   ],
   "source": [
    "print(colors) #still unpacked"
   ]
  },
  {
   "cell_type": "code",
   "execution_count": 34,
   "id": "b7369a82-f79c-4254-ba67-a7da8b1878aa",
   "metadata": {},
   "outputs": [
    {
     "ename": "ValueError",
     "evalue": "too many values to unpack (expected 2)",
     "output_type": "error",
     "traceback": [
      "\u001b[1;31m---------------------------------------------------------------------------\u001b[0m",
      "\u001b[1;31mValueError\u001b[0m                                Traceback (most recent call last)",
      "Cell \u001b[1;32mIn[34], line 2\u001b[0m\n\u001b[0;32m      1\u001b[0m \u001b[38;5;66;03m# 만약 green이 필요없다고\u001b[39;00m\n\u001b[1;32m----> 2\u001b[0m a, b \u001b[38;5;241m=\u001b[39m colors \u001b[38;5;66;03m#2개 = 3개\u001b[39;00m\n\u001b[0;32m      3\u001b[0m \u001b[38;5;28mprint\u001b[39m(a,b)\n",
      "\u001b[1;31mValueError\u001b[0m: too many values to unpack (expected 2)"
     ]
    }
   ],
   "source": [
    "# 만약 green이 필요없다고\n",
    "a, b = colors #2개 = 3개: 2개를 기대하고 풀었는데 list에 너무 많다\n",
    "print(a,b)"
   ]
  },
  {
   "cell_type": "code",
   "execution_count": 35,
   "id": "2a286e99-bc9c-4551-9b97-18d73bcffdfc",
   "metadata": {},
   "outputs": [
    {
     "name": "stdout",
     "output_type": "stream",
     "text": [
      "red blue\n"
     ]
    }
   ],
   "source": [
    "#2개만 unpacking\n",
    "a, b, _ = colors #나머지 하나는 버림\n",
    "print(a,b)"
   ]
  },
  {
   "cell_type": "code",
   "execution_count": 36,
   "id": "acf67ed6-756f-4d54-884c-484635f1cbb6",
   "metadata": {},
   "outputs": [
    {
     "name": "stdout",
     "output_type": "stream",
     "text": [
      "red\n"
     ]
    }
   ],
   "source": [
    "#1개만 unpacking\n",
    "a, _, _ = colors\n",
    "print(a)"
   ]
  },
  {
   "cell_type": "markdown",
   "id": "6e9a201c-bf6e-4479-9748-51196b81c258",
   "metadata": {},
   "source": [
    "# N-Dimensional Lists (보통 2차원까지)"
   ]
  },
  {
   "cell_type": "code",
   "execution_count": 41,
   "id": "780cabfb-9ccb-4c02-b936-f20fae0c8bee",
   "metadata": {},
   "outputs": [],
   "source": [
    "kor_score = [50, 65, 85, 100, 90] #eg. address 100\n",
    "eng_score = [75, 80, 90, 85, 100] #eg. address 200\n",
    "math_score = [100, 90, 70, 90, 85] #eg. address 300\n",
    "term_score = [kor_score, eng_score, math_score] #다차원 배열 구현 방식 \n",
    "                                                #주소값이 list 값이 따로 물리 메모리에 저장됨\n"
   ]
  },
  {
   "cell_type": "code",
   "execution_count": 42,
   "id": "9f3fc440-7900-4b08-8863-68e497bfa7e4",
   "metadata": {},
   "outputs": [
    {
     "name": "stdout",
     "output_type": "stream",
     "text": [
      "[[50, 65, 85, 100, 90], [75, 80, 90, 85, 100], [100, 90, 70, 90, 85]]\n"
     ]
    }
   ],
   "source": [
    "print(term_score)"
   ]
  },
  {
   "cell_type": "code",
   "execution_count": 47,
   "id": "187772a6-1dbf-4172-b95d-616b86f78854",
   "metadata": {},
   "outputs": [
    {
     "name": "stdout",
     "output_type": "stream",
     "text": [
      "1972135574592\n",
      "1972023743152\n",
      "1972023742832\n",
      "1972023742992\n"
     ]
    }
   ],
   "source": [
    "#각각 다른 물리 메모리에 저장되어 있음\n",
    "print(id(term_score))\n",
    "print(id(eng_score[0])) #first row\n",
    "print(id(kor_score[1])) #second row\n",
    "print(id(math_score[2])) #third row"
   ]
  },
  {
   "cell_type": "code",
   "execution_count": 48,
   "id": "ad0bb3b3-23b0-4c7f-ae46-e2074e53ab10",
   "metadata": {},
   "outputs": [
    {
     "name": "stdout",
     "output_type": "stream",
     "text": [
      "85\n"
     ]
    }
   ],
   "source": [
    "print(term_score[0][2]) #first row, third col"
   ]
  },
  {
   "cell_type": "code",
   "execution_count": null,
   "id": "e915abb7-0b74-4752-9c5f-e1aa160fbf99",
   "metadata": {},
   "outputs": [],
   "source": []
  }
 ],
 "metadata": {
  "kernelspec": {
   "display_name": "Python 3 (ipykernel)",
   "language": "python",
   "name": "python3"
  },
  "language_info": {
   "codemirror_mode": {
    "name": "ipython",
    "version": 3
   },
   "file_extension": ".py",
   "mimetype": "text/x-python",
   "name": "python",
   "nbconvert_exporter": "python",
   "pygments_lexer": "ipython3",
   "version": "3.9.16"
  }
 },
 "nbformat": 4,
 "nbformat_minor": 5
}
