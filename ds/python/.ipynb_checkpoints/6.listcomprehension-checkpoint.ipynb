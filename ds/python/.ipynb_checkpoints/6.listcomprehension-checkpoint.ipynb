{
 "cells": [
  {
   "cell_type": "code",
   "execution_count": 1,
   "id": "215003de-578a-42c8-a783-d8e28e3ee44f",
   "metadata": {},
   "outputs": [
    {
     "name": "stdout",
     "output_type": "stream",
     "text": [
      "[0, 1, 2, 3, 4, 5, 6, 7, 8, 9]\n"
     ]
    }
   ],
   "source": [
    "result = []\n",
    "for i in range(10):\n",
    "    result.append(i)\n",
    "    \n",
    "print(result)"
   ]
  },
  {
   "cell_type": "code",
   "execution_count": 2,
   "id": "6f6b9613-6568-416b-98ab-017010f62d61",
   "metadata": {},
   "outputs": [
    {
     "name": "stdout",
     "output_type": "stream",
     "text": [
      "[0, 1, 2, 3, 4, 5, 6, 7, 8, 9]\n"
     ]
    }
   ],
   "source": [
    "result2 = [i for i in range(10)] #list comprehension 속도 월등히 빠름\n",
    "print(result2)"
   ]
  },
  {
   "cell_type": "code",
   "execution_count": 3,
   "id": "79669a3d-7f20-4b24-ab96-a7fa48567d06",
   "metadata": {},
   "outputs": [
    {
     "name": "stdout",
     "output_type": "stream",
     "text": [
      "[0, 2, 4, 6, 8]\n"
     ]
    }
   ],
   "source": [
    "result = []\n",
    "for i in range(10):\n",
    "    if i % 2 == 0:\n",
    "        result.append(i)\n",
    "    \n",
    "print(result)"
   ]
  },
  {
   "cell_type": "code",
   "execution_count": 6,
   "id": "ed9b938e-0676-417d-8714-895efd19de28",
   "metadata": {},
   "outputs": [
    {
     "name": "stdout",
     "output_type": "stream",
     "text": [
      "[0, 2, 4, 6, 8]\n"
     ]
    }
   ],
   "source": [
    "result2 = [i for i in range(10) if i%2 == 0 ]\n",
    "print(result2)"
   ]
  },
  {
   "cell_type": "code",
   "execution_count": 7,
   "id": "9e8c1b84-bd6c-4a90-ba34-cbcee15fc1ed",
   "metadata": {},
   "outputs": [
    {
     "name": "stdout",
     "output_type": "stream",
     "text": [
      "[0, 99, 2, 99, 4, 99, 6, 99, 8, 99]\n"
     ]
    }
   ],
   "source": [
    "result = []\n",
    "for i in range(10):\n",
    "    if i % 2 == 0:\n",
    "        result.append(i)\n",
    "    else:\n",
    "        result.append(99)\n",
    "    \n",
    "print(result)"
   ]
  },
  {
   "cell_type": "code",
   "execution_count": 13,
   "id": "5114dc74-2561-4e0a-883c-93f15263129c",
   "metadata": {},
   "outputs": [
    {
     "name": "stdout",
     "output_type": "stream",
     "text": [
      "[0, 99, 2, 99, 4, 99, 6, 99, 8, 99]\n"
     ]
    }
   ],
   "source": [
    "result2 = [i if i%2 == 0 else 99 for i in range(10)]\n",
    "print(result2)"
   ]
  },
  {
   "cell_type": "code",
   "execution_count": 1,
   "id": "d14b9442-eccb-4a2f-b55a-fb5965feb36d",
   "metadata": {},
   "outputs": [
    {
     "name": "stdout",
     "output_type": "stream",
     "text": [
      "['HW', 'Ho', 'Hr', 'Hl', 'Hd', 'eW', 'eo', 'er', 'el', 'ed', 'lW', 'lo', 'lr', 'll', 'ld', 'lW', 'lo', 'lr', 'll', 'ld', 'oW', 'oo', 'or', 'ol', 'od']\n"
     ]
    }
   ],
   "source": [
    "word1 = 'Hello'\n",
    "word2 = 'World'\n",
    "result = [i + j for i in word1 for j in word2]\n",
    "print(result)"
   ]
  },
  {
   "cell_type": "code",
   "execution_count": 5,
   "id": "c713ca9b-ad8a-4831-988b-90408716f006",
   "metadata": {},
   "outputs": [
    {
     "name": "stdout",
     "output_type": "stream",
     "text": [
      "['HW', 'Ho', 'Hr', 'Hl', 'Hd', 'eW', 'eo', 'er', 'el', 'ed', 'lW', 'lo', 'lr', 'll', 'ld', 'lW', 'lo', 'lr', 'll', 'ld', 'oW', 'oo', 'or', 'ol', 'od']\n"
     ]
    }
   ],
   "source": [
    "word1 = 'Hello'\n",
    "word2 = 'World'\n",
    "result = []\n",
    "for i in word1:\n",
    "    for j in word2:\n",
    "        result.append(i+j)\n",
    "print(result)"
   ]
  },
  {
   "cell_type": "code",
   "execution_count": 8,
   "id": "ceeb20e4-0cba-45a0-afd8-16e45700dff6",
   "metadata": {},
   "outputs": [
    {
     "name": "stdout",
     "output_type": "stream",
     "text": [
      "['AB', 'AC', 'BA', 'BC', 'CA', 'CB']\n"
     ]
    }
   ],
   "source": [
    "case1 = ['A', 'B', 'C']\n",
    "case2 = ['A', 'B', 'C']\n",
    "result = [i + j for i in case1 for j in case2 if i !=j]\n",
    "print(result)"
   ]
  },
  {
   "cell_type": "code",
   "execution_count": 10,
   "id": "8de1e93a-a3ce-4023-a8e4-71472e5ca6f6",
   "metadata": {},
   "outputs": [
    {
     "name": "stdout",
     "output_type": "stream",
     "text": [
      "['AB', 'AC', 'BA', 'BC', 'CA', 'CB']\n"
     ]
    }
   ],
   "source": [
    "case1 = ['A', 'B', 'C']\n",
    "case2 = ['A', 'B', 'C']\n",
    "result = []\n",
    "for i in case1:\n",
    "    for j in case2:\n",
    "        if i != j:\n",
    "            result.append(i+j)\n",
    "print(result)"
   ]
  },
  {
   "cell_type": "code",
   "execution_count": 12,
   "id": "5de6e51f-580c-4861-80fb-c626daff1a79",
   "metadata": {},
   "outputs": [
    {
     "name": "stdout",
     "output_type": "stream",
     "text": [
      "0 tic\n",
      "1 tac\n",
      "2 toe\n"
     ]
    }
   ],
   "source": [
    "#enumerate\n",
    "for i, v  in enumerate(['tic', 'tac', 'toe']): #iterable data를 enumerate로 감싸면 index를 쓸 수 있다\n",
    "    print(i, v)"
   ]
  },
  {
   "cell_type": "code",
   "execution_count": 11,
   "id": "3ef99d72-0a3d-4563-bfce-a4553e233b13",
   "metadata": {},
   "outputs": [
    {
     "name": "stdout",
     "output_type": "stream",
     "text": [
      "{0: 'The', 1: 'Dark', 2: 'Tower', 3: 'is', 4: 'a', 5: 'series', 6: 'of', 7: 'eight', 8: 'books', 9: 'and', 10: 'one', 11: 'short', 12: 'story', 13: 'written', 14: 'by', 15: 'American', 16: 'author', 17: 'Stephen', 18: 'King'}\n"
     ]
    }
   ],
   "source": [
    "result = {i:j for i,j in enumerate(\"\"\"The Dark Tower is a series of eight books and \n",
    "one short story written by American author Stephen King\"\"\".split())}\n",
    "print(result)"
   ]
  },
  {
   "cell_type": "code",
   "execution_count": 15,
   "id": "be3f7a1b-9e01-472d-bfbb-71bf1f1e70c8",
   "metadata": {},
   "outputs": [
    {
     "name": "stdout",
     "output_type": "stream",
     "text": [
      "{0: 'The', 1: 'Dark', 2: 'Tower', 3: 'is', 4: 'a', 5: 'series', 6: 'of', 7: 'eight', 8: 'books', 9: 'and', 10: 'one', 11: 'short', 12: 'story', 13: 'written', 14: 'by', 15: 'American', 16: 'author', 17: 'Stephen', 18: 'King'}\n"
     ]
    }
   ],
   "source": [
    "result = dict()\n",
    "for i, j in enumerate(\"\"\"The Dark Tower is a series of eight books and \n",
    "one short story written by American author Stephen King\"\"\".split()):\n",
    "    result[i] = j\n",
    "print(result)"
   ]
  },
  {
   "cell_type": "code",
   "execution_count": 18,
   "id": "d78472e7-26f4-45ad-9849-bb1958b185a2",
   "metadata": {},
   "outputs": [
    {
     "name": "stdout",
     "output_type": "stream",
     "text": [
      "(0, 4, 16, 36, 64)\n"
     ]
    }
   ],
   "source": [
    "new_tuple = tuple(x ** 2 for x in range(10) if x % 2 == 0)\n",
    "print(new_tuple)"
   ]
  },
  {
   "cell_type": "code",
   "execution_count": 17,
   "id": "e66268b0-726d-4c8a-8fdf-ea775f96be01",
   "metadata": {},
   "outputs": [
    {
     "name": "stdout",
     "output_type": "stream",
     "text": [
      "[0, 4, 16, 36, 64]\n"
     ]
    }
   ],
   "source": [
    "new_tuple = list()\n",
    "for x in range(10):\n",
    "    if x % 2 == 0 :\n",
    "        new_tuple.append(x**2)\n",
    "new_tuple = list(new_tuple)\n",
    "print(new_tuple)"
   ]
  },
  {
   "cell_type": "code",
   "execution_count": 20,
   "id": "e8c61219-a01f-4710-a49d-df281e7cd761",
   "metadata": {},
   "outputs": [
    {
     "name": "stdout",
     "output_type": "stream",
     "text": [
      "a1 b1\n",
      "a2 b2\n",
      "a3 b3\n"
     ]
    }
   ],
   "source": [
    "alist = ['a1', 'a2', 'a3']\n",
    "blist = ['b1', 'b2', 'b3', 'b4']\n",
    "\n",
    "for a,b in zip(alist, blist):\n",
    "    print(a,b)"
   ]
  },
  {
   "cell_type": "code",
   "execution_count": 21,
   "id": "bd7cf39e-9a4f-44dc-9c1b-472eb9894e09",
   "metadata": {},
   "outputs": [
    {
     "name": "stdout",
     "output_type": "stream",
     "text": [
      "(1, 10, 100) (2, 20, 200) (3, 30, 300)\n"
     ]
    }
   ],
   "source": [
    "a, b, c = zip((1, 2, 3), (10, 20, 30), (100, 200, 300))\n",
    "print(a, b, c)"
   ]
  },
  {
   "cell_type": "code",
   "execution_count": 22,
   "id": "4e18916d-1ee4-4311-a37d-35a0b8531863",
   "metadata": {},
   "outputs": [
    {
     "name": "stdout",
     "output_type": "stream",
     "text": [
      "[111, 222, 333]\n"
     ]
    }
   ],
   "source": [
    "result = [sum(x) for x in zip((1, 2, 3), (10, 20, 30), (100, 200, 300))]\n",
    "print(result)"
   ]
  },
  {
   "cell_type": "code",
   "execution_count": 24,
   "id": "ee622729-ef4b-4787-baf3-72fd5aca7ac9",
   "metadata": {},
   "outputs": [
    {
     "name": "stdout",
     "output_type": "stream",
     "text": [
      "[111, 222, 333]\n"
     ]
    }
   ],
   "source": [
    "result = []\n",
    "for x in zip((1, 2, 3), (10, 20, 30), (100, 200, 300)):\n",
    "    result.append(sum(x))\n",
    "    \n",
    "print(result)"
   ]
  },
  {
   "cell_type": "code",
   "execution_count": 26,
   "id": "1d57de94-b6d6-4d2b-8a6e-c06f5805a989",
   "metadata": {},
   "outputs": [],
   "source": [
    "def variable_param(a, *args): #가변인자를 받는 함수 (*를 붙이면 이 파라미터는 특이: 여러개가 들어오는데 얘를 packing해서 하나로 봐라)\n",
    "    print(a)\n",
    "    print('-' * 20)\n",
    "    print(args)\n",
    "    print('-' * 20)\n",
    "    print(type(args))\n",
    "#변수를 선언할 때 *을 붙이면 packing"
   ]
  },
  {
   "cell_type": "code",
   "execution_count": 27,
   "id": "f2324169-d704-4a3a-8bf9-bf90e084eead",
   "metadata": {},
   "outputs": [
    {
     "name": "stdout",
     "output_type": "stream",
     "text": [
      "1\n",
      "--------------------\n",
      "(2, 3, 4, 5, 6)\n",
      "--------------------\n",
      "<class 'tuple'>\n"
     ]
    }
   ],
   "source": [
    "variable_param(1, 2, 3, 4, 5, 6) #tuple 형태로 packing해서 받음"
   ]
  },
  {
   "cell_type": "code",
   "execution_count": 29,
   "id": "9a9be09e-3601-466d-8e95-a52254a39983",
   "metadata": {},
   "outputs": [],
   "source": [
    "def unpack_func(a, args):\n",
    "    print(a, args)\n",
    "    print('-' * 20)\n",
    "    print(*args) #변수를 사용할 때 *을 붙이면 unpacking 하라는 뜻\n",
    "    print(type(args))"
   ]
  },
  {
   "cell_type": "code",
   "execution_count": 30,
   "id": "c5ef5d53-bf35-46bd-a222-d400fdef87ae",
   "metadata": {},
   "outputs": [
    {
     "name": "stdout",
     "output_type": "stream",
     "text": [
      "1 (2, 3, 4, 5, 6)\n",
      "--------------------\n",
      "2 3 4 5 6\n",
      "<class 'tuple'>\n"
     ]
    }
   ],
   "source": [
    "unpack_func(1, (2,3,4,5,6))"
   ]
  },
  {
   "cell_type": "code",
   "execution_count": 35,
   "id": "88fc12ad-31d8-4620-89cb-83cfd1a7fde2",
   "metadata": {},
   "outputs": [],
   "source": [
    " def dict_args(a, **kargs): #dict type은 관례적으로 k를 붙여서 **kargs\n",
    "    print(a)\n",
    "    print(kargs)"
   ]
  },
  {
   "cell_type": "code",
   "execution_count": 38,
   "id": "94dea2df-fcdc-4108-ad5f-792f84300def",
   "metadata": {},
   "outputs": [
    {
     "name": "stdout",
     "output_type": "stream",
     "text": [
      "1\n",
      "{'name': 'Tom', 'age': 23}\n"
     ]
    }
   ],
   "source": [
    "dict_args(1, name='Tom', age=23) #1은 a로 들어가고, 나머지는 packing해서 들어감"
   ]
  },
  {
   "cell_type": "code",
   "execution_count": 39,
   "id": "22b58c58-99da-42ad-8c44-188549d4d535",
   "metadata": {},
   "outputs": [
    {
     "name": "stdout",
     "output_type": "stream",
     "text": [
      "1\n",
      "--------------------\n",
      "((2, 3, 4, 5, 6),)\n",
      "--------------------\n",
      "<class 'tuple'>\n"
     ]
    }
   ],
   "source": [
    "variable_param(1, (2,3,4,5,6))"
   ]
  },
  {
   "cell_type": "code",
   "execution_count": 40,
   "id": "cbe37626-be12-4763-b2be-6a86a346a2e4",
   "metadata": {},
   "outputs": [
    {
     "name": "stdout",
     "output_type": "stream",
     "text": [
      "1\n",
      "--------------------\n",
      "(2, 3, 4, 5, 6)\n",
      "--------------------\n",
      "<class 'tuple'>\n"
     ]
    }
   ],
   "source": [
    "variable_param(1, *(2,3,4,5,6))"
   ]
  },
  {
   "cell_type": "code",
   "execution_count": 42,
   "id": "167620c4-98b5-4040-90ed-0083e5f31bff",
   "metadata": {},
   "outputs": [],
   "source": [
    "def dict2_func(**args): #풀어헤친 것 다시 packing\n",
    "    print(args) #list, tuple은 *로 packing, dict는 **로 packing"
   ]
  },
  {
   "cell_type": "code",
   "execution_count": 43,
   "id": "f6e2f94b-9874-46ee-a0a9-7a11ac157b5e",
   "metadata": {},
   "outputs": [
    {
     "name": "stdout",
     "output_type": "stream",
     "text": [
      "{'name': 'Tom', 'age': 25}\n"
     ]
    }
   ],
   "source": [
    "d = {'name': 'Tom', 'age':25}\n",
    "dict2_func(**d) #**d: 풀어헤친 것"
   ]
  },
  {
   "cell_type": "code",
   "execution_count": 44,
   "id": "6dca0b84-c26c-4ee1-91a9-e71762223387",
   "metadata": {},
   "outputs": [],
   "source": [
    "def dict3_func(args):\n",
    "    print(args)"
   ]
  },
  {
   "cell_type": "code",
   "execution_count": 45,
   "id": "483a6514-9480-4348-9a75-a6073495e27a",
   "metadata": {},
   "outputs": [
    {
     "name": "stdout",
     "output_type": "stream",
     "text": [
      "{'name': 'Tom', 'age': 25}\n"
     ]
    }
   ],
   "source": [
    "dict3_func(d)"
   ]
  },
  {
   "cell_type": "code",
   "execution_count": 46,
   "id": "f5488349-3586-48d7-bb11-b9956206422c",
   "metadata": {},
   "outputs": [
    {
     "ename": "TypeError",
     "evalue": "dict3_func() got an unexpected keyword argument 'name'",
     "output_type": "error",
     "traceback": [
      "\u001b[1;31m---------------------------------------------------------------------------\u001b[0m",
      "\u001b[1;31mTypeError\u001b[0m                                 Traceback (most recent call last)",
      "Cell \u001b[1;32mIn[46], line 1\u001b[0m\n\u001b[1;32m----> 1\u001b[0m dict3_func(\u001b[38;5;241m*\u001b[39m\u001b[38;5;241m*\u001b[39md)\n",
      "\u001b[1;31mTypeError\u001b[0m: dict3_func() got an unexpected keyword argument 'name'"
     ]
    }
   ],
   "source": [
    "dict3_func(**d)"
   ]
  },
  {
   "cell_type": "code",
   "execution_count": 47,
   "id": "2287fb7a-c934-40ea-873a-4a1c9d4d47a2",
   "metadata": {},
   "outputs": [
    {
     "ename": "TypeError",
     "evalue": "'name' is an invalid keyword argument for print()",
     "output_type": "error",
     "traceback": [
      "\u001b[1;31m---------------------------------------------------------------------------\u001b[0m",
      "\u001b[1;31mTypeError\u001b[0m                                 Traceback (most recent call last)",
      "Cell \u001b[1;32mIn[47], line 1\u001b[0m\n\u001b[1;32m----> 1\u001b[0m \u001b[38;5;28mprint\u001b[39m(\u001b[38;5;241m*\u001b[39m\u001b[38;5;241m*\u001b[39md)\n",
      "\u001b[1;31mTypeError\u001b[0m: 'name' is an invalid keyword argument for print()"
     ]
    }
   ],
   "source": [
    "print(**d)"
   ]
  },
  {
   "cell_type": "code",
   "execution_count": null,
   "id": "efa9af4e-64f1-489b-ad15-001d606b7604",
   "metadata": {},
   "outputs": [],
   "source": []
  }
 ],
 "metadata": {
  "kernelspec": {
   "display_name": "Python 3 (ipykernel)",
   "language": "python",
   "name": "python3"
  },
  "language_info": {
   "codemirror_mode": {
    "name": "ipython",
    "version": 3
   },
   "file_extension": ".py",
   "mimetype": "text/x-python",
   "name": "python",
   "nbconvert_exporter": "python",
   "pygments_lexer": "ipython3",
   "version": "3.9.16"
  }
 },
 "nbformat": 4,
 "nbformat_minor": 5
}
