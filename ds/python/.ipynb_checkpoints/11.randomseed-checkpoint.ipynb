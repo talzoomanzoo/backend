{
 "cells": [
  {
   "cell_type": "code",
   "execution_count": 1,
   "id": "572f00b3-a5a3-43a5-9d93-737feb151764",
   "metadata": {},
   "outputs": [],
   "source": [
    "import numpy as np"
   ]
  },
  {
   "cell_type": "code",
   "execution_count": 5,
   "id": "fbd08514-6959-45e8-8034-4b2f91b773b0",
   "metadata": {},
   "outputs": [
    {
     "name": "stdout",
     "output_type": "stream",
     "text": [
      "9\n",
      "15\n",
      "64\n",
      "28\n",
      "89\n"
     ]
    }
   ],
   "source": [
    "np.random.seed(10) #random output을 특정값으로 고정 #seed의 파라미터가 약속되면 output 고정됨\n",
    "\n",
    "for i in range(5):\n",
    "    print(np.random.randint(100))"
   ]
  },
  {
   "cell_type": "code",
   "execution_count": 6,
   "id": "56ed8dba-beec-4308-b7de-c9510787819e",
   "metadata": {},
   "outputs": [
    {
     "name": "stdout",
     "output_type": "stream",
     "text": [
      "[11 22 33 44]\n",
      "[ 9 18 27 36]\n",
      "[20 40 60 80]\n",
      "[ 100  400  900 1600]\n",
      "[ 10  40  90 160]\n",
      "[10. 10. 10. 10.]\n",
      "[10.          5.          3.33333333  2.5       ]\n",
      "[False False  True  True]\n"
     ]
    }
   ],
   "source": [
    "a1 = np.array([10, 20, 30, 40])\n",
    "a2 = np.array([1, 2, 3, 4])\n",
    "print(a1 + a2) #원소끼리 계산함 (element-wise calculation) -> 고로 shape이 안맞으면 에러가 남\n",
    "print(a1 - a2)\n",
    "print(a1 * 2)\n",
    "print(a1 ** 2)\n",
    "print(a1 * a2)\n",
    "print(a1 / a2)\n",
    "print(a1 / (a2 ** 2))\n",
    "print(a1 > 20)\n",
    "#shift + tab 당기기"
   ]
  },
  {
   "cell_type": "code",
   "execution_count": 7,
   "id": "145331d9-b57b-481c-8332-4b9f6b7a37d0",
   "metadata": {},
   "outputs": [
    {
     "ename": "ValueError",
     "evalue": "operands could not be broadcast together with shapes (4,) (3,) ",
     "output_type": "error",
     "traceback": [
      "\u001b[1;31m---------------------------------------------------------------------------\u001b[0m",
      "\u001b[1;31mValueError\u001b[0m                                Traceback (most recent call last)",
      "Cell \u001b[1;32mIn[7], line 3\u001b[0m\n\u001b[0;32m      1\u001b[0m a1 \u001b[38;5;241m=\u001b[39m np\u001b[38;5;241m.\u001b[39marray([\u001b[38;5;241m10\u001b[39m, \u001b[38;5;241m20\u001b[39m, \u001b[38;5;241m30\u001b[39m, \u001b[38;5;241m40\u001b[39m])\n\u001b[0;32m      2\u001b[0m a2 \u001b[38;5;241m=\u001b[39m np\u001b[38;5;241m.\u001b[39marray([\u001b[38;5;241m1\u001b[39m, \u001b[38;5;241m2\u001b[39m, \u001b[38;5;241m3\u001b[39m])\n\u001b[1;32m----> 3\u001b[0m \u001b[38;5;28mprint\u001b[39m(\u001b[43ma1\u001b[49m\u001b[43m \u001b[49m\u001b[38;5;241;43m+\u001b[39;49m\u001b[43m \u001b[49m\u001b[43ma2\u001b[49m)\n",
      "\u001b[1;31mValueError\u001b[0m: operands could not be broadcast together with shapes (4,) (3,) "
     ]
    }
   ],
   "source": [
    "# numpy broadcasting\n",
    "a1 = np.array([10, 20, 30, 40])\n",
    "a2 = np.array([1, 2, 3]) #정수배 해서 shape을 맞출 수 있다고 생각하면 broadcasting 해서 맞춰줌\n",
    "print(a1 + a2)"
   ]
  },
  {
   "cell_type": "code",
   "execution_count": 9,
   "id": "428fd627-03e1-47b2-90c8-1e6ecbb3627a",
   "metadata": {},
   "outputs": [
    {
     "name": "stdout",
     "output_type": "stream",
     "text": [
      "[[ 0  1  2  3]\n",
      " [ 4  5  6  7]\n",
      " [ 8  9 10 11]]\n",
      "[[0 1 2 3]\n",
      " [4 5 6 7]]\n"
     ]
    }
   ],
   "source": [
    "a1 = np.arange(12).reshape(3,4)\n",
    "a2 = np.arange(8).reshape(2,4)\n",
    "print(a1)\n",
    "print(a2)"
   ]
  },
  {
   "cell_type": "code",
   "execution_count": 10,
   "id": "bb9a6668-8712-4d8e-9250-a6b62f98b772",
   "metadata": {},
   "outputs": [
    {
     "ename": "ValueError",
     "evalue": "operands could not be broadcast together with shapes (3,4) (2,4) ",
     "output_type": "error",
     "traceback": [
      "\u001b[1;31m---------------------------------------------------------------------------\u001b[0m",
      "\u001b[1;31mValueError\u001b[0m                                Traceback (most recent call last)",
      "Cell \u001b[1;32mIn[10], line 1\u001b[0m\n\u001b[1;32m----> 1\u001b[0m \u001b[38;5;28mprint\u001b[39m(\u001b[43ma1\u001b[49m\u001b[43m \u001b[49m\u001b[38;5;241;43m+\u001b[39;49m\u001b[43m \u001b[49m\u001b[43ma2\u001b[49m)\n",
      "\u001b[1;31mValueError\u001b[0m: operands could not be broadcast together with shapes (3,4) (2,4) "
     ]
    }
   ],
   "source": [
    "print(a1 + a2) #shape difference makes element-wise calculation impossible"
   ]
  },
  {
   "cell_type": "code",
   "execution_count": 11,
   "id": "cad96994-d6ea-4985-9b64-0f42b3827520",
   "metadata": {},
   "outputs": [
    {
     "name": "stdout",
     "output_type": "stream",
     "text": [
      "[[ 0  1  2  3]\n",
      " [ 4  5  6  7]\n",
      " [ 8  9 10 11]]\n",
      "[0 1 2 3]\n"
     ]
    }
   ],
   "source": [
    "a1 = np.arange(12).reshape(3,4)\n",
    "a2 = np.arange(4)\n",
    "print(a1)\n",
    "print(a2)"
   ]
  },
  {
   "cell_type": "code",
   "execution_count": 12,
   "id": "e9c37fec-729b-4165-9a60-d272c6371f6f",
   "metadata": {},
   "outputs": [
    {
     "name": "stdout",
     "output_type": "stream",
     "text": [
      "[[ 0  2  4  6]\n",
      " [ 4  6  8 10]\n",
      " [ 8 10 12 14]]\n"
     ]
    }
   ],
   "source": [
    "print(a1+a2)"
   ]
  },
  {
   "cell_type": "code",
   "execution_count": 13,
   "id": "8697377a-04fe-425a-8193-32dee3bb7db6",
   "metadata": {},
   "outputs": [
    {
     "name": "stdout",
     "output_type": "stream",
     "text": [
      "15\n",
      "3.0\n",
      "1.4142135623730951\n",
      "2.0\n",
      "1\n",
      "5\n",
      "[ 1  3  6 10 15]\n",
      "[  1   2   6  24 120]\n"
     ]
    }
   ],
   "source": [
    "a1 = np.arange(1, 6)\n",
    "\n",
    "print(a1.sum())\n",
    "print(a1.mean())\n",
    "print(a1.std())\n",
    "print(a1.var())\n",
    "print(a1.min())\n",
    "print(a1.max())\n",
    "print(a1.cumsum()) #cumulative sum\n",
    "print(a1.cumprod()) #cumulative product"
   ]
  },
  {
   "cell_type": "code",
   "execution_count": 14,
   "id": "60b7bbe0-327a-4fd3-ac65-d16f7ced0e22",
   "metadata": {},
   "outputs": [
    {
     "name": "stdout",
     "output_type": "stream",
     "text": [
      "[[0 1]\n",
      " [2 3]]\n",
      "[[3 2]\n",
      " [0 1]]\n"
     ]
    }
   ],
   "source": [
    "a = np.array([0, 1, 2, 3]).reshape(2, 2)\n",
    "print(a)\n",
    "b = np.array([3, 2, 0, 1]).reshape(2, 2)\n",
    "print(b)"
   ]
  },
  {
   "cell_type": "code",
   "execution_count": 15,
   "id": "c009a2ce-e56a-4fe3-b79d-6abe934c04d8",
   "metadata": {},
   "outputs": [
    {
     "name": "stdout",
     "output_type": "stream",
     "text": [
      "[[0 1]\n",
      " [6 7]]\n"
     ]
    }
   ],
   "source": [
    "print(a.dot(b)) #행렬곱"
   ]
  },
  {
   "cell_type": "code",
   "execution_count": null,
   "id": "1cc98651-3fd1-4439-b85f-5ec8447f3fe1",
   "metadata": {},
   "outputs": [],
   "source": []
  }
 ],
 "metadata": {
  "kernelspec": {
   "display_name": "Python 3 (ipykernel)",
   "language": "python",
   "name": "python3"
  },
  "language_info": {
   "codemirror_mode": {
    "name": "ipython",
    "version": 3
   },
   "file_extension": ".py",
   "mimetype": "text/x-python",
   "name": "python",
   "nbconvert_exporter": "python",
   "pygments_lexer": "ipython3",
   "version": "3.9.16"
  }
 },
 "nbformat": 4,
 "nbformat_minor": 5
}
