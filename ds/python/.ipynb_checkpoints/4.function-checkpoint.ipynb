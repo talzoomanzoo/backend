{
 "cells": [
  {
   "cell_type": "markdown",
   "id": "dc3b33d5-4ec1-41f1-a228-13d5eb4f70e9",
   "metadata": {},
   "source": [
    "# Function Basics"
   ]
  },
  {
   "cell_type": "code",
   "execution_count": 1,
   "id": "776f404f-fe74-47cd-a4e2-abbbed756e34",
   "metadata": {},
   "outputs": [],
   "source": [
    "def print_hello():\n",
    "    print('Hello world!')"
   ]
  },
  {
   "cell_type": "code",
   "execution_count": 2,
   "id": "74a82e0e-781b-4d46-ba73-ac4e74c5da84",
   "metadata": {},
   "outputs": [
    {
     "name": "stdout",
     "output_type": "stream",
     "text": [
      "Hello world!\n"
     ]
    }
   ],
   "source": [
    "print_hello() #함수 호출"
   ]
  },
  {
   "cell_type": "code",
   "execution_count": 3,
   "id": "93a5d98c-3573-4d84-a0a0-59e9420636df",
   "metadata": {},
   "outputs": [],
   "source": [
    "def calculate_rectangle_area(x, y):\n",
    "    return x * y"
   ]
  },
  {
   "cell_type": "code",
   "execution_count": 4,
   "id": "bee517eb-6005-4a03-a705-142c47dfc7cb",
   "metadata": {},
   "outputs": [
    {
     "name": "stdout",
     "output_type": "stream",
     "text": [
      "12\n"
     ]
    }
   ],
   "source": [
    "s = calculate_rectangle_area(3, 4)\n",
    "print(s)"
   ]
  },
  {
   "cell_type": "code",
   "execution_count": 5,
   "id": "bec5188f-442f-4cba-8724-c5444721972f",
   "metadata": {},
   "outputs": [
    {
     "name": "stdout",
     "output_type": "stream",
     "text": [
      "12\n"
     ]
    }
   ],
   "source": [
    "print(calculate_rectangle_area(3,4)) #동일"
   ]
  },
  {
   "cell_type": "code",
   "execution_count": 6,
   "id": "e5894a03-5377-4104-8186-2fe839e35f18",
   "metadata": {},
   "outputs": [],
   "source": [
    "def func_y(x):\n",
    "    return 2 * x + 3"
   ]
  },
  {
   "cell_type": "code",
   "execution_count": 7,
   "id": "54118bb5-b879-40e9-8d82-cc0cf54abb18",
   "metadata": {},
   "outputs": [
    {
     "name": "stdout",
     "output_type": "stream",
     "text": [
      "23\n"
     ]
    }
   ],
   "source": [
    "print(func_y(10))"
   ]
  },
  {
   "cell_type": "markdown",
   "id": "f6ca4602-5546-4e24-8eee-6dee3828d518",
   "metadata": {},
   "source": [
    "# Variable Scope in Function Basics"
   ]
  },
  {
   "cell_type": "markdown",
   "id": "828bdcd1-8d57-4135-8f1a-fec0ad10da70",
   "metadata": {},
   "source": [
    "### call by value (원래 값 유지): 변수를 복사한 값을 전달하는 방식"
   ]
  },
  {
   "cell_type": "code",
   "execution_count": 8,
   "id": "d17b4270-b880-451d-96d4-2b72d03c0771",
   "metadata": {},
   "outputs": [],
   "source": [
    "def func1(x): #parameter passing: 값의 copy\n",
    "    x += 1 \n",
    "    print('func1의 x', x)"
   ]
  },
  {
   "cell_type": "code",
   "execution_count": 9,
   "id": "6269f71d-11f8-463e-8b06-7f0072238264",
   "metadata": {},
   "outputs": [
    {
     "name": "stdout",
     "output_type": "stream",
     "text": [
      "func1의 x 11\n",
      "Global x: 10\n"
     ]
    }
   ],
   "source": [
    "x = 10 # global variable (전역 변수) #call by value\n",
    "func1(x) #함수 내에서만 선언 된 local variable (지역 변수)\n",
    "print('Global x:', x)"
   ]
  },
  {
   "cell_type": "code",
   "execution_count": 10,
   "id": "178084d3-f56c-41e0-b1fc-7944091bc3d5",
   "metadata": {},
   "outputs": [
    {
     "name": "stdin",
     "output_type": "stream",
     "text": [
      " aBcDeFg\n"
     ]
    },
    {
     "name": "stdout",
     "output_type": "stream",
     "text": [
      "0\n",
      "1\n",
      "2\n",
      "3\n",
      "4\n",
      "5\n",
      "6\n"
     ]
    }
   ],
   "source": [
    "string = input()\n",
    "for i in range(len(string)):\n",
    "    print(i)"
   ]
  },
  {
   "cell_type": "markdown",
   "id": "3fed809c-22af-431f-b8ff-dc0c50e33fba",
   "metadata": {},
   "source": [
    "### call by reference (원래 값 변경): 인자로 받은 변수의 주소 값을 전달하는 것"
   ]
  },
  {
   "cell_type": "code",
   "execution_count": 12,
   "id": "d7fb30a8-8578-40c7-b8ce-1eb3da3fecfe",
   "metadata": {},
   "outputs": [],
   "source": [
    "def func2(a):\n",
    "    a.append(10) #.append()는 메서드, type()는 함수"
   ]
  },
  {
   "cell_type": "code",
   "execution_count": 14,
   "id": "fcbe770c-e9b8-4903-895a-19a0cd2e64eb",
   "metadata": {},
   "outputs": [
    {
     "name": "stdout",
     "output_type": "stream",
     "text": [
      "[1, 2, 3, 10]\n"
     ]
    }
   ],
   "source": [
    "a = [1,2,3]\n",
    "func2(a)\n",
    "print(a)"
   ]
  },
  {
   "cell_type": "code",
   "execution_count": 49,
   "id": "f359d5f0-fbc9-4469-a56b-05a3bc0b4a0a",
   "metadata": {},
   "outputs": [
    {
     "name": "stdout",
     "output_type": "stream",
     "text": [
      "In shopping_cart: [1, 2]\n",
      "Goods I bought: ['bean', 'salt', 'beef', 'coupon']\n"
     ]
    }
   ],
   "source": [
    "def shopping_cart(goods): #callee\n",
    "\tgoods.append('coupon')\n",
    "\tgoods = [1, 2] #parameter passing 설명을 위해 추가된 것 #함수가 끝나면 사라짐\n",
    "\tprint(\"In shopping_cart:\", goods)\n",
    "\n",
    "\n",
    "shopping_list = ['bean', 'salt', 'beef'] #call by reference\n",
    "shopping_cart(shopping_list) #caller\n",
    "print(\"Goods I bought:\", shopping_list)"
   ]
  },
  {
   "cell_type": "code",
   "execution_count": 50,
   "id": "24153d88-1eda-4d62-99bc-183e796a902f",
   "metadata": {},
   "outputs": [
    {
     "name": "stdout",
     "output_type": "stream",
     "text": [
      "In shopping_cart: [1, 2]\n",
      "Goods I bought: ['bean', 'salt', 'beef', 'coupon']\n"
     ]
    }
   ],
   "source": [
    "def shopping_cart(goods):\n",
    "\tgoods.append('coupon')\n",
    "\tgoods = [1, 2] #parameter passing 설명을 위해 추가된 것 #함수가 끝나면 사라짐\n",
    "\tprint(\"In shopping_cart:\", goods)\n",
    "\n",
    "shopping_list1 = ['bean', 'salt', 'beef']\n",
    "shopping_cart(shopping_list1)\n",
    "print(\"Goods I bought:\", shopping_list1)"
   ]
  },
  {
   "cell_type": "code",
   "execution_count": 51,
   "id": "a48a4812-7f7f-48b8-bbd7-5f0492eea95b",
   "metadata": {},
   "outputs": [
    {
     "name": "stdout",
     "output_type": "stream",
     "text": [
      "In shopping_cart: [1, 2]\n",
      "Goods I bought: ['bean', 'salt', 'beef', 'coupon']\n"
     ]
    }
   ],
   "source": [
    "def shopping_cart(goods):\n",
    "\tgoods.append('coupon')\n",
    "\tgoods = [1, 2] #같아도 global != local 이라서 재할당이 안됨\n",
    "\tprint(\"In shopping_cart:\", goods)\n",
    "goods = ['bean', 'salt', 'beef']\n",
    "shopping_cart(goods)\n",
    "print(\"Goods I bought:\", goods)"
   ]
  },
  {
   "cell_type": "code",
   "execution_count": 16,
   "id": "462f1a9d-aaf5-4349-a729-373c8ca19382",
   "metadata": {},
   "outputs": [],
   "source": [
    "#이런 종류의 함수가 범용성이 좋기 때문에 선호\n",
    "def f1():\n",
    "    print(s)"
   ]
  },
  {
   "cell_type": "code",
   "execution_count": 17,
   "id": "6df1f420-92c3-450b-a43e-28c5c6ed5ccf",
   "metadata": {},
   "outputs": [
    {
     "name": "stdout",
     "output_type": "stream",
     "text": [
      "I love Hanhwa!\n"
     ]
    }
   ],
   "source": [
    "s = 'I love Hanhwa!'\n",
    "f1() #내부에 s가 없어서 외부를 쳐다보니 s가 있네! 찍음"
   ]
  },
  {
   "cell_type": "code",
   "execution_count": 18,
   "id": "7346734b-8b27-47e0-8c91-6564381ea172",
   "metadata": {},
   "outputs": [
    {
     "name": "stdout",
     "output_type": "stream",
     "text": [
      "I love Hanhwa!\n"
     ]
    }
   ],
   "source": [
    "print(s)"
   ]
  },
  {
   "cell_type": "code",
   "execution_count": 19,
   "id": "2b4b501d-dde5-4c6a-add2-5b02c6c4926e",
   "metadata": {},
   "outputs": [],
   "source": [
    "def f1():\n",
    "    s = 'I love Doosan!'\n",
    "    print(s)"
   ]
  },
  {
   "cell_type": "code",
   "execution_count": 20,
   "id": "6868661a-a969-4f1f-b1fb-d2b0b9dfe725",
   "metadata": {},
   "outputs": [
    {
     "name": "stdout",
     "output_type": "stream",
     "text": [
      "I love Doosan!\n"
     ]
    }
   ],
   "source": [
    "f1()"
   ]
  },
  {
   "cell_type": "code",
   "execution_count": 21,
   "id": "40ca1f8c-5980-49b5-adf5-f863de0d74fc",
   "metadata": {},
   "outputs": [
    {
     "name": "stdout",
     "output_type": "stream",
     "text": [
      "I love Hanhwa!\n"
     ]
    }
   ],
   "source": [
    "print(s)"
   ]
  },
  {
   "cell_type": "code",
   "execution_count": 26,
   "id": "d7aa2969-19ce-4871-a6a2-a206c0117f75",
   "metadata": {},
   "outputs": [],
   "source": [
    "def f1():\n",
    "    global s #이 문자 이하의 s는 모두 global s로 변경\n",
    "    s = 'I love Doosan!'\n",
    "    print(s)"
   ]
  },
  {
   "cell_type": "code",
   "execution_count": 27,
   "id": "0c6c6f82-9d62-478d-b986-f037e3ae91ba",
   "metadata": {},
   "outputs": [
    {
     "name": "stdout",
     "output_type": "stream",
     "text": [
      "I love Doosan!\n"
     ]
    }
   ],
   "source": [
    "f1()"
   ]
  },
  {
   "cell_type": "code",
   "execution_count": 28,
   "id": "04c61412-53c3-408c-bcb2-1f4294c74a5f",
   "metadata": {},
   "outputs": [
    {
     "name": "stdout",
     "output_type": "stream",
     "text": [
      "I love Doosan!\n"
     ]
    }
   ],
   "source": [
    "print(s)"
   ]
  },
  {
   "cell_type": "code",
   "execution_count": 33,
   "id": "bc5bbc24-e4e1-4f74-a16a-fdefd1f82f4c",
   "metadata": {},
   "outputs": [],
   "source": [
    "def print_name(my_name, your_name):\n",
    "    print('Hello {0}, My name is {1}'.format(your_name, my_name))"
   ]
  },
  {
   "cell_type": "code",
   "execution_count": 34,
   "id": "a5586e23-4005-4d72-b50e-16f723c28fe8",
   "metadata": {},
   "outputs": [
    {
     "name": "stdout",
     "output_type": "stream",
     "text": [
      "Hello Jane, My name is Tom\n"
     ]
    }
   ],
   "source": [
    "print_name('Tom', 'Jane')"
   ]
  },
  {
   "cell_type": "code",
   "execution_count": 35,
   "id": "a0b4c072-4113-4d3c-8015-288fab4be749",
   "metadata": {},
   "outputs": [
    {
     "name": "stdout",
     "output_type": "stream",
     "text": [
      "Hello Jane, My name is Tom\n"
     ]
    }
   ],
   "source": [
    "print_name(your_name='Jane', my_name='Tom') #파라미터에 인자 주기"
   ]
  },
  {
   "cell_type": "code",
   "execution_count": 36,
   "id": "ba65e2da-4c42-417b-9ea3-14bd9f1a5608",
   "metadata": {},
   "outputs": [],
   "source": [
    "def print_name(my_name, your_name='Jane'):\n",
    "    print('Hello {0}, My name is {1}'.format(your_name, my_name))"
   ]
  },
  {
   "cell_type": "code",
   "execution_count": 37,
   "id": "8c34b00f-880b-440d-906a-c58c7a67192b",
   "metadata": {},
   "outputs": [
    {
     "name": "stdout",
     "output_type": "stream",
     "text": [
      "Hello Kate, My name is Tom\n"
     ]
    }
   ],
   "source": [
    "print_name('Tom', 'Kate')"
   ]
  },
  {
   "cell_type": "code",
   "execution_count": 38,
   "id": "844ed78b-53fd-437e-9417-1f42d072afd0",
   "metadata": {},
   "outputs": [
    {
     "name": "stdout",
     "output_type": "stream",
     "text": [
      "Hello Jane, My name is Tom\n"
     ]
    }
   ],
   "source": [
    "print_name('Tom')"
   ]
  },
  {
   "cell_type": "code",
   "execution_count": 39,
   "id": "0f308c92-312d-400a-871b-97ba65706c8a",
   "metadata": {},
   "outputs": [],
   "source": [
    "def print_name(my_name, your_name='Jane'):\n",
    "    print('Hello {0}, My name is {1}'.format(your_name, my_name))"
   ]
  },
  {
   "cell_type": "code",
   "execution_count": 40,
   "id": "30bfb759-0a90-46a5-9ccc-2be4d0471247",
   "metadata": {},
   "outputs": [
    {
     "ename": "SyntaxError",
     "evalue": "positional argument follows keyword argument (1723587112.py, line 1)",
     "output_type": "error",
     "traceback": [
      "\u001b[1;36m  Cell \u001b[1;32mIn[40], line 1\u001b[1;36m\u001b[0m\n\u001b[1;33m    print_name(your_name='Jane', 'Tom')\u001b[0m\n\u001b[1;37m                                      ^\u001b[0m\n\u001b[1;31mSyntaxError\u001b[0m\u001b[1;31m:\u001b[0m positional argument follows keyword argument\n"
     ]
    }
   ],
   "source": [
    "print_name(your_name='Jane', 'Tom') \n",
    "#위치개념 argument 뒤에 키워드 argument 있을 수 없다\n",
    "#your name 뒤쪽에서 찾아야 되는지 앞쪽에서 찾아야 하는지 모르겠다"
   ]
  },
  {
   "cell_type": "code",
   "execution_count": 41,
   "id": "d33d46a5-1d47-4219-926c-128623e72d92",
   "metadata": {},
   "outputs": [
    {
     "name": "stdout",
     "output_type": "stream",
     "text": [
      "Hello Tom, My name is Jane\n"
     ]
    }
   ],
   "source": [
    "print_name('Jane', your_name='Tom')"
   ]
  },
  {
   "cell_type": "code",
   "execution_count": 42,
   "id": "fcfa1450-6910-4922-a0d6-4b7205c57055",
   "metadata": {},
   "outputs": [
    {
     "name": "stdout",
     "output_type": "stream",
     "text": [
      "BLACK LIVES MATTER\n",
      "black lives matter\n",
      "Black Lives Matter\n",
      "Black lives matter\n",
      "2\n",
      "True\n",
      "True\n"
     ]
    }
   ],
   "source": [
    "s = \"BLACK LIVES MATTER\"\n",
    "print(s.upper())\n",
    "print(s.lower())\n",
    "print(s.title())\n",
    "print(s.capitalize())\n",
    "print(s.count(\"T\"))\n",
    "print(s.startswith(\"B\"))\n",
    "\n",
    "k = \"123\"\n",
    "print(k.isdigit()) #문자열이 digit 숫자열인지 판별별"
   ]
  },
  {
   "cell_type": "code",
   "execution_count": 43,
   "id": "4e1d082d-a144-48e8-b120-50c8f6bd3c47",
   "metadata": {},
   "outputs": [
    {
     "name": "stdout",
     "output_type": "stream",
     "text": [
      "1 2 3\n",
      "1 2 3\n",
      "abc--def--ghi\n",
      "abc def ghi\n",
      "def abc ghi\n",
      "def abc ghi\n",
      "    python\n",
      "python    \n",
      "    python\n",
      "python    \n"
     ]
    }
   ],
   "source": [
    "print(1, 2, 3)\n",
    "print(\"%d %d %d\" %(1, 2, 3))\n",
    "print(\"%s--%s--%s\" %('abc','def', 'ghi'))\n",
    "print(\"{} {} {}\".format('abc', 'def', 'ghi'))\n",
    "print(\"{1} {0} {2}\".format('abc', 'def', 'ghi'))\n",
    "print(f\"{'def'} {'abc'} {'ghi'}\")\n",
    "print(\"{0:>10s}\".format('python')) #앞에 10칸 띄기\n",
    "print(\"{0:<10s}\".format('python')) #뒤에 10칸 띄기\n",
    "print(f\"{'python':>10s}\")\n",
    "print(f\"{'python':<10s}\")"
   ]
  },
  {
   "cell_type": "code",
   "execution_count": 52,
   "id": "1d032d21-3786-45fc-98c2-dd3a354efee8",
   "metadata": {},
   "outputs": [
    {
     "name": "stdout",
     "output_type": "stream",
     "text": [
      "['zero', 'one', 'two', 'three']\n"
     ]
    }
   ],
   "source": [
    "items = 'zero one two three'\n",
    "a = items.split() #기본적으로 공백을 기준으로 나누며, data 처리할 때 많이 사용한다.\n",
    "print(a)"
   ]
  },
  {
   "cell_type": "code",
   "execution_count": 53,
   "id": "45f0052a-5cb7-44ff-a725-bce7e07a7973",
   "metadata": {},
   "outputs": [
    {
     "name": "stdout",
     "output_type": "stream",
     "text": [
      "python  javascript  sql\n"
     ]
    }
   ],
   "source": [
    "subjects = 'python, javascript, sql'\n",
    "a, b, c = subjects.split(',')\n",
    "print(a, b, c) #바로 unpacking"
   ]
  },
  {
   "cell_type": "code",
   "execution_count": 54,
   "id": "8a3fc2d9-18c5-4710-b016-75d01ac9cfa5",
   "metadata": {},
   "outputs": [
    {
     "name": "stdout",
     "output_type": "stream",
     "text": [
      "redbluegreenyellow\n"
     ]
    }
   ],
   "source": [
    "colors = ['red', 'blue', 'green', 'yellow']\n",
    "result = ''.join(colors)\n",
    "print(result)"
   ]
  },
  {
   "cell_type": "code",
   "execution_count": 55,
   "id": "7a678f51-0efe-44bd-a90a-4844184fe804",
   "metadata": {},
   "outputs": [
    {
     "name": "stdout",
     "output_type": "stream",
     "text": [
      "red blue green yellow\n"
     ]
    }
   ],
   "source": [
    "colors = ['red', 'blue', 'green', 'yellow']\n",
    "result = ' '.join(colors)\n",
    "print(result)"
   ]
  },
  {
   "cell_type": "code",
   "execution_count": 56,
   "id": "b660cae9-4200-4e49-8d66-cc66efb6b1f6",
   "metadata": {},
   "outputs": [
    {
     "name": "stdout",
     "output_type": "stream",
     "text": [
      "red-blue-green-yellow\n"
     ]
    }
   ],
   "source": [
    "colors = ['red', 'blue', 'green', 'yellow']\n",
    "result = '-'.join(colors)\n",
    "print(result)"
   ]
  },
  {
   "cell_type": "markdown",
   "id": "0d0a80c7-d3be-4733-af7b-d027477ebc6b",
   "metadata": {},
   "source": [
    "# Lambda Expression: 1회용 함수 사용 (익명 함수)"
   ]
  },
  {
   "cell_type": "code",
   "execution_count": 1,
   "id": "b320f335-ec4a-425a-8ec3-e59ca1c1a05f",
   "metadata": {},
   "outputs": [],
   "source": [
    "def f(x, y): \n",
    "    return x + y"
   ]
  },
  {
   "cell_type": "code",
   "execution_count": 2,
   "id": "a94acc03-cef8-49cd-ba17-5434fa28318e",
   "metadata": {},
   "outputs": [
    {
     "name": "stdout",
     "output_type": "stream",
     "text": [
      "5\n"
     ]
    }
   ],
   "source": [
    "print(f(1, 4))"
   ]
  },
  {
   "cell_type": "code",
   "execution_count": 3,
   "id": "3c3775b6-2b84-48a1-82ac-4d4b2b9e77bf",
   "metadata": {},
   "outputs": [
    {
     "name": "stdout",
     "output_type": "stream",
     "text": [
      "5\n"
     ]
    }
   ],
   "source": [
    "l = lambda x,y : x+y #함수의 reference l에 담음 = lambda 받는 인자 : return 값\n",
    "print(l(1,4))"
   ]
  },
  {
   "cell_type": "code",
   "execution_count": 6,
   "id": "69e1c5a9-98e8-4b4e-a0c4-c42376312427",
   "metadata": {},
   "outputs": [
    {
     "name": "stdout",
     "output_type": "stream",
     "text": [
      "5\n"
     ]
    }
   ],
   "source": [
    "print((lambda x,y : x+y)(1,4))"
   ]
  },
  {
   "cell_type": "code",
   "execution_count": 9,
   "id": "dc1b3f43-756d-4042-b730-686de6686fba",
   "metadata": {},
   "outputs": [],
   "source": [
    "f = lambda n,m: n if n %2 == 0 else m"
   ]
  },
  {
   "cell_type": "code",
   "execution_count": 10,
   "id": "98027827-04be-4fa7-b438-f779d3360563",
   "metadata": {},
   "outputs": [
    {
     "name": "stdout",
     "output_type": "stream",
     "text": [
      "3\n"
     ]
    }
   ],
   "source": [
    "print(f(1, 3))"
   ]
  },
  {
   "cell_type": "code",
   "execution_count": 11,
   "id": "d604a95c-f149-4461-b7f9-c08fa19cbb91",
   "metadata": {},
   "outputs": [
    {
     "name": "stdout",
     "output_type": "stream",
     "text": [
      "2\n"
     ]
    }
   ],
   "source": [
    "print(f(2,3))"
   ]
  },
  {
   "cell_type": "code",
   "execution_count": 13,
   "id": "5e02182c-ffc2-4252-ae6e-38a78df3c776",
   "metadata": {},
   "outputs": [],
   "source": [
    "def make_func(n):\n",
    "    return lambda a: a%n == 1"
   ]
  },
  {
   "cell_type": "code",
   "execution_count": 14,
   "id": "258c68f0-f4c0-43fb-b6b6-7accd2f204aa",
   "metadata": {},
   "outputs": [
    {
     "name": "stdout",
     "output_type": "stream",
     "text": [
      "True\n",
      "False\n"
     ]
    }
   ],
   "source": [
    "isOdd = make_func(2)\n",
    "print(isOdd(3))\n",
    "print(isOdd(4))"
   ]
  },
  {
   "cell_type": "code",
   "execution_count": 16,
   "id": "5a492733-9d7e-4caa-9529-cba0ec2bb19e",
   "metadata": {},
   "outputs": [
    {
     "data": {
      "text/plain": [
       "function"
      ]
     },
     "execution_count": 16,
     "metadata": {},
     "output_type": "execute_result"
    }
   ],
   "source": [
    "type(isOdd)"
   ]
  },
  {
   "cell_type": "code",
   "execution_count": 1,
   "id": "ccd4c35a-634e-41b8-a1f4-ff7f9a6295da",
   "metadata": {},
   "outputs": [
    {
     "name": "stdout",
     "output_type": "stream",
     "text": [
      "10\n",
      "5\n",
      "3\n",
      "2\n",
      "2\n",
      "1\n",
      "1\n",
      "1\n",
      "1\n",
      "프로그램 종료\n"
     ]
    }
   ],
   "source": [
    "try:\n",
    "   for i in range(1, 10):\n",
    "       result = 10 // i\n",
    "       print(result)\n",
    "except ZeroDivisionError as e:\n",
    "   print(\"Not divided by 0\")\n",
    "finally:\n",
    "   print(\"프로그램 종료\") #오류가 생기든 말든 프린트"
   ]
  },
  {
   "cell_type": "code",
   "execution_count": 2,
   "id": "f9be7e5d-dde2-47a5-9a90-4549f1fdb002",
   "metadata": {},
   "outputs": [
    {
     "name": "stdout",
     "output_type": "stream",
     "text": [
      "Not divided by 0\n",
      "프로그램 종료\n"
     ]
    }
   ],
   "source": [
    "try:\n",
    "   for i in range(10):\n",
    "       result = 10 // i\n",
    "       print(result)\n",
    "except ZeroDivisionError as e:\n",
    "   print(\"Not divided by 0\")\n",
    "finally:\n",
    "   print(\"프로그램 종료\")"
   ]
  },
  {
   "cell_type": "code",
   "execution_count": null,
   "id": "f8d7bc44-f007-434f-bda9-2a23b4b3a8a1",
   "metadata": {},
   "outputs": [],
   "source": []
  }
 ],
 "metadata": {
  "kernelspec": {
   "display_name": "Python 3 (ipykernel)",
   "language": "python",
   "name": "python3"
  },
  "language_info": {
   "codemirror_mode": {
    "name": "ipython",
    "version": 3
   },
   "file_extension": ".py",
   "mimetype": "text/x-python",
   "name": "python",
   "nbconvert_exporter": "python",
   "pygments_lexer": "ipython3",
   "version": "3.9.16"
  }
 },
 "nbformat": 4,
 "nbformat_minor": 5
}
