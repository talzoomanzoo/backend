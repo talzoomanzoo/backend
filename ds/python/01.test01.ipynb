{
 "cells": [
  {
   "cell_type": "markdown",
   "id": "0ce9b50e-354c-4227-b7ce-193cd985dd0f",
   "metadata": {
    "tags": []
   },
   "source": [
    "#정수형"
   ]
  },
  {
   "cell_type": "code",
   "execution_count": 6,
   "id": "622e66fa",
   "metadata": {},
   "outputs": [],
   "source": [
    "a = 1\n",
    "b = 1"
   ]
  },
  {
   "cell_type": "code",
   "execution_count": 7,
   "id": "e3835e36-0526-4b9d-a816-0ac6e3095ae2",
   "metadata": {},
   "outputs": [
    {
     "name": "stdout",
     "output_type": "stream",
     "text": [
      "1 1\n"
     ]
    }
   ],
   "source": [
    "print(a, b)"
   ]
  },
  {
   "cell_type": "markdown",
   "id": "898748a2-19c0-40c4-98eb-876a736c7ca7",
   "metadata": {},
   "source": [
    "#실수형"
   ]
  },
  {
   "cell_type": "code",
   "execution_count": 8,
   "id": "03d6c37a-6fcf-4d7d-9684-bfe467048a8e",
   "metadata": {},
   "outputs": [
    {
     "name": "stdout",
     "output_type": "stream",
     "text": [
      "1.5 3.5\n"
     ]
    }
   ],
   "source": [
    "a = 1.5\n",
    "b = 3.5\n",
    "print(a, b)"
   ]
  },
  {
   "cell_type": "markdown",
   "id": "bd071fee-2223-47b3-a37a-a5150fcc7480",
   "metadata": {},
   "source": [
    "#불린형"
   ]
  },
  {
   "cell_type": "code",
   "execution_count": 9,
   "id": "bde253ea-8b33-47d2-8b27-d6ed2ffc3dcf",
   "metadata": {},
   "outputs": [
    {
     "name": "stdout",
     "output_type": "stream",
     "text": [
      "True False\n"
     ]
    }
   ],
   "source": [
    "a = True\n",
    "b = False\n",
    "print(a, b)"
   ]
  },
  {
   "cell_type": "markdown",
   "id": "c28b1a1b-3cb1-4381-b774-6713976277d7",
   "metadata": {},
   "source": [
    "#문자형"
   ]
  },
  {
   "cell_type": "code",
   "execution_count": 10,
   "id": "23fa1842-5503-41b2-a30f-05654f09f1cd",
   "metadata": {},
   "outputs": [
    {
     "name": "stdout",
     "output_type": "stream",
     "text": [
      "hello Hi! hahaha\n"
     ]
    }
   ],
   "source": [
    "a = \"hello\"\n",
    "b = 'Hi!'\n",
    "c = \"\"\"hahaha\"\"\"\n",
    "print(a, b, c)"
   ]
  },
  {
   "cell_type": "code",
   "execution_count": 11,
   "id": "6b92c3ee-5039-4993-8c39-0cda7a5a3b52",
   "metadata": {},
   "outputs": [
    {
     "name": "stdout",
     "output_type": "stream",
     "text": [
      "I'm Tom!\n"
     ]
    }
   ],
   "source": [
    "print(\"I'm Tom!\")"
   ]
  },
  {
   "cell_type": "code",
   "execution_count": 15,
   "id": "4cc729b2-74ea-4d27-a057-50dc39c86e8e",
   "metadata": {},
   "outputs": [
    {
     "name": "stdout",
     "output_type": "stream",
     "text": [
      "He said, \"I am Tom\"\n"
     ]
    }
   ],
   "source": [
    "print('He said, \"I am Tom\"')"
   ]
  },
  {
   "cell_type": "code",
   "execution_count": 17,
   "id": "f804e8e5-a1db-4f65-863c-eca4e6b8d9cb",
   "metadata": {},
   "outputs": [
    {
     "name": "stdout",
     "output_type": "stream",
     "text": [
      "hahaha\n",
      "Hello!\n",
      "Good!\n",
      "Bye!\n"
     ]
    }
   ],
   "source": [
    "str = \"\"\"hahaha\n",
    "Hello!\n",
    "Good!\n",
    "Bye!\"\"\"\n",
    "print(str)"
   ]
  },
  {
   "cell_type": "markdown",
   "id": "0708ae51-5386-420d-9e8f-197b5e14173b",
   "metadata": {},
   "source": [
    "# 사칙연산"
   ]
  },
  {
   "cell_type": "code",
   "execution_count": 1,
   "id": "a551ec96-6ed5-498d-8232-d6ec1ef6f018",
   "metadata": {},
   "outputs": [
    {
     "name": "stdout",
     "output_type": "stream",
     "text": [
      "6\n",
      "5\n",
      "2.0\n",
      "1.6\n",
      "1\n"
     ]
    }
   ],
   "source": [
    "print(1+5)\n",
    "print(1*5)\n",
    "print(10/5)\n",
    "print(8 / 5) #java와의 차이는 java는 정수로 나옴 (몫)\n",
    "print(8 // 5) #python에서 몫을 보기 위한 연산자\n",
    "print(8 % 5) #나머지"
   ]
  },
  {
   "cell_type": "markdown",
   "id": "459e6e28-7a58-4bd6-aaae-cc788867197e",
   "metadata": {},
   "source": [
    "### 사칙연산Modular 연산자의 정의\n",
    "a % b = {a + (b * n)} % b, n = 정수"
   ]
  },
  {
   "cell_type": "code",
   "execution_count": 2,
   "id": "e7041cb1-b167-4c72-b3ce-31cc826d7481",
   "metadata": {},
   "outputs": [
    {
     "name": "stdout",
     "output_type": "stream",
     "text": [
      "3\n",
      "1\n",
      "1\n"
     ]
    }
   ],
   "source": [
    "print(7 // 2)\n",
    "print(1 % 5) # 5 * 0 + 1\n",
    "print(6 % 5) #나머지 1"
   ]
  },
  {
   "cell_type": "code",
   "execution_count": 3,
   "id": "10e0b3a3-0117-433a-838e-f509fe47580a",
   "metadata": {},
   "outputs": [
    {
     "name": "stdout",
     "output_type": "stream",
     "text": [
      "4\n"
     ]
    }
   ],
   "source": [
    "print(-1 % 5) #4 단순 나머지가 아니라 modular"
   ]
  },
  {
   "cell_type": "code",
   "execution_count": 6,
   "id": "93c194fc-b41c-4313-bce4-0704cc43ed69",
   "metadata": {},
   "outputs": [
    {
     "name": "stdout",
     "output_type": "stream",
     "text": [
      "-4\n"
     ]
    }
   ],
   "source": [
    "print(1 % -5)"
   ]
  },
  {
   "cell_type": "code",
   "execution_count": 7,
   "id": "06f9b165-9858-474a-9183-fff2b07060b2",
   "metadata": {},
   "outputs": [
    {
     "name": "stdout",
     "output_type": "stream",
     "text": [
      "2\n"
     ]
    }
   ],
   "source": [
    "a = 1\n",
    "a = a+ 1\n",
    "print(a)"
   ]
  },
  {
   "cell_type": "markdown",
   "id": "9c249008-f5f9-48d6-b87e-3820e93e83ac",
   "metadata": {},
   "source": [
    "### 사칙연산의 단축표현"
   ]
  },
  {
   "cell_type": "code",
   "execution_count": 8,
   "id": "ac261766-0535-4fcd-8d9a-6c364e2fd689",
   "metadata": {},
   "outputs": [
    {
     "name": "stdout",
     "output_type": "stream",
     "text": [
      "2\n"
     ]
    }
   ],
   "source": [
    "a =1\n",
    "a += 1\n",
    "print(a)"
   ]
  },
  {
   "cell_type": "code",
   "execution_count": 9,
   "id": "a770120b-c75f-4178-a7ff-a548a6ac394b",
   "metadata": {},
   "outputs": [
    {
     "name": "stdout",
     "output_type": "stream",
     "text": [
      "2\n"
     ]
    }
   ],
   "source": [
    "a = 1\n",
    "a *= 2\n",
    "print(a) #덧셈, 뺄셈, 곱셈, 나눗셈 모두 가능"
   ]
  },
  {
   "cell_type": "markdown",
   "id": "47241a94-918e-42f8-8c83-54128b520079",
   "metadata": {},
   "source": [
    "# 형변환"
   ]
  },
  {
   "cell_type": "code",
   "execution_count": 11,
   "id": "5f932ba1-5cd7-41e3-9fff-0f5a56e40d07",
   "metadata": {},
   "outputs": [
    {
     "name": "stdout",
     "output_type": "stream",
     "text": [
      "10 10.0\n"
     ]
    }
   ],
   "source": [
    "a = 10\n",
    "b = float(a) #float function\n",
    "print(a, b)"
   ]
  },
  {
   "cell_type": "code",
   "execution_count": 13,
   "id": "843ae261-bb05-4f3c-82f1-e5d705eb3d50",
   "metadata": {},
   "outputs": [
    {
     "name": "stdout",
     "output_type": "stream",
     "text": [
      "<class 'int'>\n",
      "<class 'float'>\n"
     ]
    }
   ],
   "source": [
    "print(type(a))\n",
    "print(type(b))"
   ]
  },
  {
   "cell_type": "code",
   "execution_count": 15,
   "id": "442661a8-6112-412c-8ce7-00fd264ba46b",
   "metadata": {},
   "outputs": [
    {
     "name": "stdout",
     "output_type": "stream",
     "text": [
      "9.7\n",
      "9\n",
      "<class 'int'>\n"
     ]
    }
   ],
   "source": [
    "a = 9.7\n",
    "b = int(a)\n",
    "print(a)\n",
    "print(b)\n",
    "print(type(b))"
   ]
  },
  {
   "cell_type": "code",
   "execution_count": 16,
   "id": "cb01b9dd-5801-4fbe-b41c-57e0699fe99e",
   "metadata": {},
   "outputs": [
    {
     "name": "stdout",
     "output_type": "stream",
     "text": [
      "<class 'float'>\n"
     ]
    }
   ],
   "source": [
    "a = \"76.3\"\n",
    "b = float(a)\n",
    "print(type(b))"
   ]
  },
  {
   "cell_type": "code",
   "execution_count": 17,
   "id": "37ed4e65-4c34-4e2c-a788-71c23d9e29e7",
   "metadata": {},
   "outputs": [
    {
     "name": "stdout",
     "output_type": "stream",
     "text": [
      "<class 'int'>\n"
     ]
    }
   ],
   "source": [
    "a = \"76\"\n",
    "b = int(a)\n",
    "print(type(b))"
   ]
  },
  {
   "cell_type": "code",
   "execution_count": 18,
   "id": "c04a7298-adb8-4114-acd8-93fe6c54adc2",
   "metadata": {},
   "outputs": [
    {
     "ename": "ValueError",
     "evalue": "could not convert string to float: 'ab9.6'",
     "output_type": "error",
     "traceback": [
      "\u001b[1;31m---------------------------------------------------------------------------\u001b[0m",
      "\u001b[1;31mValueError\u001b[0m                                Traceback (most recent call last)",
      "Cell \u001b[1;32mIn[18], line 2\u001b[0m\n\u001b[0;32m      1\u001b[0m a \u001b[38;5;241m=\u001b[39m \u001b[38;5;124m\"\u001b[39m\u001b[38;5;124mab9.6\u001b[39m\u001b[38;5;124m\"\u001b[39m\n\u001b[1;32m----> 2\u001b[0m b \u001b[38;5;241m=\u001b[39m \u001b[38;5;28;43mfloat\u001b[39;49m\u001b[43m(\u001b[49m\u001b[43ma\u001b[49m\u001b[43m)\u001b[49m\n",
      "\u001b[1;31mValueError\u001b[0m: could not convert string to float: 'ab9.6'"
     ]
    }
   ],
   "source": [
    "a = \"ab9.6\" #혼합 형태는 문자 > 숫자 형변환 불가\n",
    "b = float(a)"
   ]
  },
  {
   "cell_type": "code",
   "execution_count": 20,
   "id": "6c18223a-49cc-46eb-bf4d-130ffde3812e",
   "metadata": {},
   "outputs": [
    {
     "name": "stdout",
     "output_type": "stream",
     "text": [
      "<class 'str'>\n",
      "<class 'str'>\n"
     ]
    }
   ],
   "source": [
    "a = 10.8\n",
    "b = 9\n",
    "c = str(a)\n",
    "d = str(b)\n",
    "print(type(c))\n",
    "print(type(d))"
   ]
  },
  {
   "cell_type": "code",
   "execution_count": 21,
   "id": "07e7031e-4821-4278-94dd-388a3bc93886",
   "metadata": {},
   "outputs": [
    {
     "name": "stdout",
     "output_type": "stream",
     "text": [
      "Hello World\n"
     ]
    }
   ],
   "source": [
    "a = \"Hello \"\n",
    "b = \"World\"\n",
    "print(a + b)"
   ]
  },
  {
   "cell_type": "code",
   "execution_count": 22,
   "id": "5f9ce3da-3776-41b5-88d4-b7628ffbc1cd",
   "metadata": {},
   "outputs": [
    {
     "name": "stdout",
     "output_type": "stream",
     "text": [
      "10.8 9\n"
     ]
    }
   ],
   "source": [
    "print(c, d)"
   ]
  },
  {
   "cell_type": "code",
   "execution_count": 23,
   "id": "e8fb6694-4c8f-4e20-b403-5cddf2ae6090",
   "metadata": {},
   "outputs": [
    {
     "name": "stdout",
     "output_type": "stream",
     "text": [
      "10.89\n"
     ]
    }
   ],
   "source": [
    "print (c + d) #문자열이기 때문"
   ]
  },
  {
   "cell_type": "code",
   "execution_count": 24,
   "id": "81c0d483-2e89-401b-9c0d-a97845f577e8",
   "metadata": {},
   "outputs": [
    {
     "name": "stdout",
     "output_type": "stream",
     "text": [
      "Enter name\n"
     ]
    },
    {
     "name": "stdin",
     "output_type": "stream",
     "text": [
      " Tom\n"
     ]
    },
    {
     "name": "stdout",
     "output_type": "stream",
     "text": [
      "Good morning! Tom\n"
     ]
    }
   ],
   "source": [
    "print(\"Enter name\")\n",
    "name = input() #키보드에서 받은 내용을 문자타입으로 받음\n",
    "print(\"Good morning!\", name)"
   ]
  },
  {
   "cell_type": "code",
   "execution_count": 25,
   "id": "ddb37945-287c-4eeb-9f29-241846e048e3",
   "metadata": {},
   "outputs": [
    {
     "name": "stdin",
     "output_type": "stream",
     "text": [
      "Enter name  Jane\n"
     ]
    },
    {
     "name": "stdout",
     "output_type": "stream",
     "text": [
      "Good morning! Jane\n"
     ]
    }
   ],
   "source": [
    "name = input(\"Enter name \")\n",
    "print(\"Good morning!\", name)"
   ]
  },
  {
   "cell_type": "markdown",
   "id": "cf24ea1a-d9e2-494d-85c0-7fcf9abd06c1",
   "metadata": {
    "tags": []
   },
   "source": [
    "# 참조 타입 (Reference Type)"
   ]
  },
  {
   "cell_type": "markdown",
   "id": "149a90a3-890e-44a8-994b-19f22fc5bad9",
   "metadata": {},
   "source": [
    "## list"
   ]
  },
  {
   "cell_type": "code",
   "execution_count": 26,
   "id": "2a8c0a21-4aac-4f1d-9473-e54850274d69",
   "metadata": {},
   "outputs": [],
   "source": [
    "colors = ['red', 'blue', 'green']\n",
    "#리스트라는 객체\n",
    "#colors라는 리스트가 위치를 가지고 있음. colors pointer 혹은 현대 용어로는 reference (참조자)\n"
   ]
  },
  {
   "cell_type": "code",
   "execution_count": 27,
   "id": "72a8b65b-af0a-45b0-b86d-77d9f83e7816",
   "metadata": {},
   "outputs": [
    {
     "name": "stdout",
     "output_type": "stream",
     "text": [
      "red green blue\n"
     ]
    }
   ],
   "source": [
    "#모든 프로그래밍 언어는 index 0부터 시작\n",
    "print(colors[0], colors[2], colors[1])"
   ]
  },
  {
   "cell_type": "code",
   "execution_count": 28,
   "id": "ad74b8ba-160d-4c39-8994-bec7876ecb43",
   "metadata": {},
   "outputs": [
    {
     "name": "stdout",
     "output_type": "stream",
     "text": [
      "['red', 'blue', 'green']\n"
     ]
    }
   ],
   "source": [
    "print(colors)"
   ]
  },
  {
   "cell_type": "code",
   "execution_count": 30,
   "id": "20415782-5ac2-433e-9b72-03dca6101658",
   "metadata": {},
   "outputs": [
    {
     "name": "stdout",
     "output_type": "stream",
     "text": [
      "<class 'list'>\n"
     ]
    }
   ],
   "source": [
    "print(type(colors))"
   ]
  },
  {
   "cell_type": "code",
   "execution_count": 31,
   "id": "f14d371c-d330-479d-b71a-966b7d33af2e",
   "metadata": {},
   "outputs": [
    {
     "name": "stdout",
     "output_type": "stream",
     "text": [
      "3\n"
     ]
    }
   ],
   "source": [
    "print(len(colors))"
   ]
  },
  {
   "cell_type": "code",
   "execution_count": 33,
   "id": "04b0eefd-674f-47ff-a1fb-fb61e874488b",
   "metadata": {},
   "outputs": [
    {
     "name": "stdout",
     "output_type": "stream",
     "text": [
      "<class 'tuple'>\n"
     ]
    }
   ],
   "source": [
    "colors1 = ('red', 'blue', 'green')\n",
    "print(type(colors1))"
   ]
  },
  {
   "cell_type": "code",
   "execution_count": 34,
   "id": "1da9f73e-a481-415f-92b1-4bcd7e1d322f",
   "metadata": {},
   "outputs": [],
   "source": [
    "list_a = [1, 2, 'Three', 4.0, True, [1,2,3]]\n",
    "#여러가지를 복합적으로 관리할 수 있는 게 파이썬 리스트의 특징"
   ]
  },
  {
   "cell_type": "code",
   "execution_count": 1,
   "id": "a5370cef-a28c-4b6a-befa-e25ef3f39325",
   "metadata": {},
   "outputs": [
    {
     "name": "stdout",
     "output_type": "stream",
     "text": [
      "<class 'str'>\n"
     ]
    }
   ],
   "source": [
    "number = 98\n",
    "n = str(number)\n",
    "print(type(n))"
   ]
  },
  {
   "cell_type": "code",
   "execution_count": null,
   "id": "51b74d11-3eb3-48c8-a2d3-45a90adbaaa8",
   "metadata": {},
   "outputs": [],
   "source": []
  }
 ],
 "metadata": {
  "kernelspec": {
   "display_name": "Python 3 (ipykernel)",
   "language": "python",
   "name": "python3"
  },
  "language_info": {
   "codemirror_mode": {
    "name": "ipython",
    "version": 3
   },
   "file_extension": ".py",
   "mimetype": "text/x-python",
   "name": "python",
   "nbconvert_exporter": "python",
   "pygments_lexer": "ipython3",
   "version": "3.9.16"
  }
 },
 "nbformat": 4,
 "nbformat_minor": 5
}
