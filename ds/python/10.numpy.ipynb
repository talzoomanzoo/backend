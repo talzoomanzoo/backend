{
 "cells": [
  {
   "cell_type": "code",
   "execution_count": 1,
   "id": "8036b560-f6cc-46c7-b3d9-49140e62766d",
   "metadata": {},
   "outputs": [],
   "source": [
    "import numpy as np #python society에서 암묵적 합의로 된 alias np"
   ]
  },
  {
   "cell_type": "markdown",
   "id": "22645ac7-b7fa-4b69-bb94-3eba33bb50f3",
   "metadata": {},
   "source": [
    "# 넘파이 배열 (ndarray)\n",
    "● list라는 단어 X eg. 넘파이 list X 넘파이 배열"
   ]
  },
  {
   "cell_type": "markdown",
   "id": "49b685fc-3faf-4724-82bb-432ad8e70478",
   "metadata": {},
   "source": [
    "## list 이용하여 numpy 배열"
   ]
  },
  {
   "cell_type": "code",
   "execution_count": 2,
   "id": "b7944c23-eaad-4388-9526-d082366d81eb",
   "metadata": {},
   "outputs": [
    {
     "name": "stdout",
     "output_type": "stream",
     "text": [
      "<class 'list'>\n"
     ]
    }
   ],
   "source": [
    "data1 = [0,1,2,3,4,5]\n",
    "print(type(data1))"
   ]
  },
  {
   "cell_type": "code",
   "execution_count": 3,
   "id": "674ee10f-3c34-4043-ab94-7241054d27af",
   "metadata": {},
   "outputs": [
    {
     "name": "stdout",
     "output_type": "stream",
     "text": [
      "[0, 1, 2, 3, 4, 5]\n"
     ]
    }
   ],
   "source": [
    "print(data1)"
   ]
  },
  {
   "cell_type": "code",
   "execution_count": 4,
   "id": "514f8f05-7adc-49e8-9b03-01ee2c430bde",
   "metadata": {},
   "outputs": [
    {
     "name": "stdout",
     "output_type": "stream",
     "text": [
      "<class 'numpy.ndarray'>\n",
      "[0 1 2 3 4 5]\n"
     ]
    }
   ],
   "source": [
    "a1 = np.array(data1)\n",
    "print(type(a1))\n",
    "print(a1) #파이썬 list와의 차이점"
   ]
  },
  {
   "cell_type": "code",
   "execution_count": 5,
   "id": "b2aae0f4-4cdb-4dff-bc7b-ec799145dd7f",
   "metadata": {},
   "outputs": [],
   "source": [
    "data2 = [0,1,2,3,4,0.5]"
   ]
  },
  {
   "cell_type": "code",
   "execution_count": 6,
   "id": "f8985549-b7c3-46c9-bf3e-1f561009290b",
   "metadata": {},
   "outputs": [
    {
     "name": "stdout",
     "output_type": "stream",
     "text": [
      "[0.  1.  2.  3.  4.  0.5]\n"
     ]
    }
   ],
   "source": [
    "a2 = np.array(data2)\n",
    "print(a2) #마지막 수가 실수니까 실수가 됨. 두개 이상의 타입을 numpy 배열에 넣지 않는다. type을 체크하지 않고 처리하는 게 빠르니까"
   ]
  },
  {
   "cell_type": "code",
   "execution_count": 7,
   "id": "9512baf0-6487-42b8-be0b-6a02d0b5336c",
   "metadata": {},
   "outputs": [
    {
     "name": "stdout",
     "output_type": "stream",
     "text": [
      "int32 float64\n"
     ]
    }
   ],
   "source": [
    "#numpy 배열의 element가 무슨 타입인지 알기 위해서는 dtype를 이용한다.\n",
    "print(a1.dtype, a2.dtype)\n",
    "#numpy는 정수를 32비트 (4바이트), 실수는 64비트 (8바이트)로 표현"
   ]
  },
  {
   "cell_type": "code",
   "execution_count": 8,
   "id": "ad87f29e-5874-44fc-878c-e72e81da782d",
   "metadata": {},
   "outputs": [
    {
     "name": "stdout",
     "output_type": "stream",
     "text": [
      "[[1 2 3]\n",
      " [4 5 6]\n",
      " [7 8 9]]\n"
     ]
    }
   ],
   "source": [
    "#2차원 배열\n",
    "a3 = np.array([[1,2,3], [4,5,6], [7,8,9]])\n",
    "print(a3)"
   ]
  },
  {
   "cell_type": "markdown",
   "id": "6d49c500-5c1d-4401-8114-323c978d04ba",
   "metadata": {},
   "source": [
    "## arange 이용한 numpy 배열 \n",
    "●일반 파이썬의 range 와 사용법은 같음"
   ]
  },
  {
   "cell_type": "code",
   "execution_count": 9,
   "id": "1a961b10-c4e1-49a4-a0f7-05e17825ee97",
   "metadata": {},
   "outputs": [
    {
     "name": "stdout",
     "output_type": "stream",
     "text": [
      "[0 2 4 6 8]\n"
     ]
    }
   ],
   "source": [
    "a4 = np.arange(0,10,2)\n",
    "print(a4)"
   ]
  },
  {
   "cell_type": "code",
   "execution_count": 10,
   "id": "cf80283f-2732-4c26-b4c1-47be437f8b78",
   "metadata": {},
   "outputs": [
    {
     "name": "stdout",
     "output_type": "stream",
     "text": [
      "[1 2 3 4 5 6 7 8 9]\n"
     ]
    }
   ],
   "source": [
    "a5 = np.arange(1,10)\n",
    "print(a5)"
   ]
  },
  {
   "cell_type": "code",
   "execution_count": 11,
   "id": "c8db9aac-cfd9-4878-b408-9f94c330d515",
   "metadata": {},
   "outputs": [
    {
     "name": "stdout",
     "output_type": "stream",
     "text": [
      "[0 1 2 3 4]\n"
     ]
    }
   ],
   "source": [
    "a6 = np.arange(5)\n",
    "print(a6)"
   ]
  },
  {
   "cell_type": "code",
   "execution_count": 12,
   "id": "bbb77492-5dfb-4453-a15e-65a8ce7d77b6",
   "metadata": {},
   "outputs": [
    {
     "name": "stdout",
     "output_type": "stream",
     "text": [
      "[[ 0  1  2]\n",
      " [ 3  4  5]\n",
      " [ 6  7  8]\n",
      " [ 9 10 11]]\n"
     ]
    }
   ],
   "source": [
    "a7 = np.arange(12).reshape(4,3) #row 4, col 3으로 shape\n",
    "print(a7)"
   ]
  },
  {
   "cell_type": "code",
   "execution_count": 13,
   "id": "9bc990d5-8712-4755-8ddd-966037dfa7a5",
   "metadata": {},
   "outputs": [
    {
     "name": "stdout",
     "output_type": "stream",
     "text": [
      "(4, 3)\n"
     ]
    }
   ],
   "source": [
    "print(a7.shape) #shape 알아보기"
   ]
  },
  {
   "cell_type": "code",
   "execution_count": 14,
   "id": "28e32da6-20e3-4e21-92dd-7d2530ad76fe",
   "metadata": {},
   "outputs": [
    {
     "name": "stdout",
     "output_type": "stream",
     "text": [
      "[[ 0  1  2]\n",
      " [ 3  4  5]\n",
      " [ 6  7  8]\n",
      " [ 9 10 11]]\n"
     ]
    }
   ],
   "source": [
    "a7 = np.arange(12).reshape(4,-1) #row 4, 알아서 두번째 차원 주기: -1\n",
    "print(a7)"
   ]
  },
  {
   "cell_type": "code",
   "execution_count": 15,
   "id": "7dc4e121-c01f-49ba-adcc-469d2d9f555c",
   "metadata": {},
   "outputs": [
    {
     "name": "stdout",
     "output_type": "stream",
     "text": [
      "[[ 0  1  2]\n",
      " [ 3  4  5]\n",
      " [ 6  7  8]\n",
      " [ 9 10 11]]\n"
     ]
    }
   ],
   "source": [
    "a7 = np.arange(12).reshape(-1,3)\n",
    "print(a7)"
   ]
  },
  {
   "cell_type": "code",
   "execution_count": 16,
   "id": "2ea3815e-a592-450c-9c12-207e317e51e9",
   "metadata": {},
   "outputs": [
    {
     "name": "stdout",
     "output_type": "stream",
     "text": [
      "[ 0  1  2  3  4  5  6  7  8  9 10 11]\n"
     ]
    }
   ],
   "source": [
    "a7 = a7.reshape(-1) #무조건 1차원으로 flatten\n",
    "print(a7)"
   ]
  },
  {
   "cell_type": "code",
   "execution_count": 17,
   "id": "974d70a4-54c4-4bbc-a1c8-84a8b0865243",
   "metadata": {},
   "outputs": [
    {
     "ename": "ValueError",
     "evalue": "cannot reshape array of size 11 into shape (4,3)",
     "output_type": "error",
     "traceback": [
      "\u001b[1;31m---------------------------------------------------------------------------\u001b[0m",
      "\u001b[1;31mValueError\u001b[0m                                Traceback (most recent call last)",
      "Cell \u001b[1;32mIn[17], line 1\u001b[0m\n\u001b[1;32m----> 1\u001b[0m a8 \u001b[38;5;241m=\u001b[39m \u001b[43mnp\u001b[49m\u001b[38;5;241;43m.\u001b[39;49m\u001b[43marange\u001b[49m\u001b[43m(\u001b[49m\u001b[38;5;241;43m11\u001b[39;49m\u001b[43m)\u001b[49m\u001b[38;5;241;43m.\u001b[39;49m\u001b[43mreshape\u001b[49m\u001b[43m(\u001b[49m\u001b[38;5;241;43m4\u001b[39;49m\u001b[43m,\u001b[49m\u001b[38;5;241;43m3\u001b[39;49m\u001b[43m)\u001b[49m \u001b[38;5;66;03m#row 4, col 3으로 shape\u001b[39;00m\n\u001b[0;32m      2\u001b[0m \u001b[38;5;28mprint\u001b[39m(a8)\n",
      "\u001b[1;31mValueError\u001b[0m: cannot reshape array of size 11 into shape (4,3)"
     ]
    }
   ],
   "source": [
    "a8 = np.arange(11).reshape(4,3) #row 4, col 3으로 shape\n",
    "print(a8)"
   ]
  },
  {
   "cell_type": "code",
   "execution_count": 18,
   "id": "755dbf11-a0ae-456b-b9cf-6ec8ea9262f1",
   "metadata": {},
   "outputs": [
    {
     "name": "stdout",
     "output_type": "stream",
     "text": [
      "[[[[ 0]\n",
      "   [ 1]\n",
      "   [ 2]]\n",
      "\n",
      "  [[ 3]\n",
      "   [ 4]\n",
      "   [ 5]]]\n",
      "\n",
      "\n",
      " [[[ 6]\n",
      "   [ 7]\n",
      "   [ 8]]\n",
      "\n",
      "  [[ 9]\n",
      "   [10]\n",
      "   [11]]]]\n"
     ]
    }
   ],
   "source": [
    "a9 = np.arange(12).reshape(2,2,3,1)\n",
    "print(a9)"
   ]
  },
  {
   "cell_type": "markdown",
   "id": "1790089b-4fca-430f-9627-8e76f8f99f64",
   "metadata": {},
   "source": [
    "## linspace를 활용한 간격 나누기"
   ]
  },
  {
   "cell_type": "code",
   "execution_count": 19,
   "id": "59efcdac-7e97-4c76-934b-bec46eee4bac",
   "metadata": {},
   "outputs": [
    {
     "name": "stdout",
     "output_type": "stream",
     "text": [
      "[ 1.  2.  3.  4.  5.  6.  7.  8.  9. 10.]\n"
     ]
    }
   ],
   "source": [
    "n1 = np.linspace(1,10,10) #주어진 범위를 세번째 인자로 조각냄\n",
    "print(n1)"
   ]
  },
  {
   "cell_type": "code",
   "execution_count": 20,
   "id": "ce041794-87bc-48db-ae0a-570505411a78",
   "metadata": {},
   "outputs": [
    {
     "name": "stdout",
     "output_type": "stream",
     "text": [
      "[ 1.          2.28571429  3.57142857  4.85714286  6.14285714  7.42857143\n",
      "  8.71428571 10.        ]\n"
     ]
    }
   ],
   "source": [
    "n1 = np.linspace(1,10,8) \n",
    "print(n1)"
   ]
  },
  {
   "cell_type": "code",
   "execution_count": 21,
   "id": "233a8a94-6b53-4ae8-976f-f3334b000399",
   "metadata": {},
   "outputs": [
    {
     "name": "stdout",
     "output_type": "stream",
     "text": [
      "[0.         0.16534698 0.33069396 0.49604095 0.66138793 0.82673491\n",
      " 0.99208189 1.15742887 1.32277585 1.48812284 1.65346982 1.8188168\n",
      " 1.98416378 2.14951076 2.31485774 2.48020473 2.64555171 2.81089869\n",
      " 2.97624567 3.14159265]\n"
     ]
    }
   ],
   "source": [
    "n1 = np.linspace(0, np.pi, 20) #주로 주어진 길이에 눈금을 만들 때 사용됨\n",
    "print(n1)"
   ]
  },
  {
   "cell_type": "markdown",
   "id": "5c4b7e65-2e1d-4335-b11a-cce2555d20ff",
   "metadata": {},
   "source": [
    "## numpy에서 제공하는 특수배열"
   ]
  },
  {
   "cell_type": "code",
   "execution_count": 22,
   "id": "da16548f-daa5-45b4-9637-85ef8f572586",
   "metadata": {},
   "outputs": [
    {
     "name": "stdout",
     "output_type": "stream",
     "text": [
      "[0 0 0 0 0 0 0 0 0 0]\n"
     ]
    }
   ],
   "source": [
    "n = np.zeros(10, int) #shape, 어떤 타입으로 0을 넣을 것인지\n",
    "print(n)"
   ]
  },
  {
   "cell_type": "code",
   "execution_count": 23,
   "id": "bae7716f-029e-4282-9378-8f44e0579977",
   "metadata": {},
   "outputs": [
    {
     "name": "stdout",
     "output_type": "stream",
     "text": [
      "[[0 0 0]\n",
      " [0 0 0]\n",
      " [0 0 0]\n",
      " [0 0 0]]\n"
     ]
    }
   ],
   "source": [
    "n = np.zeros((4,3), int) #zeros는 파라미터 2개만 받으니까 #tuple 쓰는 이유는 변경해 줄 대상이 아니라서\n",
    "print(n)"
   ]
  },
  {
   "cell_type": "code",
   "execution_count": 24,
   "id": "a6aa91ea-e4f0-455f-bed6-c48bc803fb72",
   "metadata": {},
   "outputs": [
    {
     "name": "stdout",
     "output_type": "stream",
     "text": [
      "[[0. 0. 0.]\n",
      " [0. 0. 0.]\n",
      " [0. 0. 0.]\n",
      " [0. 0. 0.]]\n"
     ]
    }
   ],
   "source": [
    "n = np.zeros((4,3)) #type 생략 시 무조건 실수\n",
    "print(n)"
   ]
  },
  {
   "cell_type": "code",
   "execution_count": 25,
   "id": "e68c4e89-a459-449c-9768-29c18e22fe3e",
   "metadata": {},
   "outputs": [
    {
     "name": "stdout",
     "output_type": "stream",
     "text": [
      "[1. 1. 1. 1. 1. 1. 1. 1. 1. 1.]\n"
     ]
    }
   ],
   "source": [
    "n = np.ones(10)\n",
    "print(n)"
   ]
  },
  {
   "cell_type": "code",
   "execution_count": 26,
   "id": "1fb7a634-c852-46f0-b126-ac329e9845c5",
   "metadata": {},
   "outputs": [
    {
     "name": "stdout",
     "output_type": "stream",
     "text": [
      "[[1 1 1]\n",
      " [1 1 1]\n",
      " [1 1 1]\n",
      " [1 1 1]]\n"
     ]
    }
   ],
   "source": [
    "n = np.ones((4,3), int)\n",
    "print(n)"
   ]
  },
  {
   "cell_type": "code",
   "execution_count": 27,
   "id": "736d18af-2bb5-42ed-ae9e-82f35bd80f1e",
   "metadata": {},
   "outputs": [
    {
     "name": "stdout",
     "output_type": "stream",
     "text": [
      "[[1. 0. 0. 0. 0.]\n",
      " [0. 1. 0. 0. 0.]\n",
      " [0. 0. 1. 0. 0.]\n",
      " [0. 0. 0. 1. 0.]\n",
      " [0. 0. 0. 0. 1.]]\n"
     ]
    }
   ],
   "source": [
    "n = np.eye(5) #단위행렬\n",
    "print(n)"
   ]
  },
  {
   "cell_type": "code",
   "execution_count": 28,
   "id": "d3904da0-eb67-4056-aab9-a1e34ab58e72",
   "metadata": {},
   "outputs": [
    {
     "name": "stdout",
     "output_type": "stream",
     "text": [
      "[1.567 0.123 5.232 5.    8.   ]\n"
     ]
    }
   ],
   "source": [
    "a1 = np.array(['1.567', '0.123', '5.232', '5', '8'])\n",
    "num = a1.astype(float) #numpy 배열의 항목을 바꾸는 것은 astype, type을 확인하는 것은 dtype\n",
    "print(num)"
   ]
  },
  {
   "cell_type": "code",
   "execution_count": 29,
   "id": "2896fd07-0e1e-4d31-b12a-d4959dc90d67",
   "metadata": {},
   "outputs": [
    {
     "ename": "ValueError",
     "evalue": "invalid literal for int() with base 10: '1.567'",
     "output_type": "error",
     "traceback": [
      "\u001b[1;31m---------------------------------------------------------------------------\u001b[0m",
      "\u001b[1;31mValueError\u001b[0m                                Traceback (most recent call last)",
      "Cell \u001b[1;32mIn[29], line 2\u001b[0m\n\u001b[0;32m      1\u001b[0m a1 \u001b[38;5;241m=\u001b[39m np\u001b[38;5;241m.\u001b[39marray([\u001b[38;5;124m'\u001b[39m\u001b[38;5;124m1.567\u001b[39m\u001b[38;5;124m'\u001b[39m, \u001b[38;5;124m'\u001b[39m\u001b[38;5;124m0.123\u001b[39m\u001b[38;5;124m'\u001b[39m, \u001b[38;5;124m'\u001b[39m\u001b[38;5;124m5.232\u001b[39m\u001b[38;5;124m'\u001b[39m, \u001b[38;5;124m'\u001b[39m\u001b[38;5;124m5\u001b[39m\u001b[38;5;124m'\u001b[39m, \u001b[38;5;124m'\u001b[39m\u001b[38;5;124m8\u001b[39m\u001b[38;5;124m'\u001b[39m])\n\u001b[1;32m----> 2\u001b[0m num \u001b[38;5;241m=\u001b[39m \u001b[43ma1\u001b[49m\u001b[38;5;241;43m.\u001b[39;49m\u001b[43mastype\u001b[49m\u001b[43m(\u001b[49m\u001b[38;5;28;43mint\u001b[39;49m\u001b[43m)\u001b[49m\n\u001b[0;32m      3\u001b[0m \u001b[38;5;28mprint\u001b[39m(num)\n",
      "\u001b[1;31mValueError\u001b[0m: invalid literal for int() with base 10: '1.567'"
     ]
    }
   ],
   "source": [
    "a1 = np.array(['1.567', '0.123', '5.232', '5', '8'])\n",
    "num = a1.astype(int)\n",
    "print(num)"
   ]
  },
  {
   "cell_type": "code",
   "execution_count": 30,
   "id": "e87c68b9-4387-4e1b-846b-660c55839873",
   "metadata": {},
   "outputs": [
    {
     "name": "stdout",
     "output_type": "stream",
     "text": [
      "[10 20  0  5  9]\n"
     ]
    }
   ],
   "source": [
    "n = np.array([10, 20, 0.345, 5.87, 9.12])\n",
    "n2 = n.astype(int)\n",
    "print(n2)"
   ]
  },
  {
   "cell_type": "markdown",
   "id": "98d6e9f0-501b-407f-b185-fdc6e1cdd8c0",
   "metadata": {},
   "source": [
    "## 난수배열"
   ]
  },
  {
   "cell_type": "code",
   "execution_count": 31,
   "id": "6fc47a94-f664-43ba-806a-6b6bb7b08e12",
   "metadata": {},
   "outputs": [
    {
     "data": {
      "text/plain": [
       "0.0486703214058708"
      ]
     },
     "execution_count": 31,
     "metadata": {},
     "output_type": "execute_result"
    }
   ],
   "source": [
    "np.random.rand() #0 에서 1미만의 난수 생성"
   ]
  },
  {
   "cell_type": "code",
   "execution_count": 32,
   "id": "724e810e-5d1c-48b2-981e-42888fafd1f4",
   "metadata": {},
   "outputs": [
    {
     "data": {
      "text/plain": [
       "array([[0.63073005, 0.34082207, 0.67244937],\n",
       "       [0.97702607, 0.61299365, 0.82976592]])"
      ]
     },
     "execution_count": 32,
     "metadata": {},
     "output_type": "execute_result"
    }
   ],
   "source": [
    "np.random.rand(2,3) #2 x 3"
   ]
  },
  {
   "cell_type": "code",
   "execution_count": 33,
   "id": "dca4a8b3-b756-40c9-a76c-82b8dececf7c",
   "metadata": {},
   "outputs": [
    {
     "data": {
      "text/plain": [
       "array([[[0.87793974, 0.85196408, 0.75300168, 0.99663214],\n",
       "        [0.86300309, 0.61955747, 0.95272842, 0.82379302],\n",
       "        [0.42654331, 0.55431886, 0.37207152, 0.20067601]],\n",
       "\n",
       "       [[0.51364505, 0.80209646, 0.20194479, 0.89680788],\n",
       "        [0.25556295, 0.92819305, 0.4550941 , 0.77340708],\n",
       "        [0.39128924, 0.42805808, 0.25286127, 0.08791553]]])"
      ]
     },
     "execution_count": 33,
     "metadata": {},
     "output_type": "execute_result"
    }
   ],
   "source": [
    "np.random.rand(2,3,4) #2 x 3 x 4"
   ]
  },
  {
   "cell_type": "code",
   "execution_count": 34,
   "id": "fccd83b7-a3b7-42d5-a7b4-4bce108461c0",
   "metadata": {},
   "outputs": [
    {
     "data": {
      "text/plain": [
       "array([[8, 7, 4, 9],\n",
       "       [9, 9, 5, 4],\n",
       "       [6, 7, 6, 2]])"
      ]
     },
     "execution_count": 34,
     "metadata": {},
     "output_type": "execute_result"
    }
   ],
   "source": [
    "np.random.randint(10, size = (3,4)) #1부터 10미만까지 정수 난수 생성, shape"
   ]
  },
  {
   "cell_type": "code",
   "execution_count": 35,
   "id": "2f1196b4-83a5-40b1-b3f3-90f99670f080",
   "metadata": {},
   "outputs": [
    {
     "data": {
      "text/plain": [
       "array([[3, 8, 9, 7],\n",
       "       [9, 8, 8, 7],\n",
       "       [5, 8, 7, 3]])"
      ]
     },
     "execution_count": 35,
     "metadata": {},
     "output_type": "execute_result"
    }
   ],
   "source": [
    "np.random.randint(2,10, size = (3,4))"
   ]
  },
  {
   "cell_type": "code",
   "execution_count": 36,
   "id": "bd93e791-3667-426f-92cd-3ee4dea2b9f1",
   "metadata": {},
   "outputs": [
    {
     "data": {
      "text/plain": [
       "27"
      ]
     },
     "execution_count": 36,
     "metadata": {},
     "output_type": "execute_result"
    }
   ],
   "source": [
    "np.random.randint(1,37) #로또 36까지"
   ]
  },
  {
   "cell_type": "code",
   "execution_count": 37,
   "id": "b28d53b5-d947-4281-8bed-5498f458f803",
   "metadata": {
    "tags": []
   },
   "outputs": [
    {
     "name": "stdout",
     "output_type": "stream",
     "text": [
      "[11 22 33 44]\n",
      "[ 9 18 27 36]\n",
      "[20 40 60 80]\n",
      "[ 100  400  900 1600]\n",
      "[ 10  40  90 160]\n",
      "[10. 10. 10. 10.]\n",
      "[10.          5.          3.33333333  2.5       ]\n",
      "[False False  True  True]\n"
     ]
    }
   ],
   "source": [
    "a1 = np.array([10, 20, 30, 40])\n",
    "a2 = np.array([1, 2, 3, 4])\n",
    "print(a1 + a2) #원소끼리 계산함 (element-wise calculation) -> 고로 shape이 안맞으면 에러가 남\n",
    "print(a1 - a2)\n",
    "print(a1 * 2)\n",
    "print(a1 ** 2)\n",
    "print(a1 * a2)\n",
    "print(a1 / a2)\n",
    "print(a1 / (a2 ** 2))\n",
    "print(a1 > 20)\n",
    "#shift + tab 당기기"
   ]
  },
  {
   "cell_type": "code",
   "execution_count": 38,
   "id": "ee858a05-1efb-4301-a677-e1fa11a5078e",
   "metadata": {},
   "outputs": [
    {
     "ename": "ValueError",
     "evalue": "operands could not be broadcast together with shapes (4,) (3,) ",
     "output_type": "error",
     "traceback": [
      "\u001b[1;31m---------------------------------------------------------------------------\u001b[0m",
      "\u001b[1;31mValueError\u001b[0m                                Traceback (most recent call last)",
      "Cell \u001b[1;32mIn[38], line 4\u001b[0m\n\u001b[0;32m      2\u001b[0m a1 \u001b[38;5;241m=\u001b[39m np\u001b[38;5;241m.\u001b[39marray([\u001b[38;5;241m10\u001b[39m, \u001b[38;5;241m20\u001b[39m, \u001b[38;5;241m30\u001b[39m, \u001b[38;5;241m40\u001b[39m])\n\u001b[0;32m      3\u001b[0m a2 \u001b[38;5;241m=\u001b[39m np\u001b[38;5;241m.\u001b[39marray([\u001b[38;5;241m1\u001b[39m, \u001b[38;5;241m2\u001b[39m, \u001b[38;5;241m3\u001b[39m]) \u001b[38;5;66;03m#정수배 해서 shape을 맞출 수 있다고 생각하면 broadcasting 해서 맞춰줌\u001b[39;00m\n\u001b[1;32m----> 4\u001b[0m \u001b[38;5;28mprint\u001b[39m(\u001b[43ma1\u001b[49m\u001b[43m \u001b[49m\u001b[38;5;241;43m+\u001b[39;49m\u001b[43m \u001b[49m\u001b[43ma2\u001b[49m)\n",
      "\u001b[1;31mValueError\u001b[0m: operands could not be broadcast together with shapes (4,) (3,) "
     ]
    }
   ],
   "source": [
    "# numpy broadcasting\n",
    "a1 = np.array([10, 20, 30, 40])\n",
    "a2 = np.array([1, 2, 3]) #정수배 해서 shape을 맞출 수 있다고 생각하면 broadcasting 해서 맞춰줌\n",
    "print(a1 + a2)"
   ]
  },
  {
   "cell_type": "code",
   "execution_count": 39,
   "id": "3f708a6c-0972-46a7-8a49-31e10bf7b5e1",
   "metadata": {},
   "outputs": [
    {
     "name": "stdout",
     "output_type": "stream",
     "text": [
      "[[ 0  1  2  3]\n",
      " [ 4  5  6  7]\n",
      " [ 8  9 10 11]]\n",
      "[[0 1 2 3]\n",
      " [4 5 6 7]]\n"
     ]
    }
   ],
   "source": [
    "a1 = np.arange(12).reshape(3,4)\n",
    "a2 = np.arange(8).reshape(2,4)\n",
    "print(a1)\n",
    "print(a2)"
   ]
  },
  {
   "cell_type": "code",
   "execution_count": 40,
   "id": "0d784b48-7990-4e3e-89b4-340f421ca2d2",
   "metadata": {},
   "outputs": [
    {
     "ename": "ValueError",
     "evalue": "operands could not be broadcast together with shapes (3,4) (2,4) ",
     "output_type": "error",
     "traceback": [
      "\u001b[1;31m---------------------------------------------------------------------------\u001b[0m",
      "\u001b[1;31mValueError\u001b[0m                                Traceback (most recent call last)",
      "Cell \u001b[1;32mIn[40], line 1\u001b[0m\n\u001b[1;32m----> 1\u001b[0m \u001b[38;5;28mprint\u001b[39m(\u001b[43ma1\u001b[49m\u001b[43m \u001b[49m\u001b[38;5;241;43m+\u001b[39;49m\u001b[43m \u001b[49m\u001b[43ma2\u001b[49m)\n",
      "\u001b[1;31mValueError\u001b[0m: operands could not be broadcast together with shapes (3,4) (2,4) "
     ]
    }
   ],
   "source": [
    "print(a1 + a2) #shape difference makes element-wise calculation impossible"
   ]
  },
  {
   "cell_type": "code",
   "execution_count": 41,
   "id": "c79ede3f-731c-4f29-bcdf-cf42271f4d31",
   "metadata": {},
   "outputs": [
    {
     "name": "stdout",
     "output_type": "stream",
     "text": [
      "[[ 0  1  2  3]\n",
      " [ 4  5  6  7]\n",
      " [ 8  9 10 11]]\n",
      "[0 1 2 3]\n"
     ]
    }
   ],
   "source": [
    "a1 = np.arange(12).reshape(3,4)\n",
    "a2 = np.arange(4)\n",
    "print(a1)\n",
    "print(a2)"
   ]
  },
  {
   "cell_type": "code",
   "execution_count": 42,
   "id": "19b062dc-5cda-4be6-809a-a9b104016e23",
   "metadata": {},
   "outputs": [
    {
     "name": "stdout",
     "output_type": "stream",
     "text": [
      "[[ 0  2  4  6]\n",
      " [ 4  6  8 10]\n",
      " [ 8 10 12 14]]\n"
     ]
    }
   ],
   "source": [
    "print(a1+a2)"
   ]
  },
  {
   "cell_type": "code",
   "execution_count": 43,
   "id": "efb40a5c-4dad-48e5-a4c7-e1ff45b03a88",
   "metadata": {},
   "outputs": [
    {
     "name": "stdout",
     "output_type": "stream",
     "text": [
      "15\n",
      "3.0\n",
      "1.4142135623730951\n",
      "2.0\n",
      "1\n",
      "5\n",
      "[ 1  3  6 10 15]\n",
      "[  1   2   6  24 120]\n"
     ]
    }
   ],
   "source": [
    "a1 = np.arange(1, 6)\n",
    "\n",
    "print(a1.sum())\n",
    "print(a1.mean())\n",
    "print(a1.std())\n",
    "print(a1.var())\n",
    "print(a1.min())\n",
    "print(a1.max())\n",
    "print(a1.cumsum()) #cumulative sum\n",
    "print(a1.cumprod()) #cumulative product"
   ]
  },
  {
   "cell_type": "code",
   "execution_count": 44,
   "id": "c5dcb776-8f61-4725-8252-5b7312733e7b",
   "metadata": {},
   "outputs": [
    {
     "name": "stdout",
     "output_type": "stream",
     "text": [
      "[[0 1]\n",
      " [2 3]]\n",
      "[[3 2]\n",
      " [0 1]]\n"
     ]
    }
   ],
   "source": [
    "a = np.array([0, 1, 2, 3]).reshape(2, 2)\n",
    "print(a)\n",
    "b = np.array([3, 2, 0, 1]).reshape(2, 2)\n",
    "print(b)"
   ]
  },
  {
   "cell_type": "code",
   "execution_count": 45,
   "id": "fe1d30ee-5425-4002-8a40-daf24504ef9a",
   "metadata": {},
   "outputs": [
    {
     "name": "stdout",
     "output_type": "stream",
     "text": [
      "[[0 1]\n",
      " [6 7]]\n"
     ]
    }
   ],
   "source": [
    "print(a.dot(b)) #행렬곱  [[0*3 + 0 *0 0*2 + 1+1] [[2*3 + 3*0 2*2+3*1 ]]"
   ]
  },
  {
   "cell_type": "code",
   "execution_count": 46,
   "id": "7fbc3d88-a84a-4bb3-b313-29f6b0966b97",
   "metadata": {},
   "outputs": [
    {
     "name": "stdout",
     "output_type": "stream",
     "text": [
      "[[0 2]\n",
      " [1 3]]\n"
     ]
    }
   ],
   "source": [
    "print(a.T) #행과 열을 바꿈: 전치 행렬"
   ]
  },
  {
   "cell_type": "markdown",
   "id": "5101410f-f03b-4777-9610-754b43127464",
   "metadata": {},
   "source": [
    "# slicing"
   ]
  },
  {
   "cell_type": "code",
   "execution_count": 47,
   "id": "de080b0e-f746-4f9c-b326-e3c1e9868e5d",
   "metadata": {},
   "outputs": [],
   "source": [
    "a = np.array([0, 10, 20, 30, 40, 50])"
   ]
  },
  {
   "cell_type": "code",
   "execution_count": 48,
   "id": "6f4960ff-e2ed-42d9-b29e-d3e847078078",
   "metadata": {},
   "outputs": [
    {
     "name": "stdout",
     "output_type": "stream",
     "text": [
      "10\n"
     ]
    }
   ],
   "source": [
    "print(a[1]) #list와 마찬가지로 인덱싱 가능"
   ]
  },
  {
   "cell_type": "code",
   "execution_count": 49,
   "id": "30bd0462-fd58-4e47-bbc1-718aefc43875",
   "metadata": {},
   "outputs": [
    {
     "name": "stdout",
     "output_type": "stream",
     "text": [
      "[10 30 40]\n"
     ]
    }
   ],
   "source": [
    "print(a[[1, 3, 4]]) #여러개 인덱싱 동시 가능"
   ]
  },
  {
   "cell_type": "code",
   "execution_count": 50,
   "id": "3d91ae3d-b86b-4e84-badc-54ce1f457af3",
   "metadata": {},
   "outputs": [],
   "source": [
    "#2차원 배열\n",
    "b = np.arange(10, 100, 10).reshape(3, 3)"
   ]
  },
  {
   "cell_type": "code",
   "execution_count": 51,
   "id": "747a857c-3085-4086-b29f-d30d099da08b",
   "metadata": {},
   "outputs": [
    {
     "name": "stdout",
     "output_type": "stream",
     "text": [
      "[[10 20 30]\n",
      " [40 50 60]\n",
      " [70 80 90]]\n"
     ]
    }
   ],
   "source": [
    "print(b)"
   ]
  },
  {
   "cell_type": "code",
   "execution_count": 52,
   "id": "ec1ea57f-1b9a-4987-94ed-6a404dbd5142",
   "metadata": {},
   "outputs": [
    {
     "name": "stdout",
     "output_type": "stream",
     "text": [
      "30\n"
     ]
    }
   ],
   "source": [
    "print(b[0][2])"
   ]
  },
  {
   "cell_type": "code",
   "execution_count": 53,
   "id": "a8f14722-2ed2-4b9a-b296-fe841180d9c7",
   "metadata": {},
   "outputs": [
    {
     "name": "stdout",
     "output_type": "stream",
     "text": [
      "[40 50 60]\n"
     ]
    }
   ],
   "source": [
    "print(b[1])"
   ]
  },
  {
   "cell_type": "code",
   "execution_count": 54,
   "id": "a41292c6-6c10-4f03-9dc0-97cc943bd9b7",
   "metadata": {},
   "outputs": [
    {
     "name": "stdout",
     "output_type": "stream",
     "text": [
      "[10 80]\n"
     ]
    }
   ],
   "source": [
    "print(b[[0,2], [0,1]])"
   ]
  },
  {
   "cell_type": "code",
   "execution_count": 55,
   "id": "e091f212-8a31-4291-998e-e56a77d50c29",
   "metadata": {},
   "outputs": [],
   "source": [
    "a = np.array([1, 2, 3, 4, 5, 6])"
   ]
  },
  {
   "cell_type": "code",
   "execution_count": 56,
   "id": "32394fdc-b1e7-4b95-a479-5f9b5d81d19f",
   "metadata": {},
   "outputs": [
    {
     "name": "stdout",
     "output_type": "stream",
     "text": [
      "[4 5 6]\n"
     ]
    }
   ],
   "source": [
    "print(a[a>3]) #인덱싱에 조건 가능"
   ]
  },
  {
   "cell_type": "code",
   "execution_count": 57,
   "id": "8f22a000-779a-470e-add7-104269bc046b",
   "metadata": {},
   "outputs": [
    {
     "name": "stdout",
     "output_type": "stream",
     "text": [
      "[2 4 6]\n"
     ]
    }
   ],
   "source": [
    "print(a[(a%2) == 0])"
   ]
  },
  {
   "cell_type": "code",
   "execution_count": 58,
   "id": "8ad9cec7-5d71-40fe-9563-12e66c103474",
   "metadata": {},
   "outputs": [
    {
     "name": "stdout",
     "output_type": "stream",
     "text": [
      "[10 20 30]\n",
      "[ 0 10 20]\n",
      "[20 30 40 50]\n",
      "[ 0 10 25 35 45 50]\n"
     ]
    }
   ],
   "source": [
    "#slicing\n",
    "a = np.array([0, 10, 20, 30, 40, 50])\n",
    "print(a[1:4])\n",
    "print(a[:3])\n",
    "print(a[2:])\n",
    "a[2:5] = np.array([25, 35, 45])\n",
    "print(a)"
   ]
  },
  {
   "cell_type": "code",
   "execution_count": 59,
   "id": "2e6e9640-eb01-4ca6-a1a3-2a70682ff66f",
   "metadata": {},
   "outputs": [
    {
     "name": "stdout",
     "output_type": "stream",
     "text": [
      "[[10 20 30]\n",
      " [40 50 60]\n",
      " [70 80 90]]\n",
      "[[50 60]\n",
      " [80 90]]\n",
      "[[20 30]\n",
      " [50 60]\n",
      " [80 90]]\n",
      "[40 50]\n",
      "[[10 25 35]\n",
      " [40 55 65]\n",
      " [70 80 90]]\n"
     ]
    }
   ],
   "source": [
    "#2차원 slicing\n",
    "a = np.arange(10, 100, 10).reshape(3, 3)\n",
    "print(a)\n",
    "print(a[1:3, 1:3])\n",
    "print(a[:3, 1:])\n",
    "print(a[1][0:2])\n",
    "a[0:2, 1:3] = np.array([[25, 35], [55, 65]]) # 2x2  = 2x2\n",
    "print(a)"
   ]
  },
  {
   "cell_type": "code",
   "execution_count": 1,
   "id": "dfcd00fb-9bfa-46a1-8762-41e1be6f9d18",
   "metadata": {},
   "outputs": [
    {
     "ename": "NameError",
     "evalue": "name 'a' is not defined",
     "output_type": "error",
     "traceback": [
      "\u001b[1;31m---------------------------------------------------------------------------\u001b[0m",
      "\u001b[1;31mNameError\u001b[0m                                 Traceback (most recent call last)",
      "Cell \u001b[1;32mIn[1], line 1\u001b[0m\n\u001b[1;32m----> 1\u001b[0m \u001b[38;5;28mprint\u001b[39m(\u001b[43ma\u001b[49m[\u001b[38;5;241m1\u001b[39m][\u001b[38;5;241m1\u001b[39m])\n\u001b[0;32m      2\u001b[0m \u001b[38;5;28mprint\u001b[39m(a[\u001b[38;5;241m1\u001b[39m,\u001b[38;5;241m1\u001b[39m])\n",
      "\u001b[1;31mNameError\u001b[0m: name 'a' is not defined"
     ]
    }
   ],
   "source": [
    "print(a[1][1])\n",
    "print(a[1,1])"
   ]
  },
  {
   "cell_type": "code",
   "execution_count": null,
   "id": "2f980cd0-675e-4c1b-a226-8c9beb225460",
   "metadata": {},
   "outputs": [],
   "source": []
  }
 ],
 "metadata": {
  "kernelspec": {
   "display_name": "Python 3 (ipykernel)",
   "language": "python",
   "name": "python3"
  },
  "language_info": {
   "codemirror_mode": {
    "name": "ipython",
    "version": 3
   },
   "file_extension": ".py",
   "mimetype": "text/x-python",
   "name": "python",
   "nbconvert_exporter": "python",
   "pygments_lexer": "ipython3",
   "version": "3.9.16"
  }
 },
 "nbformat": 4,
 "nbformat_minor": 5
}
