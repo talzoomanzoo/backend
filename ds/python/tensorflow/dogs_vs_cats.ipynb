{
 "cells": [
  {
   "cell_type": "code",
   "execution_count": 1,
   "metadata": {},
   "outputs": [],
   "source": [
    "train_dir='data/dogs_vs_cats/train'\n",
    "test_dir='data/dogs_vs_cats/test'"
   ]
  },
  {
   "cell_type": "code",
   "execution_count": 2,
   "metadata": {},
   "outputs": [],
   "source": [
    "from tensorflow.keras import models, layers\n",
    "from tensorflow.keras.callbacks import ModelCheckpoint, EarlyStopping\n",
    "import matplotlib.pyplot as plt\n",
    "import numpy as np\n",
    "import os\n",
    "os.environ['KMP_DUPLICATE_OK'] = \"TRUE\""
   ]
  },
  {
   "cell_type": "code",
   "execution_count": 3,
   "metadata": {},
   "outputs": [
    {
     "name": "stdout",
     "output_type": "stream",
     "text": [
      "Model: \"sequential\"\n",
      "_________________________________________________________________\n",
      " Layer (type)                Output Shape              Param #   \n",
      "=================================================================\n",
      " conv2d (Conv2D)             (None, 148, 148, 32)      896       \n",
      "                                                                 \n",
      " max_pooling2d (MaxPooling2D  (None, 74, 74, 32)       0         \n",
      " )                                                               \n",
      "                                                                 \n",
      " conv2d_1 (Conv2D)           (None, 72, 72, 64)        18496     \n",
      "                                                                 \n",
      " max_pooling2d_1 (MaxPooling  (None, 36, 36, 64)       0         \n",
      " 2D)                                                             \n",
      "                                                                 \n",
      " conv2d_2 (Conv2D)           (None, 34, 34, 128)       73856     \n",
      "                                                                 \n",
      " max_pooling2d_2 (MaxPooling  (None, 17, 17, 128)      0         \n",
      " 2D)                                                             \n",
      "                                                                 \n",
      " conv2d_3 (Conv2D)           (None, 15, 15, 128)       147584    \n",
      "                                                                 \n",
      " max_pooling2d_3 (MaxPooling  (None, 7, 7, 128)        0         \n",
      " 2D)                                                             \n",
      "                                                                 \n",
      " flatten (Flatten)           (None, 6272)              0         \n",
      "                                                                 \n",
      " dropout (Dropout)           (None, 6272)              0         \n",
      "                                                                 \n",
      " dense (Dense)               (None, 512)               3211776   \n",
      "                                                                 \n",
      " dense_1 (Dense)             (None, 1)                 513       \n",
      "                                                                 \n",
      "=================================================================\n",
      "Total params: 3,453,121\n",
      "Trainable params: 3,453,121\n",
      "Non-trainable params: 0\n",
      "_________________________________________________________________\n"
     ]
    }
   ],
   "source": [
    "model = models.Sequential() #padding안함 + input image 작음\n",
    "model.add(layers.Conv2D(32, (3, 3), activation='relu',\n",
    "                        input_shape=(150, 150, 3))) #32*9*3+32\n",
    "model.add(layers.MaxPooling2D((2, 2)))\n",
    "model.add(layers.Conv2D(64, (3, 3), activation='relu')) #32*64*9+64\n",
    "model.add(layers.MaxPooling2D((2, 2)))\n",
    "model.add(layers.Conv2D(128, (3, 3), activation='relu')) #64*128*9+128\n",
    "model.add(layers.MaxPooling2D((2, 2)))\n",
    "model.add(layers.Conv2D(128, (3, 3), activation='relu')) #128*128*9+ 128\n",
    "model.add(layers.MaxPooling2D((2, 2)))\n",
    "model.add(layers.Flatten()) #7*7*128 \n",
    "model.add(layers.Dropout(0.5))\n",
    "model.add(layers.Dense(512, activation='relu')) #6272*512+512\n",
    "model.add(layers.Dense(1, activation='sigmoid')) #512*1+1\n",
    "model.summary()"
   ]
  },
  {
   "cell_type": "code",
   "execution_count": 4,
   "metadata": {},
   "outputs": [],
   "source": [
    "model.compile(loss='binary_crossentropy',\n",
    "              optimizer='adam', metrics=['accuracy'])\n",
    "from tensorflow.keras.preprocessing.image import ImageDataGenerator"
   ]
  },
  {
   "cell_type": "code",
   "execution_count": 5,
   "metadata": {},
   "outputs": [],
   "source": [
    "train_datagen = ImageDataGenerator(rescale=1./255)\n",
    "test_datagen = ImageDataGenerator(rescale=1./255)"
   ]
  },
  {
   "cell_type": "code",
   "execution_count": 6,
   "metadata": {},
   "outputs": [
    {
     "name": "stdout",
     "output_type": "stream",
     "text": [
      "Found 20000 images belonging to 2 classes.\n",
      "Found 5000 images belonging to 2 classes.\n"
     ]
    }
   ],
   "source": [
    "train_generator = train_datagen.flow_from_directory(\n",
    "        # 타깃 디렉터리\n",
    "        train_dir,\n",
    "        # 모든 이미지를 150 × 150 크기로 바꿈\n",
    "        target_size=(150, 150),\n",
    "        batch_size=20,\n",
    "        # binary_crossentropy 손실을 사용하기 때문에 이진 레이블이 필요\n",
    "        class_mode='binary')\n",
    "\n",
    "validation_generator = test_datagen.flow_from_directory(\n",
    "        test_dir,\n",
    "        target_size=(150, 150),\n",
    "        batch_size=20,\n",
    "        class_mode='binary')\n",
    "\n",
    "#label 0,1 만들어줌\n",
    "#target size로 작게하거나 크게 함\n",
    "#이진 분류: 'binary', 다중분류: 'categorical'"
   ]
  },
  {
   "cell_type": "code",
   "execution_count": 8,
   "metadata": {},
   "outputs": [],
   "source": [
    "model_path = './dogs-vs-cats.hdf5'\n",
    "early_stopping = EarlyStopping(monitor='val_loss', patience=5)\n",
    "checkpoint = ModelCheckpoint(filepath=model_path, monitor='val_loss', verbose=1, save_best_only=True)"
   ]
  },
  {
   "cell_type": "code",
   "execution_count": 10,
   "metadata": {},
   "outputs": [
    {
     "name": "stdout",
     "output_type": "stream",
     "text": [
      "Epoch 1/50\n",
      "1000/1000 [==============================] - ETA: 0s - loss: 0.5948 - accuracy: 0.6786\n",
      "Epoch 1: val_loss improved from inf to 0.57575, saving model to .\\dogs-vs-cats.hdf5\n",
      "1000/1000 [==============================] - 267s 267ms/step - loss: 0.5948 - accuracy: 0.6786 - val_loss: 0.5758 - val_accuracy: 0.7124\n",
      "Epoch 2/50\n",
      "1000/1000 [==============================] - ETA: 0s - loss: 0.5083 - accuracy: 0.7475\n",
      "Epoch 2: val_loss improved from 0.57575 to 0.45642, saving model to .\\dogs-vs-cats.hdf5\n",
      "1000/1000 [==============================] - 215s 215ms/step - loss: 0.5083 - accuracy: 0.7475 - val_loss: 0.4564 - val_accuracy: 0.7934\n",
      "Epoch 3/50\n",
      "1000/1000 [==============================] - ETA: 0s - loss: 0.4253 - accuracy: 0.8062\n",
      "Epoch 3: val_loss improved from 0.45642 to 0.41250, saving model to .\\dogs-vs-cats.hdf5\n",
      "1000/1000 [==============================] - 215s 215ms/step - loss: 0.4253 - accuracy: 0.8062 - val_loss: 0.4125 - val_accuracy: 0.8262\n",
      "Epoch 4/50\n",
      "1000/1000 [==============================] - ETA: 0s - loss: 0.3479 - accuracy: 0.8456\n",
      "Epoch 4: val_loss improved from 0.41250 to 0.32375, saving model to .\\dogs-vs-cats.hdf5\n",
      "1000/1000 [==============================] - 216s 216ms/step - loss: 0.3479 - accuracy: 0.8456 - val_loss: 0.3238 - val_accuracy: 0.8618\n",
      "Epoch 5/50\n",
      "1000/1000 [==============================] - ETA: 0s - loss: 0.2897 - accuracy: 0.8758\n",
      "Epoch 5: val_loss improved from 0.32375 to 0.28598, saving model to .\\dogs-vs-cats.hdf5\n",
      "1000/1000 [==============================] - 216s 215ms/step - loss: 0.2897 - accuracy: 0.8758 - val_loss: 0.2860 - val_accuracy: 0.8790\n",
      "Epoch 6/50\n",
      "1000/1000 [==============================] - ETA: 0s - loss: 0.2554 - accuracy: 0.8919\n",
      "Epoch 6: val_loss improved from 0.28598 to 0.27053, saving model to .\\dogs-vs-cats.hdf5\n",
      "1000/1000 [==============================] - 215s 215ms/step - loss: 0.2554 - accuracy: 0.8919 - val_loss: 0.2705 - val_accuracy: 0.8816\n",
      "Epoch 7/50\n",
      "1000/1000 [==============================] - ETA: 0s - loss: 0.2232 - accuracy: 0.9072\n",
      "Epoch 7: val_loss did not improve from 0.27053\n",
      "1000/1000 [==============================] - 217s 217ms/step - loss: 0.2232 - accuracy: 0.9072 - val_loss: 0.2908 - val_accuracy: 0.8826\n",
      "Epoch 8/50\n",
      "1000/1000 [==============================] - ETA: 0s - loss: 0.1926 - accuracy: 0.9197\n",
      "Epoch 8: val_loss improved from 0.27053 to 0.24312, saving model to .\\dogs-vs-cats.hdf5\n",
      "1000/1000 [==============================] - 218s 218ms/step - loss: 0.1926 - accuracy: 0.9197 - val_loss: 0.2431 - val_accuracy: 0.9004\n",
      "Epoch 9/50\n",
      "1000/1000 [==============================] - ETA: 0s - loss: 0.1731 - accuracy: 0.9300\n",
      "Epoch 9: val_loss did not improve from 0.24312\n",
      "1000/1000 [==============================] - 217s 217ms/step - loss: 0.1731 - accuracy: 0.9300 - val_loss: 0.2959 - val_accuracy: 0.8890\n",
      "Epoch 10/50\n",
      "1000/1000 [==============================] - ETA: 0s - loss: 0.1469 - accuracy: 0.9400\n",
      "Epoch 10: val_loss did not improve from 0.24312\n",
      "1000/1000 [==============================] - 215s 215ms/step - loss: 0.1469 - accuracy: 0.9400 - val_loss: 0.2942 - val_accuracy: 0.8954\n",
      "Epoch 11/50\n",
      "1000/1000 [==============================] - ETA: 0s - loss: 0.1369 - accuracy: 0.9449\n",
      "Epoch 11: val_loss did not improve from 0.24312\n",
      "1000/1000 [==============================] - 215s 215ms/step - loss: 0.1369 - accuracy: 0.9449 - val_loss: 0.2598 - val_accuracy: 0.9004\n",
      "Epoch 12/50\n",
      "1000/1000 [==============================] - ETA: 0s - loss: 0.1270 - accuracy: 0.9510\n",
      "Epoch 12: val_loss did not improve from 0.24312\n",
      "1000/1000 [==============================] - 218s 218ms/step - loss: 0.1270 - accuracy: 0.9510 - val_loss: 0.2543 - val_accuracy: 0.8996\n",
      "Epoch 13/50\n",
      "1000/1000 [==============================] - ETA: 0s - loss: 0.1113 - accuracy: 0.9571\n",
      "Epoch 13: val_loss did not improve from 0.24312\n",
      "1000/1000 [==============================] - 251s 251ms/step - loss: 0.1113 - accuracy: 0.9571 - val_loss: 0.2996 - val_accuracy: 0.9040\n"
     ]
    }
   ],
   "source": [
    "history = model.fit(\n",
    "      train_generator,\n",
    "      epochs=50,\n",
    "      validation_data=validation_generator,\n",
    "      callbacks=[early_stopping, checkpoint])"
   ]
  },
  {
   "cell_type": "code",
   "execution_count": null,
   "metadata": {},
   "outputs": [],
   "source": []
  }
 ],
 "metadata": {
  "kernelspec": {
   "display_name": "p39-env",
   "language": "python",
   "name": "python3"
  },
  "language_info": {
   "codemirror_mode": {
    "name": "ipython",
    "version": 3
   },
   "file_extension": ".py",
   "mimetype": "text/x-python",
   "name": "python",
   "nbconvert_exporter": "python",
   "pygments_lexer": "ipython3",
   "version": "3.9.16"
  },
  "orig_nbformat": 4
 },
 "nbformat": 4,
 "nbformat_minor": 2
}
