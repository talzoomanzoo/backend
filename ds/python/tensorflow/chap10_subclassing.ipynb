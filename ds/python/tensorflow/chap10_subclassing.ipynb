{
 "cells": [
  {
   "cell_type": "code",
   "execution_count": 1,
   "metadata": {},
   "outputs": [],
   "source": [
    "from tensorflow.keras import models, layers\n",
    "import numpy as np\n",
    "import tensorflow as tf"
   ]
  },
  {
   "cell_type": "code",
   "execution_count": 2,
   "metadata": {},
   "outputs": [],
   "source": [
    "data_set=np.loadtxt('data/ThoraricSurgery3.csv', delimiter=',')\n",
    "data_set\n",
    "X = data_set[:, :16]\n",
    "y = data_set[:, 16]"
   ]
  },
  {
   "cell_type": "code",
   "execution_count": 3,
   "metadata": {},
   "outputs": [],
   "source": [
    "model_name='thoraric_surgery'\n",
    "batch_size=16\n",
    "\n",
    "param={\n",
    "    'model_name': model_name,\n",
    "    'input_dim': 16,\n",
    "    'hidden_dim': 30,\n",
    "    'output_dim': 1\n",
    "    }"
   ]
  },
  {
   "cell_type": "code",
   "execution_count": 4,
   "metadata": {},
   "outputs": [],
   "source": [
    "class ThoraricSurgery(tf.keras.Model):\n",
    "    def __init__(self, **kargs):\n",
    "        super(ThoraricSurgery, self).__init__(name=kargs['model_name'])\n",
    "        self.fc1 = layers.Dense(kargs['hidden_dim'], input_dim=kargs['input_dim'],\n",
    "                                activation='relu')\n",
    "        self.fc2 = layers.Dense(kargs['output_dim'], activation='sigmoid')\n",
    "    \n",
    "    def call(self, x):\n",
    "        x=self.fc1(x)\n",
    "        x=self.fc2(x)\n",
    "        \n",
    "        return x"
   ]
  },
  {
   "cell_type": "code",
   "execution_count": 5,
   "metadata": {},
   "outputs": [],
   "source": [
    "model=ThoraricSurgery(**param)"
   ]
  },
  {
   "cell_type": "code",
   "execution_count": 6,
   "metadata": {},
   "outputs": [],
   "source": [
    "model.compile(loss='binary_crossentropy', optimizer='adam', metrics=['accuracy']) #keras에서 지원하는 이진분류 손실함수"
   ]
  },
  {
   "cell_type": "code",
   "execution_count": 7,
   "metadata": {},
   "outputs": [
    {
     "name": "stdout",
     "output_type": "stream",
     "text": [
      "Epoch 1/10\n",
      "30/30 [==============================] - 1s 1ms/step - loss: 2.2929 - accuracy: 0.8511\n",
      "Epoch 2/10\n",
      "30/30 [==============================] - 0s 1ms/step - loss: 0.8241 - accuracy: 0.8255\n",
      "Epoch 3/10\n",
      "30/30 [==============================] - 0s 2ms/step - loss: 0.5423 - accuracy: 0.7894\n",
      "Epoch 4/10\n",
      "30/30 [==============================] - 0s 2ms/step - loss: 0.4961 - accuracy: 0.8128\n",
      "Epoch 5/10\n",
      "30/30 [==============================] - 0s 2ms/step - loss: 0.4855 - accuracy: 0.8234\n",
      "Epoch 6/10\n",
      "30/30 [==============================] - 0s 2ms/step - loss: 0.4751 - accuracy: 0.8362\n",
      "Epoch 7/10\n",
      "30/30 [==============================] - 0s 1ms/step - loss: 0.4686 - accuracy: 0.8319\n",
      "Epoch 8/10\n",
      "30/30 [==============================] - 0s 3ms/step - loss: 0.4655 - accuracy: 0.8383\n",
      "Epoch 9/10\n",
      "30/30 [==============================] - 0s 1ms/step - loss: 0.4460 - accuracy: 0.8404\n",
      "Epoch 10/10\n",
      "30/30 [==============================] - 0s 1ms/step - loss: 0.4386 - accuracy: 0.8511\n"
     ]
    }
   ],
   "source": [
    "history=model.fit(X, y, epochs=10, batch_size=16)"
   ]
  },
  {
   "cell_type": "code",
   "execution_count": null,
   "metadata": {},
   "outputs": [],
   "source": []
  }
 ],
 "metadata": {
  "kernelspec": {
   "display_name": "p39-env",
   "language": "python",
   "name": "python3"
  },
  "language_info": {
   "codemirror_mode": {
    "name": "ipython",
    "version": 3
   },
   "file_extension": ".py",
   "mimetype": "text/x-python",
   "name": "python",
   "nbconvert_exporter": "python",
   "pygments_lexer": "ipython3",
   "version": "3.9.16"
  },
  "orig_nbformat": 4
 },
 "nbformat": 4,
 "nbformat_minor": 2
}
