{
 "cells": [
  {
   "cell_type": "code",
   "execution_count": 1,
   "metadata": {},
   "outputs": [],
   "source": [
    "import tensorflow as tf\n",
    "import numpy as np\n",
    "import matplotlib.pyplot as plt\n",
    "\n",
    "from tensorflow.keras.preprocessing.image import ImageDataGenerator\n",
    "from tensorflow.keras import Input, models, layers, optimizers, metrics\n",
    "from tensorflow.keras.layers import Dense, Flatten\n",
    "from tensorflow.keras.applications import VGG16\n",
    "import os\n",
    "os.environ['KMP_DUPLICATE_LIB_OK'] = \"TRUE\""
   ]
  },
  {
   "cell_type": "code",
   "execution_count": 2,
   "metadata": {},
   "outputs": [],
   "source": [
    "b_size = 20\n",
    "\n",
    "train_datagen = ImageDataGenerator(rescale=1./255,\n",
    "                                  horizontal_flip=True,     #수평 대칭 이미지를 50% 확률로 만들어 추가합니다.\n",
    "                                  width_shift_range=0.1,  #전체 크기의 10% 범위에서 좌우로 이동합니다.\n",
    "                                  height_shift_range=0.1, #마찬가지로 위, 아래로 이동합니다.\n",
    "                                  #rotation_range=5,\n",
    "                                  #shear_range=0.7,\n",
    "                                  #zoom_range=[0.9, 2.2],\n",
    "                                  #vertical_flip=True,\n",
    "                                  fill_mode='nearest') #주위의 px 값으로 채움"
   ]
  },
  {
   "cell_type": "code",
   "execution_count": 3,
   "metadata": {},
   "outputs": [
    {
     "name": "stdout",
     "output_type": "stream",
     "text": [
      "Found 20000 images belonging to 2 classes.\n",
      "Found 5000 images belonging to 2 classes.\n"
     ]
    }
   ],
   "source": [
    "train_generator = train_datagen.flow_from_directory(\n",
    "       'data/dogs_vs_cats/train',   #학습셋이 있는 폴더의 위치입니다.\n",
    "       target_size=(150, 150),\n",
    "       batch_size=b_size,\n",
    "       class_mode='binary')\n",
    "\n",
    "#테스트 셋은 이미지 부풀리기 과정을 진행하지 않습니다.\n",
    "test_datagen = ImageDataGenerator(rescale=1./255)  \n",
    "\n",
    "test_generator = test_datagen.flow_from_directory(\n",
    "       'data/dogs_vs_cats/test',   #테스트셋이 있는 폴더의 위치입니다.\n",
    "       target_size=(150, 150),\n",
    "       batch_size=b_size,\n",
    "       class_mode='binary')"
   ]
  },
  {
   "cell_type": "code",
   "execution_count": 4,
   "metadata": {},
   "outputs": [
    {
     "name": "stdout",
     "output_type": "stream",
     "text": [
      "Model: \"vgg16\"\n",
      "_________________________________________________________________\n",
      " Layer (type)                Output Shape              Param #   \n",
      "=================================================================\n",
      " input_1 (InputLayer)        [(None, 150, 150, 3)]     0         \n",
      "                                                                 \n",
      " block1_conv1 (Conv2D)       (None, 150, 150, 64)      1792      \n",
      "                                                                 \n",
      " block1_conv2 (Conv2D)       (None, 150, 150, 64)      36928     \n",
      "                                                                 \n",
      " block1_pool (MaxPooling2D)  (None, 75, 75, 64)        0         \n",
      "                                                                 \n",
      " block2_conv1 (Conv2D)       (None, 75, 75, 128)       73856     \n",
      "                                                                 \n",
      " block2_conv2 (Conv2D)       (None, 75, 75, 128)       147584    \n",
      "                                                                 \n",
      " block2_pool (MaxPooling2D)  (None, 37, 37, 128)       0         \n",
      "                                                                 \n",
      " block3_conv1 (Conv2D)       (None, 37, 37, 256)       295168    \n",
      "                                                                 \n",
      " block3_conv2 (Conv2D)       (None, 37, 37, 256)       590080    \n",
      "                                                                 \n",
      " block3_conv3 (Conv2D)       (None, 37, 37, 256)       590080    \n",
      "                                                                 \n",
      " block3_pool (MaxPooling2D)  (None, 18, 18, 256)       0         \n",
      "                                                                 \n",
      " block4_conv1 (Conv2D)       (None, 18, 18, 512)       1180160   \n",
      "                                                                 \n",
      " block4_conv2 (Conv2D)       (None, 18, 18, 512)       2359808   \n",
      "                                                                 \n",
      " block4_conv3 (Conv2D)       (None, 18, 18, 512)       2359808   \n",
      "                                                                 \n",
      " block4_pool (MaxPooling2D)  (None, 9, 9, 512)         0         \n",
      "                                                                 \n",
      " block5_conv1 (Conv2D)       (None, 9, 9, 512)         2359808   \n",
      "                                                                 \n",
      " block5_conv2 (Conv2D)       (None, 9, 9, 512)         2359808   \n",
      "                                                                 \n",
      " block5_conv3 (Conv2D)       (None, 9, 9, 512)         2359808   \n",
      "                                                                 \n",
      " block5_pool (MaxPooling2D)  (None, 4, 4, 512)         0         \n",
      "                                                                 \n",
      "=================================================================\n",
      "Total params: 14,714,688\n",
      "Trainable params: 0\n",
      "Non-trainable params: 14,714,688\n",
      "_________________________________________________________________\n"
     ]
    }
   ],
   "source": [
    "transfer_model = VGG16(weights='imagenet', include_top=False, input_shape=(150, 150, 3))\n",
    "transfer_model.trainable = False\n",
    "transfer_model.summary()"
   ]
  },
  {
   "cell_type": "code",
   "execution_count": 5,
   "metadata": {},
   "outputs": [
    {
     "name": "stdout",
     "output_type": "stream",
     "text": [
      "Model: \"sequential\"\n",
      "_________________________________________________________________\n",
      " Layer (type)                Output Shape              Param #   \n",
      "=================================================================\n",
      " vgg16 (Functional)          (None, 4, 4, 512)         14714688  \n",
      "                                                                 \n",
      " flatten (Flatten)           (None, 8192)              0         \n",
      "                                                                 \n",
      " dense (Dense)               (None, 64)                524352    \n",
      "                                                                 \n",
      " dense_1 (Dense)             (None, 1)                 65        \n",
      "                                                                 \n",
      "=================================================================\n",
      "Total params: 15,239,105\n",
      "Trainable params: 524,417\n",
      "Non-trainable params: 14,714,688\n",
      "_________________________________________________________________\n"
     ]
    }
   ],
   "source": [
    "finetune_model = models.Sequential()\n",
    "finetune_model.add(transfer_model)\n",
    "finetune_model.add(Flatten())\n",
    "finetune_model.add(Dense(64, activation='relu'))\n",
    "finetune_model.add(Dense(1, activation='sigmoid'))\n",
    "finetune_model.summary()"
   ]
  },
  {
   "cell_type": "code",
   "execution_count": 6,
   "metadata": {},
   "outputs": [],
   "source": [
    "finetune_model.compile(loss='binary_crossentropy', \n",
    "                       optimizer=optimizers.Adam(learning_rate=0.0002), metrics=['accuracy'])"
   ]
  },
  {
   "cell_type": "code",
   "execution_count": 7,
   "metadata": {},
   "outputs": [],
   "source": [
    "from tensorflow.keras.callbacks import ModelCheckpoint, EarlyStopping\n",
    "model_path = './dogs-vs-cats.hdf5'\n",
    "early_stopping = EarlyStopping(monitor='val_loss', patience=5)\n",
    "checkpoint = ModelCheckpoint(filepath=model_path, monitor='val_loss', verbose=1, save_best_only=True)"
   ]
  },
  {
   "cell_type": "code",
   "execution_count": 8,
   "metadata": {},
   "outputs": [
    {
     "name": "stdout",
     "output_type": "stream",
     "text": [
      "Epoch 1/50\n",
      "1000/1000 [==============================] - ETA: 0s - loss: 0.2853 - accuracy: 0.8773\n",
      "Epoch 1: val_loss improved from inf to 0.22373, saving model to .\\dogs-vs-cats.hdf5\n",
      "1000/1000 [==============================] - 1251s 1s/step - loss: 0.2853 - accuracy: 0.8773 - val_loss: 0.2237 - val_accuracy: 0.9062\n",
      "Epoch 2/50\n",
      "1000/1000 [==============================] - ETA: 0s - loss: 0.2425 - accuracy: 0.8953\n",
      "Epoch 2: val_loss did not improve from 0.22373\n",
      "1000/1000 [==============================] - 1180s 1s/step - loss: 0.2425 - accuracy: 0.8953 - val_loss: 0.2278 - val_accuracy: 0.9068\n",
      "Epoch 3/50\n",
      "1000/1000 [==============================] - ETA: 0s - loss: 0.2237 - accuracy: 0.9058\n",
      "Epoch 3: val_loss did not improve from 0.22373\n",
      "1000/1000 [==============================] - 1183s 1s/step - loss: 0.2237 - accuracy: 0.9058 - val_loss: 0.2305 - val_accuracy: 0.9068\n",
      "Epoch 4/50\n",
      "1000/1000 [==============================] - ETA: 0s - loss: 0.2120 - accuracy: 0.9094\n",
      "Epoch 4: val_loss improved from 0.22373 to 0.21733, saving model to .\\dogs-vs-cats.hdf5\n",
      "1000/1000 [==============================] - 1177s 1s/step - loss: 0.2120 - accuracy: 0.9094 - val_loss: 0.2173 - val_accuracy: 0.9138\n",
      "Epoch 5/50\n",
      "1000/1000 [==============================] - ETA: 0s - loss: 0.2055 - accuracy: 0.9129\n",
      "Epoch 5: val_loss improved from 0.21733 to 0.20305, saving model to .\\dogs-vs-cats.hdf5\n",
      "1000/1000 [==============================] - 1180s 1s/step - loss: 0.2055 - accuracy: 0.9129 - val_loss: 0.2030 - val_accuracy: 0.9150\n",
      "Epoch 6/50\n",
      "1000/1000 [==============================] - ETA: 0s - loss: 0.1964 - accuracy: 0.9197\n",
      "Epoch 6: val_loss did not improve from 0.20305\n",
      "1000/1000 [==============================] - 1185s 1s/step - loss: 0.1964 - accuracy: 0.9197 - val_loss: 0.2034 - val_accuracy: 0.9156\n",
      "Epoch 7/50\n",
      "1000/1000 [==============================] - ETA: 0s - loss: 0.1873 - accuracy: 0.9219\n",
      "Epoch 7: val_loss did not improve from 0.20305\n",
      "1000/1000 [==============================] - 1181s 1s/step - loss: 0.1873 - accuracy: 0.9219 - val_loss: 0.2064 - val_accuracy: 0.9162\n",
      "Epoch 8/50\n",
      "1000/1000 [==============================] - ETA: 0s - loss: 0.1799 - accuracy: 0.9254\n",
      "Epoch 8: val_loss did not improve from 0.20305\n",
      "1000/1000 [==============================] - 1186s 1s/step - loss: 0.1799 - accuracy: 0.9254 - val_loss: 0.2136 - val_accuracy: 0.9152\n",
      "Epoch 9/50\n",
      "1000/1000 [==============================] - ETA: 0s - loss: 0.1773 - accuracy: 0.9253\n",
      "Epoch 9: val_loss improved from 0.20305 to 0.20039, saving model to .\\dogs-vs-cats.hdf5\n",
      "1000/1000 [==============================] - 1171s 1s/step - loss: 0.1773 - accuracy: 0.9253 - val_loss: 0.2004 - val_accuracy: 0.9156\n",
      "Epoch 10/50\n",
      "1000/1000 [==============================] - ETA: 0s - loss: 0.1685 - accuracy: 0.9305\n",
      "Epoch 10: val_loss improved from 0.20039 to 0.19923, saving model to .\\dogs-vs-cats.hdf5\n",
      "1000/1000 [==============================] - 1181s 1s/step - loss: 0.1685 - accuracy: 0.9305 - val_loss: 0.1992 - val_accuracy: 0.9176\n",
      "Epoch 11/50\n",
      "1000/1000 [==============================] - ETA: 0s - loss: 0.1602 - accuracy: 0.9343\n",
      "Epoch 11: val_loss did not improve from 0.19923\n",
      "1000/1000 [==============================] - 1288s 1s/step - loss: 0.1602 - accuracy: 0.9343 - val_loss: 0.2549 - val_accuracy: 0.9056\n",
      "Epoch 12/50\n",
      "1000/1000 [==============================] - ETA: 0s - loss: 0.1600 - accuracy: 0.9333\n",
      "Epoch 12: val_loss did not improve from 0.19923\n",
      "1000/1000 [==============================] - 1371s 1s/step - loss: 0.1600 - accuracy: 0.9333 - val_loss: 0.2143 - val_accuracy: 0.9158\n",
      "Epoch 13/50\n",
      "1000/1000 [==============================] - ETA: 0s - loss: 0.1511 - accuracy: 0.9385\n",
      "Epoch 13: val_loss did not improve from 0.19923\n",
      "1000/1000 [==============================] - 1378s 1s/step - loss: 0.1511 - accuracy: 0.9385 - val_loss: 0.2066 - val_accuracy: 0.9222\n",
      "Epoch 14/50\n",
      "1000/1000 [==============================] - ETA: 0s - loss: 0.1478 - accuracy: 0.9370\n",
      "Epoch 14: val_loss did not improve from 0.19923\n",
      "1000/1000 [==============================] - 1169s 1s/step - loss: 0.1478 - accuracy: 0.9370 - val_loss: 0.2117 - val_accuracy: 0.9142\n",
      "Epoch 15/50\n",
      "1000/1000 [==============================] - ETA: 0s - loss: 0.1437 - accuracy: 0.9415\n",
      "Epoch 15: val_loss did not improve from 0.19923\n",
      "1000/1000 [==============================] - 1170s 1s/step - loss: 0.1437 - accuracy: 0.9415 - val_loss: 0.2035 - val_accuracy: 0.9194\n"
     ]
    }
   ],
   "source": [
    "history = finetune_model.fit(\n",
    "      train_generator,\n",
    "      epochs=50,\n",
    "      validation_data=test_generator,\n",
    "      callbacks=[early_stopping, checkpoint])"
   ]
  }
 ],
 "metadata": {
  "kernelspec": {
   "display_name": "p39-env",
   "language": "python",
   "name": "python3"
  },
  "language_info": {
   "codemirror_mode": {
    "name": "ipython",
    "version": 3
   },
   "file_extension": ".py",
   "mimetype": "text/x-python",
   "name": "python",
   "nbconvert_exporter": "python",
   "pygments_lexer": "ipython3",
   "version": "3.9.16"
  },
  "orig_nbformat": 4
 },
 "nbformat": 4,
 "nbformat_minor": 2
}
