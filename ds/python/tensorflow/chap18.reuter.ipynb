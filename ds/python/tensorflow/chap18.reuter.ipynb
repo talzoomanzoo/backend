{
 "cells": [
  {
   "cell_type": "code",
   "execution_count": 1,
   "metadata": {},
   "outputs": [],
   "source": [
    "from tensorflow.keras import models, layers\n",
    "from tensorflow.keras.utils import to_categorical\n",
    "from tensorflow.keras.preprocessing import sequence\n",
    "from tensorflow.keras.datasets import reuters       # 로이터 뉴스 데이터셋 불러오기\n",
    "from tensorflow.keras.callbacks import EarlyStopping\n",
    "\n",
    "import numpy as np\n",
    "import matplotlib.pyplot as plt"
   ]
  },
  {
   "cell_type": "code",
   "execution_count": 3,
   "metadata": {},
   "outputs": [],
   "source": [
    "import os\n",
    "os.environ['KMP_DUPLICATE_LIB_OK']=\"TRUE\""
   ]
  },
  {
   "cell_type": "code",
   "execution_count": 4,
   "metadata": {},
   "outputs": [
    {
     "name": "stdout",
     "output_type": "stream",
     "text": [
      "Downloading data from https://storage.googleapis.com/tensorflow/tf-keras-datasets/reuters.npz\n",
      "2110848/2110848 [==============================] - 0s 0us/step\n"
     ]
    }
   ],
   "source": [
    "(X_train, y_train), (X_test, y_test) = reuters.load_data(num_words=1000, test_split=0.2) #앞에 0포함, 단어는 999개"
   ]
  },
  {
   "cell_type": "code",
   "execution_count": 17,
   "metadata": {},
   "outputs": [
    {
     "data": {
      "text/plain": [
       "array([[  0,   0,   0, ...,  15,  17,  12],\n",
       "       [  0,   0,   0, ..., 505,  17,  12],\n",
       "       [ 19, 758,  15, ...,  11,  17,  12],\n",
       "       ...,\n",
       "       [  0,   0,   0, ..., 407,  17,  12],\n",
       "       [ 88,   2,  72, ..., 364,  17,  12],\n",
       "       [125,   2,  21, ..., 113,  17,  12]])"
      ]
     },
     "execution_count": 17,
     "metadata": {},
     "output_type": "execute_result"
    }
   ],
   "source": [
    "X_train"
   ]
  },
  {
   "cell_type": "code",
   "execution_count": 5,
   "metadata": {},
   "outputs": [
    {
     "name": "stdout",
     "output_type": "stream",
     "text": [
      "46 카테고리\n",
      "8982 학습용 뉴스 기사\n",
      "2246 테스트용 뉴스 기사\n",
      "[1, 2, 2, 8, 43, 10, 447, 5, 25, 207, 270, 5, 2, 111, 16, 369, 186, 90, 67, 7, 89, 5, 19, 102, 6, 19, 124, 15, 90, 67, 84, 22, 482, 26, 7, 48, 4, 49, 8, 864, 39, 209, 154, 6, 151, 6, 83, 11, 15, 22, 155, 11, 15, 7, 48, 9, 2, 2, 504, 6, 258, 6, 272, 11, 15, 22, 134, 44, 11, 15, 16, 8, 197, 2, 90, 67, 52, 29, 209, 30, 32, 132, 6, 109, 15, 17, 12]\n"
     ]
    }
   ],
   "source": [
    "category = np.max(y_train) + 1 #46개 중 하나의 카테고리를 맞추는 다중분류 모델\n",
    "print(category, '카테고리')\n",
    "print(len(X_train), '학습용 뉴스 기사')\n",
    "print(len(X_test), '테스트용 뉴스 기사')\n",
    "print(X_train[0])"
   ]
  },
  {
   "cell_type": "code",
   "execution_count": 6,
   "metadata": {},
   "outputs": [],
   "source": [
    "X_train = sequence.pad_sequences(X_train, maxlen=100) #padding\n",
    "X_test = sequence.pad_sequences(X_test, maxlen=100)"
   ]
  },
  {
   "cell_type": "code",
   "execution_count": 7,
   "metadata": {},
   "outputs": [],
   "source": [
    "y_train = to_categorical(y_train) #one-hot encoding\n",
    "y_test = to_categorical(y_test)"
   ]
  },
  {
   "cell_type": "code",
   "execution_count": 14,
   "metadata": {},
   "outputs": [],
   "source": [
    "model = models.Sequential()\n",
    "model.add(layers.Embedding(1000, 100)) #embedding 100길이\n",
    "#https://dgkim5360.tistory.com/entry/understanding-long-short-term-memory-lstm-kr\n",
    "model.add(layers.LSTM(100, activation='tanh', return_sequences=True)) #(200*100+ 100)* 4 #이전 출력 +100 #LSTM 여러개 연결하려면 cell state 정보도 넘겨줘야 함\n",
    "#LSTM 여러개 연결 시 1층에 return_sequences=True #https://blog.naver.com/chunjein/221589695541\n",
    "model.add(layers.LSTM(100, activation='tanh'))\n",
    "model.add(layers.Dense(46, activation='softmax')) #100*26+26"
   ]
  },
  {
   "cell_type": "code",
   "execution_count": 15,
   "metadata": {},
   "outputs": [
    {
     "name": "stdout",
     "output_type": "stream",
     "text": [
      "Model: \"sequential_1\"\n",
      "_________________________________________________________________\n",
      " Layer (type)                Output Shape              Param #   \n",
      "=================================================================\n",
      " embedding_1 (Embedding)     (None, None, 100)         100000    \n",
      "                                                                 \n",
      " lstm_1 (LSTM)               (None, None, 100)         80400     \n",
      "                                                                 \n",
      " lstm_2 (LSTM)               (None, 100)               80400     \n",
      "                                                                 \n",
      " dense_1 (Dense)             (None, 46)                4646      \n",
      "                                                                 \n",
      "=================================================================\n",
      "Total params: 265,446\n",
      "Trainable params: 265,446\n",
      "Non-trainable params: 0\n",
      "_________________________________________________________________\n"
     ]
    }
   ],
   "source": [
    "model.summary()"
   ]
  },
  {
   "cell_type": "code",
   "execution_count": 10,
   "metadata": {},
   "outputs": [],
   "source": [
    "model.compile(loss='categorical_crossentropy', optimizer='adam', metrics=['accuracy'])\n",
    "\n",
    "# 학습의 조기 중단을 설정합니다.\n",
    "early_stopping = EarlyStopping(monitor='val_loss', patience=5)"
   ]
  },
  {
   "cell_type": "code",
   "execution_count": 11,
   "metadata": {},
   "outputs": [
    {
     "name": "stdout",
     "output_type": "stream",
     "text": [
      "Epoch 1/200\n",
      "450/450 [==============================] - 19s 36ms/step - loss: 2.1935 - accuracy: 0.4421 - val_loss: 2.2809 - val_accuracy: 0.4964\n",
      "Epoch 2/200\n",
      "450/450 [==============================] - 16s 35ms/step - loss: 1.9421 - accuracy: 0.5145 - val_loss: 1.7495 - val_accuracy: 0.5730\n",
      "Epoch 3/200\n",
      "450/450 [==============================] - 16s 35ms/step - loss: 1.6894 - accuracy: 0.5685 - val_loss: 1.6787 - val_accuracy: 0.5748\n",
      "Epoch 4/200\n",
      "450/450 [==============================] - 16s 37ms/step - loss: 1.5802 - accuracy: 0.5974 - val_loss: 1.5644 - val_accuracy: 0.6131\n",
      "Epoch 5/200\n",
      "450/450 [==============================] - 16s 35ms/step - loss: 1.4159 - accuracy: 0.6455 - val_loss: 1.4184 - val_accuracy: 0.6541\n",
      "Epoch 6/200\n",
      "450/450 [==============================] - 15s 33ms/step - loss: 1.3045 - accuracy: 0.6721 - val_loss: 1.3793 - val_accuracy: 0.6518\n",
      "Epoch 7/200\n",
      "450/450 [==============================] - 16s 34ms/step - loss: 1.2011 - accuracy: 0.6952 - val_loss: 1.2965 - val_accuracy: 0.6745\n",
      "Epoch 8/200\n",
      "450/450 [==============================] - 17s 39ms/step - loss: 1.1130 - accuracy: 0.7192 - val_loss: 1.2382 - val_accuracy: 0.6883\n",
      "Epoch 9/200\n",
      "450/450 [==============================] - 16s 37ms/step - loss: 1.0381 - accuracy: 0.7357 - val_loss: 1.2113 - val_accuracy: 0.6883\n",
      "Epoch 10/200\n",
      "450/450 [==============================] - 16s 35ms/step - loss: 1.0246 - accuracy: 0.7385 - val_loss: 1.2524 - val_accuracy: 0.6892\n",
      "Epoch 11/200\n",
      "450/450 [==============================] - 15s 34ms/step - loss: 0.9290 - accuracy: 0.7633 - val_loss: 1.1844 - val_accuracy: 0.7008\n",
      "Epoch 12/200\n",
      "450/450 [==============================] - 16s 35ms/step - loss: 0.8519 - accuracy: 0.7790 - val_loss: 1.1409 - val_accuracy: 0.7226\n",
      "Epoch 13/200\n",
      "450/450 [==============================] - 16s 35ms/step - loss: 0.7751 - accuracy: 0.8029 - val_loss: 1.1625 - val_accuracy: 0.7102\n",
      "Epoch 14/200\n",
      "450/450 [==============================] - 16s 35ms/step - loss: 0.7233 - accuracy: 0.8154 - val_loss: 1.1660 - val_accuracy: 0.7182\n",
      "Epoch 15/200\n",
      "450/450 [==============================] - 16s 35ms/step - loss: 0.6695 - accuracy: 0.8300 - val_loss: 1.1903 - val_accuracy: 0.7186\n",
      "Epoch 16/200\n",
      "450/450 [==============================] - 16s 34ms/step - loss: 0.6222 - accuracy: 0.8444 - val_loss: 1.1938 - val_accuracy: 0.7195\n",
      "Epoch 17/200\n",
      "450/450 [==============================] - 16s 35ms/step - loss: 0.5793 - accuracy: 0.8532 - val_loss: 1.1998 - val_accuracy: 0.7164\n"
     ]
    }
   ],
   "source": [
    "history = model.fit(X_train, y_train, batch_size=20, epochs=200, validation_data=(X_test, y_test), callbacks=[early_stopping])"
   ]
  },
  {
   "cell_type": "code",
   "execution_count": 12,
   "metadata": {},
   "outputs": [
    {
     "name": "stdout",
     "output_type": "stream",
     "text": [
      "71/71 [==============================] - 1s 12ms/step - loss: 1.1998 - accuracy: 0.7164\n",
      "\n",
      " Test Accuracy: 0.7164\n"
     ]
    }
   ],
   "source": [
    "print(\"\\n Test Accuracy: %.4f\" % (model.evaluate(X_test, y_test)[1]))"
   ]
  },
  {
   "cell_type": "code",
   "execution_count": 13,
   "metadata": {},
   "outputs": [
    {
     "data": {
      "image/png": "[encoded data removed]",
      "text/plain": [
       "<Figure size 640x480 with 1 Axes>"
      ]
     },
     "metadata": {},
     "output_type": "display_data"
    }
   ],
   "source": [
    "y_vloss = history.history['val_loss']\n",
    "y_loss = history.history['loss']\n",
    "\n",
    "# 그래프로 표현해 보겠습니다.\n",
    "x_len = np.arange(len(y_loss))\n",
    "plt.plot(x_len, y_vloss, marker='.', c=\"red\", label='Testset_loss')\n",
    "plt.plot(x_len, y_loss, marker='.', c=\"blue\", label='Trainset_loss')\n",
    "\n",
    "# 그래프에 그리드를 주고 레이블을 표시하겠습니다. \n",
    "plt.legend(loc='upper right')\n",
    "plt.grid()\n",
    "plt.xlabel('epoch')\n",
    "plt.ylabel('loss')\n",
    "plt.show()"
   ]
  },
  {
   "cell_type": "code",
   "execution_count": null,
   "metadata": {},
   "outputs": [],
   "source": []
  }
 ],
 "metadata": {
  "kernelspec": {
   "display_name": "p39-env",
   "language": "python",
   "name": "python3"
  },
  "language_info": {
   "codemirror_mode": {
    "name": "ipython",
    "version": 3
   },
   "file_extension": ".py",
   "mimetype": "text/x-python",
   "name": "python",
   "nbconvert_exporter": "python",
   "pygments_lexer": "ipython3",
   "version": "3.9.16"
  },
  "orig_nbformat": 4
 },
 "nbformat": 4,
 "nbformat_minor": 2
}
