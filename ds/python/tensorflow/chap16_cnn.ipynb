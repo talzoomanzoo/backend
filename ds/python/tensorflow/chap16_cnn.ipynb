{
 "cells": [
  {
   "cell_type": "code",
   "execution_count": 1,
   "metadata": {},
   "outputs": [],
   "source": [
    "from tensorflow.keras import models, layers\n",
    "from tensorflow.keras.callbacks import ModelCheckpoint,EarlyStopping\n",
    "from tensorflow.keras.datasets import mnist\n",
    "from tensorflow.keras.utils import to_categorical\n",
    "\n",
    "import matplotlib.pyplot as plt\n",
    "import numpy as np"
   ]
  },
  {
   "cell_type": "code",
   "execution_count": 2,
   "metadata": {},
   "outputs": [],
   "source": [
    "import os\n",
    "os.environ['KMP_DUPLICATE_OK'] = \"TRUE\""
   ]
  },
  {
   "cell_type": "code",
   "execution_count": 3,
   "metadata": {},
   "outputs": [],
   "source": [
    "(X_train, y_train), (X_test, y_test) = mnist.load_data()\n",
    "X_train = X_train.reshape(X_train.shape[0], 28, 28, 1).astype(float) / 255 #keras: width, height, channel (그림 한장, color면 RGB 3장), alpha (투명도) -- torch: channel, width, height\n",
    "X_test = X_test.reshape(X_test.shape[0], 28, 28, 1).astype(float) / 255 #Conv2D가 width, height, channel 받아서\n",
    "y_train = to_categorical(y_train)\n",
    "y_test = to_categorical(y_test)"
   ]
  },
  {
   "cell_type": "code",
   "execution_count": 4,
   "metadata": {},
   "outputs": [],
   "source": [
    "model = models.Sequential()\n",
    "model.add(layers.Conv2D(32, kernel_size=(3,3), input_shape=(28, 28, 1), activation='relu')) #출력 채널 개수, 튜플로 3,3 or 스칼라 3도 가능 - 학습될 가중치가 최초에 random --> 연산 이후 26*26나오면 bias 더함, 이거 32bias 32 커널\n",
    "#convolution연산이 2D (9*32+32)\n",
    "#kernel 여러개 두는 이유: kernel마다 담당하는 부분이 분업되어 있음\n",
    "model.add(layers.Conv2D(64, kernel_size=(3,3), activation='relu')) #32*64 채널, bias는 64 (공유) (9*32*64+64)\n",
    "model.add(layers.MaxPooling2D(pool_size=(2,2))) #pool_size= tuple, scalar 다 가능, 4*4 -> 2*2로 줄지만 특성을 잃지 않기 위해서 max값만 출력, 용도: 모자이크 처리\n",
    "model.add(layers.Dropout(0.25)) #dropout 비율 25%, 이전 layer에서 이후 layer로 갈때, 배치단위로 fully connected 된 line 중 random 하게 25% 꺾어서 역전파 안함, 네트워크는 깊게 가져가되 계산량 줄임\n",
    "model.add(layers.Flatten())\n",
    "model.add(layers.Dense(128, activation='relu')) #9216*128+128\n",
    "model.add(layers.Dropout(0.25))\n",
    "model.add(layers.Dense(10, activation='softmax')) #128*10+10"
   ]
  },
  {
   "cell_type": "code",
   "execution_count": 5,
   "metadata": {},
   "outputs": [
    {
     "name": "stdout",
     "output_type": "stream",
     "text": [
      "Model: \"sequential\"\n",
      "_________________________________________________________________\n",
      " Layer (type)                Output Shape              Param #   \n",
      "=================================================================\n",
      " conv2d (Conv2D)             (None, 26, 26, 32)        320       \n",
      "                                                                 \n",
      " conv2d_1 (Conv2D)           (None, 24, 24, 64)        18496     \n",
      "                                                                 \n",
      " max_pooling2d (MaxPooling2D  (None, 12, 12, 64)       0         \n",
      " )                                                               \n",
      "                                                                 \n",
      " dropout (Dropout)           (None, 12, 12, 64)        0         \n",
      "                                                                 \n",
      " flatten (Flatten)           (None, 9216)              0         \n",
      "                                                                 \n",
      " dense (Dense)               (None, 128)               1179776   \n",
      "                                                                 \n",
      " dropout_1 (Dropout)         (None, 128)               0         \n",
      "                                                                 \n",
      " dense_1 (Dense)             (None, 10)                1290      \n",
      "                                                                 \n",
      "=================================================================\n",
      "Total params: 1,199,882\n",
      "Trainable params: 1,199,882\n",
      "Non-trainable params: 0\n",
      "_________________________________________________________________\n"
     ]
    }
   ],
   "source": [
    "model.summary()"
   ]
  },
  {
   "cell_type": "code",
   "execution_count": 6,
   "metadata": {},
   "outputs": [],
   "source": [
    "model.compile(loss='categorical_crossentropy',\n",
    "              optimizer='adam',\n",
    "              metrics=['accuracy'])"
   ]
  },
  {
   "cell_type": "code",
   "execution_count": 7,
   "metadata": {},
   "outputs": [],
   "source": [
    "modelpath=\"./model/MNIST_CNN.hdf5\"\n",
    "checkpointer = ModelCheckpoint(filepath=modelpath, monitor='val_loss', verbose=1, save_best_only=True)\n",
    "early_stopping = EarlyStopping(monitor='val_loss', patience=10)"
   ]
  },
  {
   "cell_type": "code",
   "execution_count": 8,
   "metadata": {},
   "outputs": [
    {
     "name": "stdout",
     "output_type": "stream",
     "text": [
      "\n",
      "Epoch 1: val_loss improved from inf to 0.07484, saving model to ./model\\MNIST_CNN.hdf5\n",
      "\n",
      "Epoch 2: val_loss improved from 0.07484 to 0.05292, saving model to ./model\\MNIST_CNN.hdf5\n",
      "\n",
      "Epoch 3: val_loss improved from 0.05292 to 0.05197, saving model to ./model\\MNIST_CNN.hdf5\n",
      "\n",
      "Epoch 4: val_loss improved from 0.05197 to 0.04486, saving model to ./model\\MNIST_CNN.hdf5\n",
      "\n",
      "Epoch 5: val_loss improved from 0.04486 to 0.04183, saving model to ./model\\MNIST_CNN.hdf5\n",
      "\n",
      "Epoch 6: val_loss did not improve from 0.04183\n",
      "\n",
      "Epoch 7: val_loss did not improve from 0.04183\n",
      "\n",
      "Epoch 8: val_loss improved from 0.04183 to 0.04163, saving model to ./model\\MNIST_CNN.hdf5\n",
      "\n",
      "Epoch 9: val_loss did not improve from 0.04163\n",
      "\n",
      "Epoch 10: val_loss did not improve from 0.04163\n",
      "\n",
      "Epoch 11: val_loss did not improve from 0.04163\n",
      "\n",
      "Epoch 12: val_loss did not improve from 0.04163\n",
      "\n",
      "Epoch 13: val_loss did not improve from 0.04163\n",
      "\n",
      "Epoch 14: val_loss improved from 0.04163 to 0.04148, saving model to ./model\\MNIST_CNN.hdf5\n",
      "\n",
      "Epoch 15: val_loss did not improve from 0.04148\n",
      "\n",
      "Epoch 16: val_loss did not improve from 0.04148\n",
      "\n",
      "Epoch 17: val_loss did not improve from 0.04148\n",
      "\n",
      "Epoch 18: val_loss did not improve from 0.04148\n",
      "\n",
      "Epoch 19: val_loss did not improve from 0.04148\n",
      "\n",
      "Epoch 20: val_loss did not improve from 0.04148\n",
      "\n",
      "Epoch 21: val_loss did not improve from 0.04148\n",
      "\n",
      "Epoch 22: val_loss did not improve from 0.04148\n",
      "\n",
      "Epoch 23: val_loss did not improve from 0.04148\n",
      "\n",
      "Epoch 24: val_loss did not improve from 0.04148\n"
     ]
    }
   ],
   "source": [
    "history = model.fit(X_train, y_train, validation_split=0.25, epochs=30, batch_size=200, verbose=0, callbacks=[early_stopping,checkpointer])"
   ]
  },
  {
   "cell_type": "code",
   "execution_count": 9,
   "metadata": {},
   "outputs": [
    {
     "name": "stdout",
     "output_type": "stream",
     "text": [
      "313/313 [==============================] - 2s 5ms/step - loss: 0.0412 - accuracy: 0.9907\n",
      "\n",
      " Test Accuracy: 0.9907\n"
     ]
    }
   ],
   "source": [
    "print(\"\\n Test Accuracy: %.4f\" % (model.evaluate(X_test, y_test)[1]))"
   ]
  },
  {
   "cell_type": "code",
   "execution_count": 10,
   "metadata": {},
   "outputs": [
    {
     "data": {
      "image/png": "[encoded data removed]",
      "text/plain": [
       "<Figure size 640x480 with 1 Axes>"
      ]
     },
     "metadata": {},
     "output_type": "display_data"
    }
   ],
   "source": [
    "y_vloss = history.history['val_loss']\n",
    "y_loss = history.history['loss']\n",
    "\n",
    "# 그래프로 표현해 봅니다.\n",
    "x_len = np.arange(len(y_loss))\n",
    "plt.plot(x_len, y_vloss, marker='.', c=\"red\", label='Testset_loss')\n",
    "plt.plot(x_len, y_loss, marker='.', c=\"blue\", label='Trainset_loss')\n",
    "\n",
    "# 그래프에 그리드를 주고 레이블을 표시해 보겠습니다.\n",
    "plt.legend(loc='upper right')\n",
    "plt.grid()\n",
    "plt.xlabel('epoch')\n",
    "plt.ylabel('loss')\n",
    "plt.show()"
   ]
  }
 ],
 "metadata": {
  "kernelspec": {
   "display_name": "p39-env",
   "language": "python",
   "name": "python3"
  },
  "language_info": {
   "codemirror_mode": {
    "name": "ipython",
    "version": 3
   },
   "file_extension": ".py",
   "mimetype": "text/x-python",
   "name": "python",
   "nbconvert_exporter": "python",
   "pygments_lexer": "ipython3",
   "version": "3.9.16"
  },
  "orig_nbformat": 4
 },
 "nbformat": 4,
 "nbformat_minor": 2
}
