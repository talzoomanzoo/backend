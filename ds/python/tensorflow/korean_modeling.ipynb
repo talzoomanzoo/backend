{
 "cells": [
  {
   "cell_type": "markdown",
   "metadata": {},
   "source": [
    "#CNN을 문자에도 사용\n",
    "https://arxiv.org/abs/1408.5882 + 사진 cnn-for-sentence\n",
    "- X batch, embedding layer 통과 5차원으로\n",
    "- feature map = output of a filter\n",
    "- kernel size 2씩 stride -> 6개 (대응되는 것 곱해서 출력) 곱해서 더하니까 5 -> 1\n",
    "- kernel size 3씩 stride -> 5개 (대응되는 것 곱해서 출력)\n",
    "- kernel size 4씩 stride -> 4개 (대응되는 것 곱해서 출력)\n",
    "global max pooling\n",
    "- 전체에선 max 값 -> concat  -> dense: 2개\n",
    "\n",
    "- Sequential로 해결이 안되서 subclassing기법을 사용해야 함"
   ]
  },
  {
   "cell_type": "code",
   "execution_count": 1,
   "metadata": {},
   "outputs": [],
   "source": [
    "import tensorflow as tf\n",
    "from tensorflow.keras.preprocessing.sequence import pad_sequences\n",
    "from tensorflow.keras.callbacks import EarlyStopping, ModelCheckpoint\n",
    "from tensorflow.keras import layers\n",
    "\n",
    "import numpy as np\n",
    "import pandas as pd\n",
    "\n",
    "import matplotlib.pyplot as plt\n",
    "import os\n",
    "import json\n",
    "os.environ['KMP_DUPLICATE_LIB_OK'] = \"TRUE\""
   ]
  },
  {
   "cell_type": "code",
   "execution_count": 2,
   "metadata": {},
   "outputs": [],
   "source": [
    "def plot_graphs(history, string):\n",
    "    plt.plot(history.history[string])\n",
    "    plt.plot(history.history['val_'+string], '')\n",
    "    plt.xlabel(\"Epochs\")\n",
    "    plt.ylabel(string)\n",
    "    plt.legend([string, 'val_'+string])\n",
    "    plt.show()"
   ]
  },
  {
   "cell_type": "code",
   "execution_count": 3,
   "metadata": {},
   "outputs": [],
   "source": [
    "DATA_IN_PATH = './data-in/'\n",
    "DATA_OUT_PATH = './data-out/'\n",
    "INPUT_TRAIN_DATA = 'nsmc_train_input.npy'\n",
    "LABEL_TRAIN_DATA = 'nsmc_train_label.npy'\n",
    "DATA_CONFIGS = 'nsmc_data_configs.json'"
   ]
  },
  {
   "cell_type": "code",
   "execution_count": 4,
   "metadata": {},
   "outputs": [],
   "source": [
    "SEED_NUM = 1234\n",
    "tf.random.set_seed(SEED_NUM)"
   ]
  },
  {
   "cell_type": "code",
   "execution_count": 5,
   "metadata": {},
   "outputs": [],
   "source": [
    "train_input = np.load(open(DATA_IN_PATH + INPUT_TRAIN_DATA, 'rb'))\n",
    "train_label = np.load(open(DATA_IN_PATH + LABEL_TRAIN_DATA, 'rb'))\n",
    "prepro_configs = json.load(open(DATA_IN_PATH + DATA_CONFIGS, 'r'))"
   ]
  },
  {
   "cell_type": "code",
   "execution_count": 6,
   "metadata": {},
   "outputs": [],
   "source": [
    "model_name = 'cnn_classifier_kr'\n",
    "BATCH_SIZE = 512\n",
    "NUM_EPOCHS = 10\n",
    "VALID_SPLIT = 0.1\n",
    "MAX_LEN = train_input.shape[1] #0 sample 수, 1 feature 수\n",
    "\n",
    "kargs = {'model_name': model_name,\n",
    "        'vocab_size': prepro_configs['vocab_size'],\n",
    "        'embedding_size': 128,\n",
    "        'num_filters': 100,\n",
    "        'dropout_rate': 0.5,\n",
    "        'hidden_dimension': 250,\n",
    "        'output_dimension':1}"
   ]
  },
  {
   "cell_type": "code",
   "execution_count": 7,
   "metadata": {},
   "outputs": [
    {
     "data": {
      "text/plain": [
       "43756"
      ]
     },
     "execution_count": 7,
     "metadata": {},
     "output_type": "execute_result"
    }
   ],
   "source": [
    "prepro_configs['vocab_size']"
   ]
  },
  {
   "cell_type": "code",
   "execution_count": 8,
   "metadata": {},
   "outputs": [],
   "source": [
    "class CNNClassifier(tf.keras.Model):\n",
    "    \n",
    "    def __init__(self, **kargs):\n",
    "        super(CNNClassifier, self).__init__(name=kargs['model_name'])\n",
    "        self.embedding = layers.Embedding(input_dim=kargs['vocab_size']+1,\n",
    "                                     output_dim=kargs['embedding_size'])  #128 압축 d=128 (밀집벡터) \n",
    "        self.conv_list = [layers.Conv1D(filters=kargs['num_filters'], #100\n",
    "                                   kernel_size=kernel_size, #3, 4, 5\n",
    "                                   padding='valid', #default 유효한 영역만 출력, 출력의 사이즈는 입력 보다 작음, ‘same’ : 출력 이미지 사이즈가 입력 이미지 사이즈와 동일\n",
    "                                   activation='relu',\n",
    "                                   kernel_constraint=tf.keras.constraints.MaxNorm(max_value=3.)) #가중치가 너무 커지면 불안정해질까봐 누름\n",
    "                                      #MaxNorm(max_value=3.) 커널의 가중치값이 최대 값 3을 넘지 않게 설정\n",
    "                         for kernel_size in [3,4,5]]\n",
    "        self.pooling = layers.GlobalMaxPooling1D() #전체에서 max값 하나\n",
    "        self.dropout = layers.Dropout(kargs['dropout_rate'])\n",
    "        self.fc1 = layers.Dense(units=kargs['hidden_dimension'], #Positive integer, dimensionality of the output space. 250\n",
    "                           activation='relu',\n",
    "                           kernel_constraint=tf.keras.constraints.MaxNorm(max_value=3.)) #max_value=max norm value for the incoming weights, #kernel_constraint= Constraint function applied to the kernel weights matrix \n",
    "        self.fc2 = layers.Dense(units=kargs['output_dimension'], #Positive integer, dimensionality of the output space. 1\n",
    "                           activation='sigmoid', \n",
    "                           kernel_constraint=tf.keras.constraints.MaxNorm(max_value=3.))\n",
    "    \n",
    "    def call(self, x):\n",
    "        x = self.embedding(x) #(43756+1) * 128\n",
    "        x = self.dropout(x)\n",
    "        x = tf.concat([self.pooling(conv(x)) for conv in self.conv_list], axis=-1) #axis=-1가장 마지막 차원 기준으로 붙이기 #(128*3)*100+ 100, (128*4)*100+100, (128*5)*100+100\n",
    "        #( axis=0, axis=1, axis=2)와 ( axis=-3, axis=-2 , axis =-1 ) 같은 의미\n",
    "        x = self.fc1(x) # 300*250+250\n",
    "        x = self.fc2(x) # 250*1+1\n",
    "        \n",
    "        return x"
   ]
  },
  {
   "cell_type": "code",
   "execution_count": 9,
   "metadata": {},
   "outputs": [],
   "source": [
    "model = CNNClassifier(**kargs)\n",
    "\n",
    "model.compile(optimizer='adam', loss='binary_crossentropy', metrics=['accuracy'])"
   ]
  },
  {
   "cell_type": "code",
   "execution_count": 10,
   "metadata": {},
   "outputs": [
    {
     "name": "stdout",
     "output_type": "stream",
     "text": [
      "Model: \"cnn_classifier_kr\"\n",
      "_________________________________________________________________\n",
      " Layer (type)                Output Shape              Param #   \n",
      "=================================================================\n",
      " embedding (Embedding)       multiple                  5600896   \n",
      "                                                                 \n",
      " conv1d (Conv1D)             multiple                  38500     \n",
      "                                                                 \n",
      " conv1d_1 (Conv1D)           multiple                  51300     \n",
      "                                                                 \n",
      " conv1d_2 (Conv1D)           multiple                  64100     \n",
      "                                                                 \n",
      " global_max_pooling1d (Globa  multiple                 0         \n",
      " lMaxPooling1D)                                                  \n",
      "                                                                 \n",
      " dropout (Dropout)           multiple                  0         \n",
      "                                                                 \n",
      " dense (Dense)               multiple                  75250     \n",
      "                                                                 \n",
      " dense_1 (Dense)             multiple                  251       \n",
      "                                                                 \n",
      "=================================================================\n",
      "Total params: 5,830,297\n",
      "Trainable params: 5,830,297\n",
      "Non-trainable params: 0\n",
      "_________________________________________________________________\n"
     ]
    }
   ],
   "source": [
    "model.build((BATCH_SIZE, prepro_configs['vocab_size'] + 1))\n",
    "model.summary()"
   ]
  },
  {
   "cell_type": "code",
   "execution_count": 11,
   "metadata": {},
   "outputs": [
    {
     "name": "stdout",
     "output_type": "stream",
     "text": [
      "./data-out/cnn_classifier_kr -- Folder already exists \n",
      "\n"
     ]
    }
   ],
   "source": [
    "# overfitting을 막기 위한 ealrystop 추가\n",
    "earlystop_callback = EarlyStopping(monitor='val_accuracy', min_delta=0.0001,patience=2)\n",
    "# min_delta: the threshold that triggers the termination (acc should at least improve 0.0001)\n",
    "# patience: no improvment epochs (patience = 1, 1번 이상 상승이 없으면 종료)\\\n",
    "\n",
    "checkpoint_path = DATA_OUT_PATH + model_name + '/weights.h5'\n",
    "checkpoint_dir = os.path.dirname(checkpoint_path)\n",
    "\n",
    "# Create path if exists\n",
    "if os.path.exists(checkpoint_dir):\n",
    "    print(\"{} -- Folder already exists \\n\".format(checkpoint_dir))\n",
    "else:\n",
    "    os.makedirs(checkpoint_dir, exist_ok=True)\n",
    "    print(\"{} -- Folder create complete \\n\".format(checkpoint_dir))\n",
    "    \n",
    "\n",
    "cp_callback = ModelCheckpoint(\n",
    "    checkpoint_path, monitor='val_accuracy', verbose=1, save_best_only=True, save_weights_only=True) #최대만,가중치만 저장"
   ]
  },
  {
   "cell_type": "markdown",
   "metadata": {},
   "source": [
    "- subclassing은 model.summary()는 model.fit 할때 만들어지기 때문에 불가능, 수동 model 만들어야 학습 전에 볼 수 있음\n",
    "- Sequential() 로 layer 쌓으면 autobuild 되기 때문에 model.summary 불가능"
   ]
  },
  {
   "cell_type": "code",
   "execution_count": 12,
   "metadata": {},
   "outputs": [
    {
     "name": "stdout",
     "output_type": "stream",
     "text": [
      "Epoch 1/10\n",
      "264/264 [==============================] - ETA: 0s - loss: 0.4601 - accuracy: 0.7750\n",
      "Epoch 1: val_accuracy improved from -inf to 0.82140, saving model to ./data-out/cnn_classifier_kr\\weights.h5\n",
      "264/264 [==============================] - 22s 74ms/step - loss: 0.4601 - accuracy: 0.7750 - val_loss: 0.3937 - val_accuracy: 0.8214\n",
      "Epoch 2/10\n",
      "264/264 [==============================] - ETA: 0s - loss: 0.3515 - accuracy: 0.8461\n",
      "Epoch 2: val_accuracy improved from 0.82140 to 0.82947, saving model to ./data-out/cnn_classifier_kr\\weights.h5\n",
      "264/264 [==============================] - 19s 71ms/step - loss: 0.3515 - accuracy: 0.8461 - val_loss: 0.3829 - val_accuracy: 0.8295\n",
      "Epoch 3/10\n",
      "264/264 [==============================] - ETA: 0s - loss: 0.3001 - accuracy: 0.8726\n",
      "Epoch 3: val_accuracy did not improve from 0.82947\n",
      "264/264 [==============================] - 17s 65ms/step - loss: 0.3001 - accuracy: 0.8726 - val_loss: 0.3961 - val_accuracy: 0.8227\n",
      "Epoch 4/10\n",
      "264/264 [==============================] - ETA: 0s - loss: 0.2562 - accuracy: 0.8936\n",
      "Epoch 4: val_accuracy did not improve from 0.82947\n",
      "264/264 [==============================] - 17s 65ms/step - loss: 0.2562 - accuracy: 0.8936 - val_loss: 0.4143 - val_accuracy: 0.8225\n"
     ]
    }
   ],
   "source": [
    "history = model.fit(train_input, train_label, batch_size=BATCH_SIZE, epochs=NUM_EPOCHS,\n",
    "                    validation_split=VALID_SPLIT, callbacks=[earlystop_callback, cp_callback])"
   ]
  },
  {
   "cell_type": "code",
   "execution_count": 13,
   "metadata": {},
   "outputs": [
    {
     "data": {
      "image/png": "[encoded data removed]",
      "text/plain": [
       "<Figure size 640x480 with 1 Axes>"
      ]
     },
     "metadata": {},
     "output_type": "display_data"
    }
   ],
   "source": [
    "plot_graphs(history, 'loss')"
   ]
  },
  {
   "cell_type": "code",
   "execution_count": 14,
   "metadata": {},
   "outputs": [
    {
     "data": {
      "image/png": "[encoded data removed]",
      "text/plain": [
       "<Figure size 640x480 with 1 Axes>"
      ]
     },
     "metadata": {},
     "output_type": "display_data"
    }
   ],
   "source": [
    "plot_graphs(history, 'accuracy')"
   ]
  },
  {
   "cell_type": "code",
   "execution_count": 16,
   "metadata": {},
   "outputs": [],
   "source": [
    "DATA_OUT_PATH = './data-out/'\n",
    "INPUT_TEST_DATA = 'nsmc_test_input.npy'\n",
    "LABEL_TEST_DATA = 'nsmc_test_label.npy'\n",
    "SAVE_FILE_NM = 'weights.h5'"
   ]
  },
  {
   "cell_type": "code",
   "execution_count": 17,
   "metadata": {},
   "outputs": [],
   "source": [
    "test_input = np.load(open(DATA_IN_PATH + INPUT_TEST_DATA, 'rb'))\n",
    "test_label_data = np.load(open(DATA_IN_PATH + LABEL_TEST_DATA, 'rb'))"
   ]
  },
  {
   "cell_type": "code",
   "execution_count": 18,
   "metadata": {},
   "outputs": [],
   "source": [
    "model.load_weights(os.path.join(DATA_OUT_PATH, model_name, SAVE_FILE_NM))"
   ]
  },
  {
   "cell_type": "code",
   "execution_count": 19,
   "metadata": {},
   "outputs": [
    {
     "name": "stdout",
     "output_type": "stream",
     "text": [
      "1563/1563 [==============================] - 3s 2ms/step - loss: 0.3866 - accuracy: 0.8276\n"
     ]
    },
    {
     "data": {
      "text/plain": [
       "[0.38663381338119507, 0.8276000022888184]"
      ]
     },
     "execution_count": 19,
     "metadata": {},
     "output_type": "execute_result"
    }
   ],
   "source": [
    "model.evaluate(test_input, test_label_data)"
   ]
  }
 ],
 "metadata": {
  "kernelspec": {
   "display_name": "p39-env",
   "language": "python",
   "name": "python3"
  },
  "language_info": {
   "codemirror_mode": {
    "name": "ipython",
    "version": 3
   },
   "file_extension": ".py",
   "mimetype": "text/x-python",
   "name": "python",
   "nbconvert_exporter": "python",
   "pygments_lexer": "ipython3",
   "version": "3.9.16"
  },
  "orig_nbformat": 4
 },
 "nbformat": 4,
 "nbformat_minor": 2
}
