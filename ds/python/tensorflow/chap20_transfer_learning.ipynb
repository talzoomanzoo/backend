{
 "cells": [
  {
   "cell_type": "code",
   "execution_count": 1,
   "metadata": {},
   "outputs": [],
   "source": [
    "import tensorflow as tf\n",
    "import numpy as np\n",
    "import matplotlib.pyplot as plt\n",
    "\n",
    "from tensorflow.keras.preprocessing.image import ImageDataGenerator\n",
    "from tensorflow.keras import Input, models, layers, optimizers, metrics\n",
    "from tensorflow.keras.layers import Dense, Flatten\n",
    "from tensorflow.keras.applications import VGG16\n",
    "import os\n",
    "os.environ['KMP_DUPLICATE_LIB_OK'] = \"TRUE\""
   ]
  },
  {
   "cell_type": "code",
   "execution_count": 3,
   "metadata": {},
   "outputs": [],
   "source": [
    "b_size = 5\n",
    "\n",
    "train_datagen = ImageDataGenerator(rescale=1./255,\n",
    "                                  horizontal_flip=True,     #수평 대칭 이미지를 50% 확률로 만들어 추가합니다.\n",
    "                                  width_shift_range=0.1,  #전체 크기의 10% 범위에서 좌우로 이동합니다.\n",
    "                                  height_shift_range=0.1, #마찬가지로 위, 아래로 이동합니다.\n",
    "                                  #rotation_range=5,\n",
    "                                  #shear_range=0.7,\n",
    "                                  #zoom_range=[0.9, 2.2],\n",
    "                                  #vertical_flip=True,\n",
    "                                  fill_mode='nearest') #주위의 px 값으로 채움"
   ]
  },
  {
   "cell_type": "code",
   "execution_count": 4,
   "metadata": {},
   "outputs": [
    {
     "name": "stdout",
     "output_type": "stream",
     "text": [
      "Found 160 images belonging to 2 classes.\n",
      "Found 120 images belonging to 2 classes.\n"
     ]
    }
   ],
   "source": [
    "train_generator = train_datagen.flow_from_directory(\n",
    "       'data/train',   #학습셋이 있는 폴더의 위치입니다.\n",
    "       target_size=(150, 150),\n",
    "       batch_size=b_size,\n",
    "       class_mode='binary')\n",
    "\n",
    "#테스트 셋은 이미지 부풀리기 과정을 진행하지 않습니다.\n",
    "test_datagen = ImageDataGenerator(rescale=1./255)  \n",
    "\n",
    "test_generator = test_datagen.flow_from_directory(\n",
    "       'data/test',   #테스트셋이 있는 폴더의 위치입니다.\n",
    "       target_size=(150, 150),\n",
    "       batch_size=b_size,\n",
    "       class_mode='binary')"
   ]
  },
  {
   "cell_type": "code",
   "execution_count": 5,
   "metadata": {},
   "outputs": [
    {
     "name": "stdout",
     "output_type": "stream",
     "text": [
      "Downloading data from https://storage.googleapis.com/tensorflow/keras-applications/vgg16/vgg16_weights_tf_dim_ordering_tf_kernels_notop.h5\n",
      "58889256/58889256 [==============================] - 3s 0us/step\n",
      "Model: \"vgg16\"\n",
      "_________________________________________________________________\n",
      " Layer (type)                Output Shape              Param #   \n",
      "=================================================================\n",
      " input_1 (InputLayer)        [(None, 150, 150, 3)]     0         \n",
      "                                                                 \n",
      " block1_conv1 (Conv2D)       (None, 150, 150, 64)      1792      \n",
      "                                                                 \n",
      " block1_conv2 (Conv2D)       (None, 150, 150, 64)      36928     \n",
      "                                                                 \n",
      " block1_pool (MaxPooling2D)  (None, 75, 75, 64)        0         \n",
      "                                                                 \n",
      " block2_conv1 (Conv2D)       (None, 75, 75, 128)       73856     \n",
      "                                                                 \n",
      " block2_conv2 (Conv2D)       (None, 75, 75, 128)       147584    \n",
      "                                                                 \n",
      " block2_pool (MaxPooling2D)  (None, 37, 37, 128)       0         \n",
      "                                                                 \n",
      " block3_conv1 (Conv2D)       (None, 37, 37, 256)       295168    \n",
      "                                                                 \n",
      " block3_conv2 (Conv2D)       (None, 37, 37, 256)       590080    \n",
      "                                                                 \n",
      " block3_conv3 (Conv2D)       (None, 37, 37, 256)       590080    \n",
      "                                                                 \n",
      " block3_pool (MaxPooling2D)  (None, 18, 18, 256)       0         \n",
      "                                                                 \n",
      " block4_conv1 (Conv2D)       (None, 18, 18, 512)       1180160   \n",
      "                                                                 \n",
      " block4_conv2 (Conv2D)       (None, 18, 18, 512)       2359808   \n",
      "                                                                 \n",
      " block4_conv3 (Conv2D)       (None, 18, 18, 512)       2359808   \n",
      "                                                                 \n",
      " block4_pool (MaxPooling2D)  (None, 9, 9, 512)         0         \n",
      "                                                                 \n",
      " block5_conv1 (Conv2D)       (None, 9, 9, 512)         2359808   \n",
      "                                                                 \n",
      " block5_conv2 (Conv2D)       (None, 9, 9, 512)         2359808   \n",
      "                                                                 \n",
      " block5_conv3 (Conv2D)       (None, 9, 9, 512)         2359808   \n",
      "                                                                 \n",
      " block5_pool (MaxPooling2D)  (None, 4, 4, 512)         0         \n",
      "                                                                 \n",
      "=================================================================\n",
      "Total params: 14,714,688\n",
      "Trainable params: 0\n",
      "Non-trainable params: 14,714,688\n",
      "_________________________________________________________________\n"
     ]
    }
   ],
   "source": [
    "transfer_model = VGG16(weights='imagenet', include_top=False, input_shape=(150, 150, 3))\n",
    "transfer_model.trainable = False\n",
    "transfer_model.summary()"
   ]
  },
  {
   "cell_type": "code",
   "execution_count": 7,
   "metadata": {},
   "outputs": [
    {
     "name": "stdout",
     "output_type": "stream",
     "text": [
      "Model: \"sequential_1\"\n",
      "_________________________________________________________________\n",
      " Layer (type)                Output Shape              Param #   \n",
      "=================================================================\n",
      " vgg16 (Functional)          (None, 4, 4, 512)         14714688  \n",
      "                                                                 \n",
      " flatten_1 (Flatten)         (None, 8192)              0         \n",
      "                                                                 \n",
      " dense_2 (Dense)             (None, 64)                524352    \n",
      "                                                                 \n",
      " dense_3 (Dense)             (None, 1)                 65        \n",
      "                                                                 \n",
      "=================================================================\n",
      "Total params: 15,239,105\n",
      "Trainable params: 524,417\n",
      "Non-trainable params: 14,714,688\n",
      "_________________________________________________________________\n"
     ]
    }
   ],
   "source": [
    "finetune_model = models.Sequential()\n",
    "finetune_model.add(transfer_model)\n",
    "finetune_model.add(Flatten())\n",
    "finetune_model.add(Dense(64, activation='relu'))\n",
    "finetune_model.add(Dense(1, activation='sigmoid'))\n",
    "finetune_model.summary()"
   ]
  },
  {
   "cell_type": "code",
   "execution_count": 8,
   "metadata": {},
   "outputs": [],
   "source": [
    "finetune_model.compile(loss='binary_crossentropy', \n",
    "                       optimizer=optimizers.Adam(learning_rate=0.0002), metrics=['accuracy'])"
   ]
  },
  {
   "cell_type": "code",
   "execution_count": 9,
   "metadata": {},
   "outputs": [
    {
     "name": "stdout",
     "output_type": "stream",
     "text": [
      "Epoch 1/20\n",
      "32/32 [==============================] - 18s 527ms/step - loss: 0.6867 - accuracy: 0.5500 - val_loss: 0.4835 - val_accuracy: 0.8167\n",
      "Epoch 2/20\n",
      "32/32 [==============================] - 16s 494ms/step - loss: 0.4066 - accuracy: 0.8875 - val_loss: 0.3678 - val_accuracy: 0.9167\n",
      "Epoch 3/20\n",
      "32/32 [==============================] - 16s 504ms/step - loss: 0.3296 - accuracy: 0.8938 - val_loss: 0.2921 - val_accuracy: 0.9417\n",
      "Epoch 4/20\n",
      "32/32 [==============================] - 17s 531ms/step - loss: 0.2344 - accuracy: 0.9563 - val_loss: 0.2469 - val_accuracy: 0.9500\n",
      "Epoch 5/20\n",
      "32/32 [==============================] - 16s 492ms/step - loss: 0.2006 - accuracy: 0.9750 - val_loss: 0.2204 - val_accuracy: 0.9583\n",
      "Epoch 6/20\n",
      "32/32 [==============================] - 15s 474ms/step - loss: 0.1923 - accuracy: 0.9500 - val_loss: 0.2248 - val_accuracy: 0.9167\n",
      "Epoch 7/20\n",
      "32/32 [==============================] - 15s 475ms/step - loss: 0.1653 - accuracy: 0.9500 - val_loss: 0.2428 - val_accuracy: 0.8917\n",
      "Epoch 8/20\n",
      "32/32 [==============================] - 16s 506ms/step - loss: 0.1641 - accuracy: 0.9625 - val_loss: 0.2002 - val_accuracy: 0.9250\n",
      "Epoch 9/20\n",
      "32/32 [==============================] - 15s 477ms/step - loss: 0.1258 - accuracy: 0.9812 - val_loss: 0.1551 - val_accuracy: 0.9417\n",
      "Epoch 10/20\n",
      "32/32 [==============================] - 16s 517ms/step - loss: 0.1345 - accuracy: 0.9500 - val_loss: 0.1543 - val_accuracy: 0.9333\n",
      "Epoch 11/20\n",
      "32/32 [==============================] - 16s 502ms/step - loss: 0.1041 - accuracy: 0.9875 - val_loss: 0.1602 - val_accuracy: 0.9333\n",
      "Epoch 12/20\n",
      "32/32 [==============================] - 16s 516ms/step - loss: 0.1287 - accuracy: 0.9563 - val_loss: 0.1224 - val_accuracy: 0.9750\n",
      "Epoch 13/20\n",
      "32/32 [==============================] - 15s 477ms/step - loss: 0.1203 - accuracy: 0.9688 - val_loss: 0.1173 - val_accuracy: 0.9667\n",
      "Epoch 14/20\n",
      "32/32 [==============================] - 17s 524ms/step - loss: 0.0865 - accuracy: 0.9750 - val_loss: 0.1364 - val_accuracy: 0.9417\n",
      "Epoch 15/20\n",
      "32/32 [==============================] - 17s 528ms/step - loss: 0.1044 - accuracy: 0.9688 - val_loss: 0.1112 - val_accuracy: 0.9667\n",
      "Epoch 16/20\n",
      "32/32 [==============================] - 16s 504ms/step - loss: 0.0964 - accuracy: 0.9750 - val_loss: 0.1045 - val_accuracy: 0.9667\n",
      "Epoch 17/20\n",
      "32/32 [==============================] - 15s 488ms/step - loss: 0.0886 - accuracy: 0.9688 - val_loss: 0.1126 - val_accuracy: 0.9583\n",
      "Epoch 18/20\n",
      "32/32 [==============================] - 15s 486ms/step - loss: 0.0694 - accuracy: 0.9875 - val_loss: 0.1103 - val_accuracy: 0.9583\n",
      "Epoch 19/20\n",
      "32/32 [==============================] - 15s 481ms/step - loss: 0.0860 - accuracy: 0.9688 - val_loss: 0.0936 - val_accuracy: 0.9583\n",
      "Epoch 20/20\n",
      "32/32 [==============================] - 15s 482ms/step - loss: 0.0921 - accuracy: 0.9688 - val_loss: 0.1210 - val_accuracy: 0.9500\n"
     ]
    }
   ],
   "source": [
    "history=finetune_model.fit(train_generator,\n",
    "                  epochs=20,\n",
    "                  validation_data=test_generator)"
   ]
  },
  {
   "cell_type": "markdown",
   "metadata": {},
   "source": [
    "#개, 고양이 vgg16으로 -- 학습시간은 줄어들고 정확도는 올라감"
   ]
  },
  {
   "cell_type": "code",
   "execution_count": null,
   "metadata": {},
   "outputs": [],
   "source": []
  }
 ],
 "metadata": {
  "kernelspec": {
   "display_name": "p39-env",
   "language": "python",
   "name": "python3"
  },
  "language_info": {
   "codemirror_mode": {
    "name": "ipython",
    "version": 3
   },
   "file_extension": ".py",
   "mimetype": "text/x-python",
   "name": "python",
   "nbconvert_exporter": "python",
   "pygments_lexer": "ipython3",
   "version": "3.9.16"
  },
  "orig_nbformat": 4
 },
 "nbformat": 4,
 "nbformat_minor": 2
}
