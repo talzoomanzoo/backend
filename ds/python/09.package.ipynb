{
 "cells": [
  {
   "cell_type": "markdown",
   "id": "1a4d4bcc-14f8-47e0-87dc-3db601d44505",
   "metadata": {},
   "source": [
    "# Package\n",
    "\n",
    "● 모듈의 묶음\n",
    "● 모듈 파일이 포함될 폴더까지 포함"
   ]
  },
  {
   "cell_type": "code",
   "execution_count": 2,
   "id": "9c9e7e8e-0b70-45b4-8ab1-06644d638e00",
   "metadata": {},
   "outputs": [
    {
     "ename": "ModuleNotFoundError",
     "evalue": "No module named 'roboadvisor'",
     "output_type": "error",
     "traceback": [
      "\u001b[1;31m---------------------------------------------------------------------------\u001b[0m",
      "\u001b[1;31mModuleNotFoundError\u001b[0m                       Traceback (most recent call last)",
      "Cell \u001b[1;32mIn[2], line 1\u001b[0m\n\u001b[1;32m----> 1\u001b[0m \u001b[38;5;28;01mimport\u001b[39;00m \u001b[38;5;21;01mroboadvisor\u001b[39;00m\u001b[38;5;21;01m.\u001b[39;00m\u001b[38;5;21;01manalysis\u001b[39;00m\u001b[38;5;21;01m.\u001b[39;00m\u001b[38;5;21;01mseries\u001b[39;00m\n\u001b[0;32m      2\u001b[0m roboadvisor\u001b[38;5;241m.\u001b[39manalysis\u001b[38;5;241m.\u001b[39mseries_test()\n",
      "\u001b[1;31mModuleNotFoundError\u001b[0m: No module named 'roboadvisor'"
     ]
    }
   ],
   "source": [
    "import roboadvisor.analysis.series\n",
    "roboadvisor.analysis.series_test()"
   ]
  },
  {
   "cell_type": "code",
   "execution_count": 3,
   "id": "ab7fcb5c-930d-4649-894c-27443656c62e",
   "metadata": {},
   "outputs": [
    {
     "name": "stdout",
     "output_type": "stream",
     "text": [
      "['D:\\\\source\\\\python', 'C:\\\\Users\\\\BIT\\\\AppData\\\\Local\\\\miniconda3\\\\envs\\\\p39-env\\\\python39.zip', 'C:\\\\Users\\\\BIT\\\\AppData\\\\Local\\\\miniconda3\\\\envs\\\\p39-env\\\\DLLs', 'C:\\\\Users\\\\BIT\\\\AppData\\\\Local\\\\miniconda3\\\\envs\\\\p39-env\\\\lib', 'C:\\\\Users\\\\BIT\\\\AppData\\\\Local\\\\miniconda3\\\\envs\\\\p39-env', '', 'C:\\\\Users\\\\BIT\\\\AppData\\\\Local\\\\miniconda3\\\\envs\\\\p39-env\\\\lib\\\\site-packages', 'C:\\\\Users\\\\BIT\\\\AppData\\\\Local\\\\miniconda3\\\\envs\\\\p39-env\\\\lib\\\\site-packages\\\\win32', 'C:\\\\Users\\\\BIT\\\\AppData\\\\Local\\\\miniconda3\\\\envs\\\\p39-env\\\\lib\\\\site-packages\\\\win32\\\\lib', 'C:\\\\Users\\\\BIT\\\\AppData\\\\Local\\\\miniconda3\\\\envs\\\\p39-env\\\\lib\\\\site-packages\\\\Pythonwin']\n"
     ]
    }
   ],
   "source": [
    "import sys\n",
    "print(sys.path) #[0] 현재 노트북 파일 위치 --> 이제 여기서 모듈의 위치를 찾아야 함\n",
    "#여기에 지금 없어서 모듈이 있는 위치를 등록을 해줘야 함"
   ]
  },
  {
   "cell_type": "code",
   "execution_count": 4,
   "id": "ff90ec62-40f0-4a32-a5da-99fc9ccb600b",
   "metadata": {},
   "outputs": [
    {
     "name": "stdout",
     "output_type": "stream",
     "text": [
      "series\n"
     ]
    }
   ],
   "source": [
    "sys.path.append('D:\\\\source\\\\my_package') #윈도우는 \\\\, 리눅스 유닉스는 /\n",
    "import roboadvisor.analysis.series\n",
    "roboadvisor.analysis.series.series_test()"
   ]
  },
  {
   "cell_type": "code",
   "execution_count": 5,
   "id": "e329bdd3-6791-4efb-80a6-ff7f66152012",
   "metadata": {},
   "outputs": [
    {
     "name": "stdout",
     "output_type": "stream",
     "text": [
      "['D:\\\\source\\\\python', 'C:\\\\Users\\\\BIT\\\\AppData\\\\Local\\\\miniconda3\\\\envs\\\\p39-env\\\\python39.zip', 'C:\\\\Users\\\\BIT\\\\AppData\\\\Local\\\\miniconda3\\\\envs\\\\p39-env\\\\DLLs', 'C:\\\\Users\\\\BIT\\\\AppData\\\\Local\\\\miniconda3\\\\envs\\\\p39-env\\\\lib', 'C:\\\\Users\\\\BIT\\\\AppData\\\\Local\\\\miniconda3\\\\envs\\\\p39-env', '', 'C:\\\\Users\\\\BIT\\\\AppData\\\\Local\\\\miniconda3\\\\envs\\\\p39-env\\\\lib\\\\site-packages', 'C:\\\\Users\\\\BIT\\\\AppData\\\\Local\\\\miniconda3\\\\envs\\\\p39-env\\\\lib\\\\site-packages\\\\win32', 'C:\\\\Users\\\\BIT\\\\AppData\\\\Local\\\\miniconda3\\\\envs\\\\p39-env\\\\lib\\\\site-packages\\\\win32\\\\lib', 'C:\\\\Users\\\\BIT\\\\AppData\\\\Local\\\\miniconda3\\\\envs\\\\p39-env\\\\lib\\\\site-packages\\\\Pythonwin', 'D:\\\\source\\\\my_package']\n"
     ]
    }
   ],
   "source": [
    "print(sys.path)"
   ]
  },
  {
   "cell_type": "code",
   "execution_count": 1,
   "id": "38da2666-9d53-42da-a92e-85681d87b9d1",
   "metadata": {},
   "outputs": [
    {
     "name": "stdout",
     "output_type": "stream",
     "text": [
      "series\n"
     ]
    }
   ],
   "source": [
    "import sys\n",
    "sys.path.append('D:\\\\source\\\\my_package')\n",
    "from roboadvisor.analysis.series import series_test\n",
    "series_test()"
   ]
  },
  {
   "cell_type": "code",
   "execution_count": 2,
   "id": "792a748e-8676-48c0-9421-655de24e9ae8",
   "metadata": {},
   "outputs": [
    {
     "name": "stdout",
     "output_type": "stream",
     "text": [
      "series\n"
     ]
    }
   ],
   "source": [
    "import sys\n",
    "sys.path.append('D:\\\\source\\\\my_package')\n",
    "from roboadvisor.analysis import series\n",
    "series.series_test()"
   ]
  },
  {
   "cell_type": "code",
   "execution_count": 1,
   "id": "60518190-1ad9-40c5-a159-007c7e87e2c5",
   "metadata": {},
   "outputs": [
    {
     "ename": "AttributeError",
     "evalue": "module 'roboadvisor' has no attribute 'analysis'",
     "output_type": "error",
     "traceback": [
      "\u001b[1;31m---------------------------------------------------------------------------\u001b[0m",
      "\u001b[1;31mAttributeError\u001b[0m                            Traceback (most recent call last)",
      "Cell \u001b[1;32mIn[1], line 5\u001b[0m\n\u001b[0;32m      3\u001b[0m sys\u001b[38;5;241m.\u001b[39mpath\u001b[38;5;241m.\u001b[39mappend(\u001b[38;5;124m'\u001b[39m\u001b[38;5;124mD:\u001b[39m\u001b[38;5;130;01m\\\\\u001b[39;00m\u001b[38;5;124msource\u001b[39m\u001b[38;5;130;01m\\\\\u001b[39;00m\u001b[38;5;124mmy_package\u001b[39m\u001b[38;5;124m'\u001b[39m)\n\u001b[0;32m      4\u001b[0m \u001b[38;5;28;01mimport\u001b[39;00m \u001b[38;5;21;01mroboadvisor\u001b[39;00m\n\u001b[1;32m----> 5\u001b[0m \u001b[43mroboadvisor\u001b[49m\u001b[38;5;241;43m.\u001b[39;49m\u001b[43manalysis\u001b[49m\u001b[38;5;241m.\u001b[39mseries\u001b[38;5;241m.\u001b[39mseries_test()\n",
      "\u001b[1;31mAttributeError\u001b[0m: module 'roboadvisor' has no attribute 'analysis'"
     ]
    }
   ],
   "source": [
    "#에러나는 경우\n",
    "import sys\n",
    "sys.path.append('D:\\\\source\\\\my_package')\n",
    "import roboadvisor\n",
    "roboadvisor.analysis.series.series_test()"
   ]
  },
  {
   "cell_type": "code",
   "execution_count": 1,
   "id": "d8210044-7734-4f98-9953-f8e9800192bb",
   "metadata": {},
   "outputs": [
    {
     "ename": "ModuleNotFoundError",
     "evalue": "No module named 'roboadvisor.analysis.series.series_test'; 'roboadvisor.analysis.series' is not a package",
     "output_type": "error",
     "traceback": [
      "\u001b[1;31m---------------------------------------------------------------------------\u001b[0m",
      "\u001b[1;31mModuleNotFoundError\u001b[0m                       Traceback (most recent call last)",
      "Cell \u001b[1;32mIn[1], line 3\u001b[0m\n\u001b[0;32m      1\u001b[0m \u001b[38;5;28;01mimport\u001b[39;00m \u001b[38;5;21;01msys\u001b[39;00m\n\u001b[0;32m      2\u001b[0m sys\u001b[38;5;241m.\u001b[39mpath\u001b[38;5;241m.\u001b[39mappend(\u001b[38;5;124m'\u001b[39m\u001b[38;5;124mD:\u001b[39m\u001b[38;5;130;01m\\\\\u001b[39;00m\u001b[38;5;124msource\u001b[39m\u001b[38;5;130;01m\\\\\u001b[39;00m\u001b[38;5;124mmy_package\u001b[39m\u001b[38;5;124m'\u001b[39m)\n\u001b[1;32m----> 3\u001b[0m \u001b[38;5;28;01mimport\u001b[39;00m \u001b[38;5;21;01mroboadvisor\u001b[39;00m\u001b[38;5;21;01m.\u001b[39;00m\u001b[38;5;21;01manalysis\u001b[39;00m\u001b[38;5;21;01m.\u001b[39;00m\u001b[38;5;21;01mseries\u001b[39;00m\u001b[38;5;21;01m.\u001b[39;00m\u001b[38;5;21;01mseries_test\u001b[39;00m\n\u001b[0;32m      4\u001b[0m series_test()\n",
      "\u001b[1;31mModuleNotFoundError\u001b[0m: No module named 'roboadvisor.analysis.series.series_test'; 'roboadvisor.analysis.series' is not a package"
     ]
    }
   ],
   "source": [
    "import sys\n",
    "sys.path.append('D:\\\\source\\\\my_package')\n",
    "import roboadvisor.analysis.series.series_test\n",
    "series_test()\n",
    "#도트 연산자를 사용해서 import a.b.c 처럼 import 할 때\n",
    "#가장 마지막 항목인 c는 반드시 모듈 또는 패키지여야만 함 (함수는 올 수 없음)"
   ]
  },
  {
   "cell_type": "code",
   "execution_count": 1,
   "id": "3da9f940-4c30-45a1-bc0e-35cbe1abc0a3",
   "metadata": {},
   "outputs": [
    {
     "name": "stdout",
     "output_type": "stream",
     "text": [
      "series\n"
     ]
    }
   ],
   "source": [
    "#__init__ = __all__ = ['series', 'statics'] 생성해야 함\n",
    "import sys\n",
    "sys.path.append('D:\\\\source\\\\my_package')\n",
    "from roboadvisor.analysis import *\n",
    "series.series_test()"
   ]
  },
  {
   "cell_type": "code",
   "execution_count": 2,
   "id": "48e67677-cbc6-432a-bae9-0b4ce0c1393a",
   "metadata": {},
   "outputs": [
    {
     "name": "stdout",
     "output_type": "stream",
     "text": [
      "series\n"
     ]
    }
   ],
   "source": [
    "#roboadvisor 밑의 __init__ 파일과 관련 있음\n",
    "import sys\n",
    "sys.path.append('D:\\\\source\\\\my_package')\n",
    "import roboadvisor\n",
    "roboadvisor.analysis.series.series_test()"
   ]
  },
  {
   "cell_type": "code",
   "execution_count": 1,
   "id": "ffe91863-e339-45fe-b066-86148ccfd0fe",
   "metadata": {},
   "outputs": [
    {
     "name": "stdout",
     "output_type": "stream",
     "text": [
      "scrap\n",
      "connection\n"
     ]
    }
   ],
   "source": [
    "import sys #두 단계 위는 ....\n",
    "sys.path.append('D:\\\\source\\\\my_package')\n",
    "\n",
    "from roboadvisor.crawling.scrap import scrap_test\n",
    "scrap_test()"
   ]
  },
  {
   "cell_type": "code",
   "execution_count": null,
   "id": "f5fe9fe4-d91c-4b33-ae39-bbcd2b976e48",
   "metadata": {},
   "outputs": [],
   "source": []
  }
 ],
 "metadata": {
  "kernelspec": {
   "display_name": "Python 3 (ipykernel)",
   "language": "python",
   "name": "python3"
  },
  "language_info": {
   "codemirror_mode": {
    "name": "ipython",
    "version": 3
   },
   "file_extension": ".py",
   "mimetype": "text/x-python",
   "name": "python",
   "nbconvert_exporter": "python",
   "pygments_lexer": "ipython3",
   "version": "3.9.16"
  }
 },
 "nbformat": 4,
 "nbformat_minor": 5
}
